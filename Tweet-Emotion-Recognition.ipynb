{
 "cells": [
  {
   "cell_type": "markdown",
   "metadata": {
    "colab_type": "text",
    "id": "view-in-github"
   },
   "source": [
    "<a href=\"https://colab.research.google.com/github/shabnajL/Tweet_Emotion_Recognition/blob/main/Tweet_Emotion_Recognition.ipynb\" target=\"_parent\"><img src=\"https://colab.research.google.com/assets/colab-badge.svg\" alt=\"Open In Colab\"/></a>"
   ]
  },
  {
   "cell_type": "markdown",
   "metadata": {
    "id": "sp7D0ktn5eiG"
   },
   "source": [
    "## Tweet Emotion Recognition: Natural Language Processing with TensorFlow\n",
    "\n",
    "---\n",
    "\n",
    "Dataset: [Tweet Emotion Dataset](https://github.com/dair-ai/emotion_dataset)\n",
    "\n",
    "This is a starter notebook for the guided project [Tweet Emotion Recognition with TensorFlow](https://www.coursera.org/projects/tweet-emotion-tensorflow)\n",
    "\n",
    "A complete version of this notebook is available in the course resources\n",
    "\n",
    "---\n",
    "\n",
    "## Task 1: Introduction"
   ]
  },
  {
   "cell_type": "markdown",
   "metadata": {
    "id": "cprXxkrMxIgT"
   },
   "source": [
    "## Task 2: Setup and Imports\n",
    "\n",
    "1. Installing Hugging Face's nlp package\n",
    "2. Importing libraries"
   ]
  },
  {
   "cell_type": "code",
   "execution_count": 5,
   "metadata": {
    "colab": {
     "base_uri": "https://localhost:8080/"
    },
    "id": "5agZRy-45i0g",
    "outputId": "8edfccde-bffa-4653-96c5-094131a739ec"
   },
   "outputs": [
    {
     "name": "stdout",
     "output_type": "stream",
     "text": [
      "Requirement already satisfied: nlp in c:\\users\\bussa\\anaconda3\\envs\\atari_game\\lib\\site-packages (0.4.0)\n",
      "Requirement already satisfied: numpy in c:\\users\\bussa\\anaconda3\\envs\\atari_game\\lib\\site-packages (from nlp) (1.24.3)\n",
      "Requirement already satisfied: pyarrow>=0.16.0 in c:\\users\\bussa\\anaconda3\\envs\\atari_game\\lib\\site-packages (from nlp) (17.0.0)\n",
      "Requirement already satisfied: dill in c:\\users\\bussa\\anaconda3\\envs\\atari_game\\lib\\site-packages (from nlp) (0.3.8)\n",
      "Requirement already satisfied: pandas in c:\\users\\bussa\\anaconda3\\envs\\atari_game\\lib\\site-packages (from nlp) (2.2.3)\n",
      "Requirement already satisfied: requests>=2.19.0 in c:\\users\\bussa\\anaconda3\\envs\\atari_game\\lib\\site-packages (from nlp) (2.32.3)\n",
      "Requirement already satisfied: tqdm>=4.27 in c:\\users\\bussa\\anaconda3\\envs\\atari_game\\lib\\site-packages (from nlp) (4.66.4)\n",
      "Requirement already satisfied: filelock in c:\\users\\bussa\\anaconda3\\envs\\atari_game\\lib\\site-packages (from nlp) (3.15.3)\n",
      "Requirement already satisfied: xxhash in c:\\users\\bussa\\anaconda3\\envs\\atari_game\\lib\\site-packages (from nlp) (3.5.0)\n",
      "Requirement already satisfied: charset-normalizer<4,>=2 in c:\\users\\bussa\\anaconda3\\envs\\atari_game\\lib\\site-packages (from requests>=2.19.0->nlp) (3.3.2)\n",
      "Requirement already satisfied: idna<4,>=2.5 in c:\\users\\bussa\\anaconda3\\envs\\atari_game\\lib\\site-packages (from requests>=2.19.0->nlp) (3.7)\n",
      "Requirement already satisfied: urllib3<3,>=1.21.1 in c:\\users\\bussa\\anaconda3\\envs\\atari_game\\lib\\site-packages (from requests>=2.19.0->nlp) (2.2.2)\n",
      "Requirement already satisfied: certifi>=2017.4.17 in c:\\users\\bussa\\anaconda3\\envs\\atari_game\\lib\\site-packages (from requests>=2.19.0->nlp) (2024.6.2)\n",
      "Requirement already satisfied: colorama in c:\\users\\bussa\\anaconda3\\envs\\atari_game\\lib\\site-packages (from tqdm>=4.27->nlp) (0.4.6)\n",
      "Requirement already satisfied: python-dateutil>=2.8.2 in c:\\users\\bussa\\anaconda3\\envs\\atari_game\\lib\\site-packages (from pandas->nlp) (2.9.0)\n",
      "Requirement already satisfied: pytz>=2020.1 in c:\\users\\bussa\\anaconda3\\envs\\atari_game\\lib\\site-packages (from pandas->nlp) (2024.2)\n",
      "Requirement already satisfied: tzdata>=2022.7 in c:\\users\\bussa\\anaconda3\\envs\\atari_game\\lib\\site-packages (from pandas->nlp) (2024.2)\n",
      "Requirement already satisfied: six>=1.5 in c:\\users\\bussa\\anaconda3\\envs\\atari_game\\lib\\site-packages (from python-dateutil>=2.8.2->pandas->nlp) (1.16.0)\n"
     ]
    },
    {
     "name": "stderr",
     "output_type": "stream",
     "text": [
      "\n",
      "[notice] A new release of pip is available: 24.2 -> 24.3.1\n",
      "[notice] To update, run: python.exe -m pip install --upgrade pip\n"
     ]
    }
   ],
   "source": [
    "!pip install nlp"
   ]
  },
  {
   "cell_type": "code",
   "execution_count": 6,
   "metadata": {
    "colab": {
     "base_uri": "https://localhost:8080/"
    },
    "id": "yKFjWz6e5eiH",
    "outputId": "71ac412d-439b-49c2-bbcd-26a27dfdd083"
   },
   "outputs": [
    {
     "name": "stdout",
     "output_type": "stream",
     "text": [
      "Using TensorFlow version 2.13.0\n"
     ]
    }
   ],
   "source": [
    "import tensorflow as tf\n",
    "import numpy as np\n",
    "import matplotlib.pyplot as plt\n",
    "import nlp\n",
    "import random\n",
    "\n",
    "\n",
    "def show_history(h):\n",
    "    epochs_trained = len(h.history['loss'])\n",
    "    plt.figure(figsize=(16, 6))\n",
    "\n",
    "    plt.subplot(1, 2, 1)\n",
    "    plt.plot(range(0, epochs_trained), h.history.get('accuracy'), label='Training')\n",
    "    plt.plot(range(0, epochs_trained), h.history.get('val_accuracy'), label='Validation')\n",
    "    plt.ylim([0., 1.])\n",
    "    plt.xlabel('Epochs')\n",
    "    plt.ylabel('Accuracy')\n",
    "    plt.legend()\n",
    "\n",
    "    plt.subplot(1, 2, 2)\n",
    "    plt.plot(range(0, epochs_trained), h.history.get('loss'), label='Training')\n",
    "    plt.plot(range(0, epochs_trained), h.history.get('val_loss'), label='Validation')\n",
    "    plt.xlabel('Epochs')\n",
    "    plt.ylabel('Loss')\n",
    "    plt.legend()\n",
    "    plt.show()\n",
    "\n",
    "\n",
    "def show_confusion_matrix(y_true, y_pred, classes):\n",
    "    from sklearn.metrics import confusion_matrix\n",
    "\n",
    "    cm = confusion_matrix(y_true, y_pred, normalize='true')\n",
    "\n",
    "    plt.figure(figsize=(8, 8))\n",
    "    sp = plt.subplot(1, 1, 1)\n",
    "    ctx = sp.matshow(cm)\n",
    "    plt.xticks(list(range(0, 6)), labels=classes)\n",
    "    plt.yticks(list(range(0, 6)), labels=classes)\n",
    "    plt.colorbar(ctx)\n",
    "    plt.show()\n",
    "\n",
    "\n",
    "print('Using TensorFlow version', tf.__version__)"
   ]
  },
  {
   "cell_type": "markdown",
   "metadata": {
    "id": "7JsBpezExIga"
   },
   "source": [
    "## Task 3: Importing Data\n",
    "\n",
    "1. Importing the Tweet Emotion dataset\n",
    "2. Creating train, validation and test sets\n",
    "3. Extracting tweets and labels from the examples"
   ]
  },
  {
   "cell_type": "code",
   "execution_count": 7,
   "metadata": {},
   "outputs": [
    {
     "name": "stdout",
     "output_type": "stream",
     "text": [
      "Requirement already satisfied: datasets in c:\\users\\bussa\\anaconda3\\envs\\atari_game\\lib\\site-packages (3.1.0)\n",
      "Requirement already satisfied: filelock in c:\\users\\bussa\\anaconda3\\envs\\atari_game\\lib\\site-packages (from datasets) (3.15.3)\n",
      "Requirement already satisfied: numpy>=1.17 in c:\\users\\bussa\\anaconda3\\envs\\atari_game\\lib\\site-packages (from datasets) (1.24.3)\n",
      "Requirement already satisfied: pyarrow>=15.0.0 in c:\\users\\bussa\\anaconda3\\envs\\atari_game\\lib\\site-packages (from datasets) (17.0.0)\n",
      "Requirement already satisfied: dill<0.3.9,>=0.3.0 in c:\\users\\bussa\\anaconda3\\envs\\atari_game\\lib\\site-packages (from datasets) (0.3.8)\n",
      "Requirement already satisfied: pandas in c:\\users\\bussa\\anaconda3\\envs\\atari_game\\lib\\site-packages (from datasets) (2.2.3)\n",
      "Requirement already satisfied: requests>=2.32.2 in c:\\users\\bussa\\anaconda3\\envs\\atari_game\\lib\\site-packages (from datasets) (2.32.3)\n",
      "Requirement already satisfied: tqdm>=4.66.3 in c:\\users\\bussa\\anaconda3\\envs\\atari_game\\lib\\site-packages (from datasets) (4.66.4)\n",
      "Requirement already satisfied: xxhash in c:\\users\\bussa\\anaconda3\\envs\\atari_game\\lib\\site-packages (from datasets) (3.5.0)\n",
      "Requirement already satisfied: multiprocess<0.70.17 in c:\\users\\bussa\\anaconda3\\envs\\atari_game\\lib\\site-packages (from datasets) (0.70.16)\n",
      "Requirement already satisfied: fsspec<=2024.9.0,>=2023.1.0 in c:\\users\\bussa\\anaconda3\\envs\\atari_game\\lib\\site-packages (from fsspec[http]<=2024.9.0,>=2023.1.0->datasets) (2024.6.0)\n",
      "Requirement already satisfied: aiohttp in c:\\users\\bussa\\anaconda3\\envs\\atari_game\\lib\\site-packages (from datasets) (3.10.10)\n",
      "Requirement already satisfied: huggingface-hub>=0.23.0 in c:\\users\\bussa\\anaconda3\\envs\\atari_game\\lib\\site-packages (from datasets) (0.26.0)\n",
      "Requirement already satisfied: packaging in c:\\users\\bussa\\anaconda3\\envs\\atari_game\\lib\\site-packages (from datasets) (24.1)\n",
      "Requirement already satisfied: pyyaml>=5.1 in c:\\users\\bussa\\anaconda3\\envs\\atari_game\\lib\\site-packages (from datasets) (6.0.1)\n",
      "Requirement already satisfied: aiohappyeyeballs>=2.3.0 in c:\\users\\bussa\\anaconda3\\envs\\atari_game\\lib\\site-packages (from aiohttp->datasets) (2.4.3)\n",
      "Requirement already satisfied: aiosignal>=1.1.2 in c:\\users\\bussa\\anaconda3\\envs\\atari_game\\lib\\site-packages (from aiohttp->datasets) (1.3.1)\n",
      "Requirement already satisfied: attrs>=17.3.0 in c:\\users\\bussa\\anaconda3\\envs\\atari_game\\lib\\site-packages (from aiohttp->datasets) (23.2.0)\n",
      "Requirement already satisfied: frozenlist>=1.1.1 in c:\\users\\bussa\\anaconda3\\envs\\atari_game\\lib\\site-packages (from aiohttp->datasets) (1.4.1)\n",
      "Requirement already satisfied: multidict<7.0,>=4.5 in c:\\users\\bussa\\anaconda3\\envs\\atari_game\\lib\\site-packages (from aiohttp->datasets) (6.1.0)\n",
      "Requirement already satisfied: yarl<2.0,>=1.12.0 in c:\\users\\bussa\\anaconda3\\envs\\atari_game\\lib\\site-packages (from aiohttp->datasets) (1.15.5)\n",
      "Requirement already satisfied: async-timeout<5.0,>=4.0 in c:\\users\\bussa\\anaconda3\\envs\\atari_game\\lib\\site-packages (from aiohttp->datasets) (4.0.3)\n",
      "Requirement already satisfied: typing-extensions>=3.7.4.3 in c:\\users\\bussa\\anaconda3\\envs\\atari_game\\lib\\site-packages (from huggingface-hub>=0.23.0->datasets) (4.5.0)\n",
      "Requirement already satisfied: charset-normalizer<4,>=2 in c:\\users\\bussa\\anaconda3\\envs\\atari_game\\lib\\site-packages (from requests>=2.32.2->datasets) (3.3.2)\n",
      "Requirement already satisfied: idna<4,>=2.5 in c:\\users\\bussa\\anaconda3\\envs\\atari_game\\lib\\site-packages (from requests>=2.32.2->datasets) (3.7)\n",
      "Requirement already satisfied: urllib3<3,>=1.21.1 in c:\\users\\bussa\\anaconda3\\envs\\atari_game\\lib\\site-packages (from requests>=2.32.2->datasets) (2.2.2)\n",
      "Requirement already satisfied: certifi>=2017.4.17 in c:\\users\\bussa\\anaconda3\\envs\\atari_game\\lib\\site-packages (from requests>=2.32.2->datasets) (2024.6.2)\n",
      "Requirement already satisfied: colorama in c:\\users\\bussa\\anaconda3\\envs\\atari_game\\lib\\site-packages (from tqdm>=4.66.3->datasets) (0.4.6)\n",
      "Requirement already satisfied: python-dateutil>=2.8.2 in c:\\users\\bussa\\anaconda3\\envs\\atari_game\\lib\\site-packages (from pandas->datasets) (2.9.0)\n",
      "Requirement already satisfied: pytz>=2020.1 in c:\\users\\bussa\\anaconda3\\envs\\atari_game\\lib\\site-packages (from pandas->datasets) (2024.2)\n",
      "Requirement already satisfied: tzdata>=2022.7 in c:\\users\\bussa\\anaconda3\\envs\\atari_game\\lib\\site-packages (from pandas->datasets) (2024.2)\n",
      "Requirement already satisfied: six>=1.5 in c:\\users\\bussa\\anaconda3\\envs\\atari_game\\lib\\site-packages (from python-dateutil>=2.8.2->pandas->datasets) (1.16.0)\n",
      "Requirement already satisfied: propcache>=0.2.0 in c:\\users\\bussa\\anaconda3\\envs\\atari_game\\lib\\site-packages (from yarl<2.0,>=1.12.0->aiohttp->datasets) (0.2.0)\n"
     ]
    },
    {
     "name": "stderr",
     "output_type": "stream",
     "text": [
      "\n",
      "[notice] A new release of pip is available: 24.2 -> 24.3.1\n",
      "[notice] To update, run: python.exe -m pip install --upgrade pip\n"
     ]
    }
   ],
   "source": [
    "!pip install --upgrade datasets"
   ]
  },
  {
   "cell_type": "code",
   "execution_count": null,
   "metadata": {},
   "outputs": [],
   "source": []
  },
  {
   "cell_type": "code",
   "execution_count": 8,
   "metadata": {
    "colab": {
     "base_uri": "https://localhost:8080/",
     "height": 369,
     "referenced_widgets": [
      "574a35ab288d46f59f1e45db90deb93e",
      "015cbf2e9c464bc6b8497035bc0c0dc9",
      "b38f66eb1978430c9b69b21612de7bb6",
      "9e1fa8f74dd543799897f497bc2d03b5",
      "fe03b89095cd45259cd4d8622b8e80fd",
      "e9de0cf250d74115ad8edf9e8d8af9d6",
      "8179d1a147834ed4873fadfc724ceb26",
      "ebf0b1e44fce4302821faac6bf00d6b2",
      "b545f114c5684075bf7a4fd3a61b687a",
      "020398781d974995815327c44036bff3",
      "a14ec6ddb8c14b5e859e2991b1d1e8fe",
      "0379d617c46248c9a9bb1da2c6d5a551",
      "5165970aac234fd18618745582fadb6c",
      "3e5687d8b72c4213b321187e9d071f96",
      "c23d0f5e4af645fcbb315c1fb8f4cdef",
      "c728609bb54e461a9cacb4f5f573da61",
      "e57effe7fe7e4f2e880f5259b0ca0d07",
      "b2e1357741aa4383bab5619cbfb01dfd",
      "84007ad460a647ae92591b8b5d8d9688",
      "1a8391f4e21c4acc981feab9a8976c09",
      "3000718c1e6c496b87fcaad058d9f435",
      "66f2df5bdd484f84ac56adb0a34045a4",
      "1527be6182cc4ecc99d52adc74fe6f10",
      "e05f84dfe5464bd7918ab7f03dc47264",
      "ba8bd223bca74eb6a4e90c65a021cca5",
      "8418c9d7bc3848569f3cc99497ac3f02",
      "fb0ff772b9a94eec82bc92e45baeda26",
      "be118f57e6bd493881f40104ce700b7c",
      "50fa49ed210f434ab383f5a22660c8c0",
      "f734dde1f53a48ecb6b345bce1f77008",
      "94018f593c1142a1ae123240def73b6b",
      "cdcb59a941454152a70cc7bdefca3c4d",
      "5629e65367754664a68e324eb94bdaea",
      "8656f848d7a141049248db82aa70c521",
      "5f2bcc1cb119416799aeaae691e283be",
      "47808a31793144cd8130689ac61f7c7f",
      "af27bc1e491647bf8db3954f447407f6",
      "03453d6b25ac4d7989662063bcddd421",
      "001c5ec7f2a246a3ad559b3df72ed975",
      "bc0385c1acd745e8b128a5027f1b402c",
      "289fbaa37600404a8eccfecef98c6dbc",
      "6e41b42ba79a494fb439a0305156ac54",
      "8aa50e2a91ea454899eaeeb5850d95a0",
      "ed7714091e934647b96e386bc32ab645",
      "e0b26929afbd47c28d102001054c938d",
      "e97b526eb4de4816981d9a9feace8b8a",
      "dbfaecb922ff4226b816a13fbcdac968",
      "dc4036b13a7f4fa398f267d6374a50b2",
      "f618136065544b6aaa5bfa4087a64f51",
      "00e4f1d654684bd38ab22316dccbb2b5",
      "bfd4140925ff46fb914b65e2278f3bc1",
      "b7d86dc05f5d431c88c8463fc8f4c84c",
      "901a5341fed3494db9628332e3221ac3",
      "ea3780a3397340318d39f0e678d67aa8",
      "f195394a28b04b86ad7ca701a8a60053",
      "bb03a799978141969157d9dd2958a781",
      "785f0ff65e794e729ea914e827bb4a15",
      "daf9d3c320db46cebb8e0e1e6ac22ab9",
      "447abd6d4c8742848474ed3c3dfffd8d",
      "5669d3bc79bc407ea153dcab102e585f",
      "a0b49e58d19d4f648559e094059e7fcc",
      "f4b77d3c66c54cdb9ddf728ee5fcf9c2",
      "79d4b7ac447d435f965d416b872f324f",
      "fd706ab014a54621b9f6c44d3be2d281",
      "78bb5c03093642628e8fea9acd9ca29c",
      "e1233339e1f2435198764838636d10e5",
      "44f7c7305bfa4ca9b849cba99ee5ed67",
      "d3d3ca5032bb42049eaeb93635035a85",
      "60ad4afe8e6849cba857179278fc78df",
      "1ff8d81d9f5f4067ac6f81f722d35bcd",
      "6006e205d25044aea59c417b0401be03",
      "f6c5553a45f4473a98c37d1695240246",
      "69a40dff6bd24720a051c03ce593d885",
      "0c1d6fcd6e7c406cb6342d1147d39cf9",
      "1628e1875292499284003ca21d35b9c2",
      "9d47c669b2f84129b2a3c717b69df7b3",
      "ef8b9ce2c8a94d89b10dccb889a390bb",
      "82624210664d4a68a8a2fc5c0d866820",
      "818f0564af8d4558af635e0a4de95360",
      "97e38558a78749d38f3ecac441e957b5",
      "aed989bcb5ed4ab8bda0c188bd856972",
      "14f8a9ef54664365b38fd17dd78ea4b7",
      "2d155de122794d248231a31a6eed449d",
      "4496e43095f342c182e652ad6f34b4a7",
      "f98233055231457a962962b1cd3211ef",
      "2b44a3bfbef149ffb837f1176608ed00",
      "9027d98a59234284bda7a1c2103d64fa",
      "33057177cbd94dd5a5e85a5f267501c2",
      "cae19bce2a2a478a844dd04f8a9c6543",
      "352ba20828584319ad07d83e625a8142",
      "144c459785f641e4bce438b8f29fe1a7",
      "ec2bda06175f4055a3b16e12a6f22a62",
      "8f2793cd5f6c4a7292718183f0883681",
      "954abe4556f3413ea32ff45ab3bce54a",
      "38bfe1c2bbae4c928008aa9f6d26fcbf",
      "25c0f1e4ecb84543a5db5c372484e48f",
      "0cc73913928a4dbc994e5f551881bdf1",
      "b0d06a919a5d4556b29e39a6eb439438",
      "a17fbfae8c574c9e934999f2db498c5a",
      "e5e16bed325c489f89fb62c05365be14",
      "7114c28deedf48e6804f3d3217e1f776",
      "3bc13db8d8f0436e872ecc11a5c47fe5",
      "c3936f7fe91a46c59b78cfde0a568b52",
      "391c186edce1430db9b619d9cb783562",
      "4041395dfb6a4311a00d3ed2ded00b56",
      "3557a7d439d44d5cb7e25c16ddf5214e",
      "dec8332589d6410c94619545223b9726",
      "5a40082bca514bd1a73cc52a5c466a88",
      "ce420e36b7d940568848e44580942b64",
      "31935600768b466bbc0075d375982cbe",
      "3e943840a21d499e8d42c431bd1635ff",
      "a32d1413ebc9449eaaee26e89a8eaa5d",
      "e688e1594b454e86a7dedf736ff6c18d",
      "da25b74745b24e8496ada19f8d756c50",
      "af79e1e5045f469b8684784e21a32617",
      "fab656d532284d639dd26e15b93a462b",
      "f9eb586b1b2d49edb147eff277b38c30",
      "2bfe13e4c4464557b76fd51da52fe07f",
      "b2c7d3d7a8304b8e8f955c8617555064",
      "d5de20d055974984a784c68df2fbe54d",
      "6905f883d1774b62a1c7029329d6c1b2"
     ]
    },
    "id": "0YHOvjAu5eiL",
    "outputId": "063828e1-3a85-46f2-cd6b-2a87624de306"
   },
   "outputs": [],
   "source": [
    "import datasets\n",
    "dataset = datasets.load_dataset('emotion')"
   ]
  },
  {
   "cell_type": "code",
   "execution_count": 9,
   "metadata": {
    "colab": {
     "base_uri": "https://localhost:8080/"
    },
    "id": "2s0h541FxIgc",
    "outputId": "81572370-d620-4bf4-beca-706f145b1341"
   },
   "outputs": [
    {
     "data": {
      "text/plain": [
       "DatasetDict({\n",
       "    train: Dataset({\n",
       "        features: ['text', 'label'],\n",
       "        num_rows: 16000\n",
       "    })\n",
       "    validation: Dataset({\n",
       "        features: ['text', 'label'],\n",
       "        num_rows: 2000\n",
       "    })\n",
       "    test: Dataset({\n",
       "        features: ['text', 'label'],\n",
       "        num_rows: 2000\n",
       "    })\n",
       "})"
      ]
     },
     "execution_count": 9,
     "metadata": {},
     "output_type": "execute_result"
    }
   ],
   "source": [
    "dataset"
   ]
  },
  {
   "cell_type": "code",
   "execution_count": 10,
   "metadata": {
    "id": "z7eCnxU25eiN"
   },
   "outputs": [],
   "source": [
    "train = dataset['train']\n",
    "val = dataset['validation']\n",
    "test = dataset['test']"
   ]
  },
  {
   "cell_type": "code",
   "execution_count": 11,
   "metadata": {},
   "outputs": [
    {
     "name": "stdout",
     "output_type": "stream",
     "text": [
      "[0, 0, 3, 2, 3, 0, 5, 4, 1, 2, 0, 1, 3, 0, 1, 1, 0, 0, 0, 4, 3, 4, 1, 1, 3, 0, 0, 0, 3, 1, 1, 4, 5, 3, 1, 1, 1, 1, 3, 1, 1, 1, 1, 1, 0, 0, 1, 2, 1, 3, 1, 0, 3, 4, 1, 0, 0, 5, 1, 1, 1, 2, 4, 4, 5, 3, 3, 0, 2, 1, 0, 0, 1, 0, 0, 0, 1, 1, 1, 3, 0, 3, 3, 3, 1, 1, 1, 1, 0, 4, 2, 3, 0, 3, 2, 0, 1, 1, 0, 3, 2, 1, 1, 1, 0, 1, 1, 1, 1, 0, 1, 1, 2, 0, 0, 1, 1, 0, 1, 1, 4, 4, 4, 0, 2, 1, 1, 2, 4, 5, 1, 1, 1, 1, 3, 4, 1, 3, 2, 3, 0, 1, 0, 3, 1, 5, 0, 3, 3, 0, 1, 4, 1, 1, 4, 0, 5, 5, 1, 3, 4, 3, 0, 3, 0, 4, 0, 1, 5, 4, 1, 3, 1, 3, 1, 4, 4, 0, 1, 1, 0, 5, 1, 4, 1, 0, 1, 1, 1, 4, 1, 5, 1, 3, 0, 0, 1, 3, 0, 1, 1, 5, 1, 4, 1, 4, 0, 4, 2, 0, 4, 2, 0, 0, 3, 1, 2, 3, 0, 5, 3, 1, 0, 3, 1, 1, 1, 1, 1, 0, 1, 2, 1, 0, 3, 5, 1, 3, 1, 2, 0, 0, 1, 0, 0, 1, 0, 1, 1, 1, 4, 0, 3, 0, 3, 2, 1, 2, 0, 1, 1, 1, 0, 1, 0, 3, 2, 0, 2, 0, 0, 0, 0, 0, 0, 4, 1, 0, 0, 1, 2, 0, 3, 0, 2, 1, 1, 1, 0, 1, 0, 1, 1, 1, 0, 0, 0, 2, 4, 0, 4, 1, 1, 4, 1, 3, 3, 2, 0, 5, 1, 3, 0, 0, 3, 2, 5, 0, 2, 1, 3, 1, 0, 0, 1, 1, 4, 0, 3, 1, 2, 1, 1, 1, 1, 1, 2, 1, 4, 4, 1, 1, 3, 1, 1, 1, 0, 5, 1, 1, 0, 5, 1, 4, 1, 3, 2, 3, 4, 5, 1, 3, 0, 0, 0, 4, 1, 4, 1, 3, 0, 2, 3, 0, 2, 2, 1, 0, 1, 1, 3, 1, 2, 1, 1, 0, 5, 1, 1, 0, 5, 3, 1, 1, 2, 1, 2, 2, 1, 0, 1, 0, 4, 3, 0, 3, 1, 4, 5, 2, 0, 0, 1, 5, 2, 0, 0, 1, 4, 1, 1, 1, 2, 4, 0, 0, 4, 2, 1, 0, 1, 0, 1, 0, 1, 0, 1, 1, 3, 0, 4, 0, 0, 3, 5, 5, 1, 5, 4, 2, 3, 1, 4, 0, 3, 0, 1, 4, 1, 1, 1, 1, 5, 3, 0, 1, 0, 3, 2, 0, 2, 3, 2, 2, 1, 1, 0, 1, 0, 1, 3, 1, 4, 0, 1, 0, 5, 1, 1, 2, 1, 0, 3, 1, 0, 0, 0, 1, 1, 1, 0, 0, 3, 3, 1, 0, 5, 1, 1, 0, 3, 1, 3, 1, 1, 2, 3, 1, 1, 1, 1, 1, 1, 1, 4, 1, 4, 0, 3, 3, 0, 2, 0, 0, 0, 5, 4, 0, 0, 1, 4, 1, 0, 0, 3, 0, 3, 3, 2, 1, 1, 0, 1, 1, 1, 2, 2, 2, 1, 5, 4, 0, 3, 0, 4, 1, 3, 1, 1, 0, 1, 4, 1, 3, 0, 3, 1, 2, 2, 0, 4, 0, 0, 0, 4, 0, 3, 1, 1, 0, 4, 4, 3, 3, 0, 0, 3, 3, 1, 4, 0, 0, 4, 1, 4, 0, 0, 1, 0, 3, 0, 2, 5, 1, 1, 1, 1, 1, 0, 0, 2, 4, 3, 1, 2, 1, 1, 4, 3, 4, 0, 3, 3, 3, 4, 1, 2, 3, 4, 3, 1, 4, 0, 0, 3, 1, 3, 4, 4, 5, 0, 1, 1, 1, 2, 0, 1, 0, 3, 1, 1, 4, 4, 1, 4, 3, 3, 3, 1, 0, 1, 1, 1, 3, 4, 3, 1, 0, 1, 4, 1, 0, 3, 0, 0, 1, 1, 0, 2, 1, 0, 3, 2, 0, 1, 1, 4, 3, 1, 1, 2, 5, 4, 4, 3, 3, 2, 0, 0, 1, 2, 3, 1, 3, 1, 1, 1, 4, 4, 2, 0, 2, 1, 1, 0, 0, 3, 3, 3, 3, 0, 1, 0, 1, 4, 0, 1, 0, 1, 5, 4, 1, 1, 4, 4, 0, 0, 3, 0, 2, 1, 5, 1, 5, 1, 4, 1, 1, 1, 1, 5, 2, 0, 2, 1, 0, 1, 1, 0, 1, 1, 1, 1, 4, 4, 4, 4, 3, 2, 0, 1, 1, 0, 0, 0, 0, 1, 0, 0, 4, 1, 3, 1, 1, 4, 3, 1, 3, 3, 3, 3, 3, 1, 4, 0, 2, 0, 4, 2, 1, 5, 1, 1, 1, 1, 0, 5, 1, 3, 3, 3, 1, 1, 0, 2, 0, 1, 3, 3, 3, 4, 1, 1, 4, 0, 5, 1, 2, 0, 1, 1, 0, 0, 0, 3, 1, 0, 0, 0, 0, 1, 5, 1, 3, 2, 1, 3, 0, 1, 3, 0, 4, 4, 0, 0, 4, 0, 2, 4, 1, 1, 4, 1, 3, 1, 1, 3, 1, 1, 2, 3, 1, 1, 1, 3, 1, 2, 4, 3, 2, 0, 4, 0, 0, 2, 1, 4, 2, 1, 1, 0, 1, 0, 4, 1, 0, 2, 0, 2, 0, 0, 3, 2, 3, 1, 3, 0, 0, 1, 1, 3, 0, 5, 1, 2, 0, 3, 4, 2, 1, 1, 3, 1, 0, 1, 1, 1, 2, 1, 0, 2, 4, 0, 1, 0, 3, 1, 1, 0, 1, 2, 1, 1, 1, 3, 4, 0, 1, 0, 0, 2, 3, 1, 2, 0, 1, 4, 0, 1, 1, 0, 0, 2, 1, 0, 0, 0, 0, 3, 0, 1, 0, 1, 0, 2, 3, 1, 4, 0, 0, 1, 1, 3, 4, 2, 1, 0, 3, 0, 1, 0, 1, 1, 0, 2, 1, 1, 0, 3, 0, 3, 0, 1, 0, 3, 1, 5, 0, 4, 0, 4, 0, 3, 3, 1, 3, 1, 1, 1, 0, 4, 1, 1, 3, 1, 4, 1, 2, 0, 0, 0, 0, 1, 2, 4, 1, 3, 0, 1, 4, 1, 1, 0, 4, 0, 1, 0, 0, 0, 0, 2, 0, 4, 4, 1, 2, 0, 0, 2, 1, 0, 0, 0, 0, 2, 1, 1, 0, 4, 1, 1, 1, 1, 1, 3, 4, 2, 1, 3, 2, 2, 1, 0, 0, 3, 1, 1, 4, 1, 1, 0, 0, 2, 1, 1, 1, 1, 1, 0, 1, 2, 1, 4, 1, 0, 1, 1, 4, 1, 0, 4, 1, 0, 1, 0, 4, 1, 1, 4, 0, 0, 1, 1, 1, 1, 4, 1, 1, 4, 1, 4, 5, 1, 4, 5, 4, 1, 1, 5, 0, 0, 1, 1, 1, 1, 1, 1, 1, 1, 4, 0, 3, 1, 0, 1, 4, 2, 2, 4, 0, 0, 1, 4, 0, 2, 3, 1, 0, 1, 1, 0, 4, 0, 1, 0, 0, 1, 0, 0, 0, 4, 1, 3, 0, 0, 1, 1, 1, 1, 2, 1, 4, 1, 1, 1, 4, 0, 0, 1, 0, 0, 1, 0, 0, 0, 1, 0, 4, 3, 0, 1, 4, 1, 0, 1, 1, 4, 4, 0, 1, 5, 1, 3, 2, 0, 0, 2, 3, 4, 4, 1, 0, 2, 0, 0, 1, 1, 0, 2, 1, 1, 1, 1, 3, 5, 2, 3, 0, 0, 1, 0, 1, 1, 1, 0, 3, 0, 0, 0, 1, 3, 1, 0, 0, 1, 3, 1, 1, 2, 0, 1, 0, 5, 3, 1, 0, 4, 1, 1, 3, 1, 1, 0, 3, 2, 1, 0, 5, 2, 2, 0, 0, 0, 2, 0, 2, 1, 1, 0, 2, 1, 3, 0, 1, 3, 0, 3, 1, 2, 1, 4, 3, 1, 0, 4, 0, 0, 0, 0, 0, 4, 2, 0, 0, 1, 0, 2, 3, 1, 5, 1, 4, 0, 4, 0, 1, 3, 3, 5, 1, 2, 0, 5, 1, 1, 5, 0, 2, 1, 3, 4, 0, 0, 0, 0, 0, 3, 1, 1, 1, 0, 5, 5, 3, 1, 1, 4, 1, 0, 4, 3, 3, 4, 2, 4, 3, 3, 3, 0, 4, 1, 1, 4, 4, 3, 1, 3, 1, 1, 2, 3, 0, 4, 1, 3, 0, 3, 0, 2, 3, 4, 1, 4, 0, 0, 3, 1, 4, 0, 2, 2, 0, 3, 3, 1, 0, 3, 0, 0, 4, 1, 0, 0, 1, 3, 0, 1, 1, 3, 1, 1, 3, 3, 0, 1, 3, 0, 4, 0, 4, 1, 4, 1, 1, 1, 1, 0, 3, 0, 1, 4, 1, 0, 1, 4, 1, 1, 1, 1, 0, 1, 3, 1, 1, 1, 1, 4, 1, 4, 0, 2, 1, 1, 1, 1, 3, 1, 4, 0, 3, 1, 1, 0, 5, 5, 1, 0, 0, 2, 4, 1, 2, 2, 1, 0, 0, 1, 3, 1, 1, 1, 4, 4, 1, 0, 5, 1, 1, 1, 1, 1, 0, 3, 4, 3, 0, 1, 3, 4, 2, 0, 2, 1, 0, 2, 0, 1, 1, 2, 0, 2, 3, 1, 2, 1, 4, 0, 0, 5, 0, 1, 1, 1, 3, 0, 1, 1, 0, 1, 1, 0, 0, 1, 3, 1, 4, 3, 1, 1, 1, 4, 0, 1, 4, 0, 0, 3, 0, 1, 1, 3, 0, 0, 0, 0, 1, 1, 1, 0, 1, 1, 1, 0, 4, 2, 4, 4, 4, 3, 3, 0, 1, 0, 0, 0, 0, 4, 1, 0, 1, 4, 4, 0, 3, 4, 0, 0, 1, 3, 0, 0, 1, 0, 4, 3, 3, 1, 1, 0, 1, 1, 0, 0, 1, 0, 4, 1, 0, 0, 0, 4, 1, 5, 0, 1, 2, 1, 3, 5, 1, 1, 0, 0, 1, 1, 4, 1, 3, 1, 1, 1, 4, 1, 3, 1, 3, 0, 1, 0, 0, 1, 4, 1, 1, 4, 0, 0, 2, 0, 3, 0, 0, 3, 3, 0, 2, 0, 2, 1, 0, 1, 2, 4, 1, 4, 1, 3, 1, 0, 1, 1, 4, 5, 0, 1, 0, 5, 0, 0, 0, 0, 1, 4, 0, 0, 3, 1, 0, 2, 4, 3, 0, 4, 0, 1, 1, 1, 5, 1, 0, 1, 3, 1, 1, 3, 3, 0, 5, 4, 5, 1, 4, 0, 2, 1, 1, 3, 0, 2, 0, 0, 1, 3, 0, 0, 3, 5, 1, 3, 0, 3, 3, 0, 1, 5, 4, 1, 1, 4, 1, 3, 0, 0, 1, 1, 0, 1, 0, 4, 3, 0, 1, 3, 3, 2, 1, 1, 1, 1, 3, 1, 1, 0, 1, 1, 1, 1, 4, 0, 0, 0, 1, 1, 0, 0, 1, 1, 2, 0, 3, 0, 2, 1, 0, 1, 0, 1, 3, 1, 0, 0, 0, 5, 3, 1, 0, 0, 3, 1, 1, 0, 4, 1, 2, 0, 3, 4, 4, 2, 0, 2, 1, 2, 0, 0, 1, 2, 4, 0, 1, 1, 0, 0, 2, 1, 4, 4, 3, 1, 4, 4, 5, 0, 1, 4, 1, 4, 1, 0, 2, 1, 1, 3, 0, 1, 1, 3, 0, 0, 1, 1, 4, 1, 4, 1, 1, 1, 4, 1, 3, 3, 1, 4, 0, 1, 0, 0, 3, 0, 3, 0, 0, 1, 0, 4, 0, 2, 4, 1, 0, 4, 2, 1, 4, 0, 0, 0, 1, 1, 1, 1, 0, 3, 4, 1, 1, 1, 0, 5, 4, 1, 1, 0, 1, 2, 1, 0, 4, 1, 3, 1, 1, 3, 4, 2, 5, 3, 1, 0, 0, 0, 0, 0, 3, 5, 4, 1, 0, 0, 1, 0, 1, 2, 3, 0, 4, 0, 1, 0, 2, 1, 0, 2, 2, 0, 4, 1, 1, 2, 1, 1, 0, 1, 0, 2, 2, 3, 0, 1, 0, 4, 1, 0, 1, 4, 0, 1, 5, 5, 1, 0, 3, 4, 3, 0, 0, 5, 1, 0, 3, 0, 4, 2, 1, 1, 5, 1, 0, 3, 4, 0, 1, 1, 4, 1, 1, 1, 0, 3, 1, 3, 0, 1, 0, 0, 4, 2, 4, 1, 1, 1, 1, 4, 3, 5, 1, 0, 0, 1, 4, 0, 1, 0, 1, 0, 1, 1, 1, 2, 4, 1, 0, 0, 5, 2, 4, 3, 3, 0, 0, 1, 2, 1, 2, 1, 4, 0, 2, 0, 0, 0, 0, 3, 0, 0, 1, 0, 0, 0, 2, 3, 3, 0, 0, 1, 4, 3, 0, 1, 1, 5, 2, 1, 3, 1, 1, 0, 5, 0, 1, 5, 3, 1, 0, 1, 2, 1, 1, 4, 5, 1, 4, 1, 3, 4, 1, 0, 0, 0, 1, 3, 1, 2, 0, 0, 1, 3, 0, 1, 1, 5, 0, 1, 0, 0, 2, 3, 3, 1, 5, 3, 2, 2, 3, 0, 3, 0, 3, 1, 0, 4, 1, 2, 4, 1, 1, 1, 1, 0, 0, 4, 1, 3, 0, 0, 3, 0, 3, 0, 4, 5, 0, 1, 1, 1, 3, 0, 1, 0, 1, 1, 0, 4, 0, 1, 5, 1, 2, 1, 4, 3, 0, 1, 1, 1, 3, 0, 0, 3, 4, 0, 3, 0, 0, 3, 1, 5, 0, 4, 0, 4, 4, 4, 0, 1, 2, 1, 1, 0, 3, 3, 3, 5, 1, 5, 4, 1, 3, 0, 4, 1, 4, 1, 2, 0, 0, 0, 0, 5, 0, 1, 1, 0, 1, 1, 4, 1, 2, 3, 4, 1, 0, 3, 0, 2, 1, 1, 5, 3, 0, 1, 1, 1, 0, 1, 2, 3, 1, 1, 3, 3, 0, 2, 0, 1, 1, 3, 1, 1, 0, 2, 2, 1, 3, 1, 1, 5, 0, 0, 1, 3, 0, 3, 0, 1, 1, 1, 1, 0, 4, 1, 0, 0, 3, 3, 1, 1, 0, 4, 0, 0, 3, 4, 3, 3, 1, 0, 1, 1, 5, 4, 1, 0, 1, 4, 5, 3, 1, 0, 4, 4, 3, 2, 1, 3, 1, 0, 5, 0, 3, 0, 5, 4, 0, 0, 0, 3, 0, 1, 4, 1, 1, 0, 0, 2, 3, 1, 0, 2, 0, 1, 1, 1, 4, 2, 1, 1, 4, 1, 3, 0, 2, 0, 3, 3, 1, 2, 0, 0, 1, 0, 1, 5, 1, 3, 4, 3, 1, 0, 1, 0, 3, 4, 0, 0, 0, 3, 1, 4, 3, 0, 3, 1, 0, 4, 4, 1, 0, 2, 5, 4, 1, 3, 1, 1, 0, 1, 1, 1, 0, 3, 1, 3, 1, 3, 2, 2, 2, 5, 0, 1, 1, 0, 1, 4, 1, 2, 1, 0, 0, 1, 4, 1, 0, 1, 4, 0, 1, 0, 5, 1, 4, 1, 0, 0, 0, 0, 0, 4, 1, 1, 3, 4, 3, 1, 1, 1, 3, 3, 0, 0, 0, 3, 2, 0, 3, 1, 3, 0, 1, 1, 1, 1, 0, 1, 0, 0, 1, 0, 1, 4, 1, 3, 1, 0, 0, 5, 1, 1, 1, 3, 1, 3, 1, 1, 1, 1, 5, 0, 1, 2, 1, 0, 0, 5, 3, 3, 2, 1, 3, 3, 3, 4, 0, 4, 1, 4, 2, 1, 3, 0, 2, 0, 5, 0, 1, 1, 0, 1, 1, 0, 1, 1, 4, 1, 1, 3, 1, 1, 0, 0, 0, 1, 0, 0, 4, 4, 2, 1, 1, 1, 4, 0, 3, 0, 0, 0, 1, 0, 0, 0, 0, 0, 1, 1, 3, 3, 3, 0, 3, 1, 0, 0, 4, 0, 1, 1, 3, 0, 4, 4, 0, 2, 0, 1, 0, 0, 4, 5, 0, 1, 5, 3, 0, 3, 3, 0, 3, 5, 1, 1, 0, 0, 1, 1, 1, 0, 1, 1, 1, 0, 0, 1, 2, 1, 4, 0, 1, 1, 0, 3, 1, 1, 1, 0, 0, 1, 0, 1, 1, 0, 0, 0, 1, 3, 5, 4, 1, 4, 0, 1, 0, 0, 0, 1, 4, 1, 0, 1, 1, 1, 0, 0, 1, 1, 4, 1, 3, 3, 1, 0, 1, 0, 0, 0, 0, 1, 4, 0, 0, 0, 3, 1, 2, 2, 1, 0, 0, 2, 0, 3, 0, 4, 1, 0, 0, 2, 0, 1, 0, 3, 5, 1, 5, 4, 1, 4, 0, 3, 1, 1, 1, 3, 4, 1, 0, 3, 0, 1, 0, 1, 1, 1, 3, 0, 1, 0, 0, 3, 1, 4, 1, 3, 4, 0, 3, 1, 3, 1, 1, 0, 1, 2, 5, 1, 4, 4, 1, 0, 1, 1, 1, 2, 0, 2, 3, 0, 0, 4, 1, 1, 3, 0, 1, 4, 4, 2, 3, 3, 2, 0, 3, 0, 2, 1, 4, 1, 1, 0, 1, 1, 3, 1, 1, 1, 1, 3, 1, 3, 0, 0, 0, 1, 0, 3, 0, 2, 3, 1, 0, 1, 3, 4, 2, 3, 1, 1, 0, 4, 4, 0, 0, 5, 1, 0, 1, 2, 3, 0, 2, 0, 0, 5, 1, 0, 0, 0, 3, 0, 0, 1, 3, 0, 0, 4, 0, 1, 0, 1, 3, 1, 0, 0, 3, 0, 3, 2, 1, 4, 0, 4, 4, 0, 4, 2, 0, 5, 3, 3, 4, 4, 4, 4, 0, 1, 0, 4, 0, 3, 1, 0, 2, 1, 0, 0, 3, 0, 1, 1, 4, 3, 0, 0, 0, 0, 1, 0, 1, 1, 0, 1, 3, 1, 1, 0, 0, 0, 3, 4, 0, 0, 3, 1, 1, 1, 0, 0, 0, 4, 1, 1, 4, 1, 0, 1, 1, 1, 3, 5, 3, 1, 1, 2, 0, 1, 0, 2, 1, 0, 3, 2, 3, 0, 0, 0, 1, 1, 1, 4, 2, 1, 1, 2, 3, 1, 4, 0, 2, 1, 1, 1, 5, 0, 1, 0, 0, 1, 0, 1, 1, 4, 0, 0, 0, 1, 1, 0, 1, 1, 1, 1, 0, 2, 3, 1, 2, 0, 1, 3, 0, 1, 5, 4, 2, 1, 1, 0, 3, 0, 1, 0, 1, 4, 4, 1, 1, 4, 3, 1, 1, 0, 0, 3, 0, 1, 1, 3, 0, 1, 1, 0, 1, 1, 0, 3, 1, 3, 3, 0, 4, 5, 4, 1, 0, 0, 1, 0, 0, 2, 4, 2, 4, 0, 1, 0, 1, 0, 2, 1, 0, 0, 3, 1, 3, 4, 0, 0, 0, 2, 1, 1, 0, 4, 0, 3, 0, 1, 2, 1, 1, 3, 1, 4, 0, 1, 1, 4, 3, 4, 1, 0, 0, 4, 0, 0, 1, 5, 4, 4, 1, 0, 1, 4, 0, 4, 0, 3, 1, 3, 1, 2, 2, 1, 1, 1, 0, 0, 2, 4, 1, 0, 3, 4, 1, 0, 1, 1, 0, 4, 0, 1, 0, 3, 4, 4, 4, 0, 2, 5, 3, 2, 3, 0, 0, 1, 1, 0, 2, 4, 4, 1, 4, 0, 4, 2, 0, 4, 0, 3, 3, 0, 0, 0, 4, 1, 3, 1, 4, 0, 1, 4, 2, 4, 0, 1, 4, 1, 5, 1, 1, 1, 0, 1, 1, 1, 0, 3, 3, 1, 5, 3, 1, 4, 2, 0, 3, 5, 0, 1, 3, 1, 3, 0, 1, 4, 0, 5, 1, 3, 0, 1, 3, 0, 0, 2, 3, 0, 3, 0, 4, 3, 0, 1, 2, 3, 4, 1, 2, 0, 3, 0, 1, 1, 0, 4, 2, 4, 1, 2, 2, 1, 2, 1, 1, 1, 0, 3, 0, 1, 0, 1, 4, 1, 0, 0, 0, 0, 2, 5, 1, 1, 0, 0, 3, 2, 1, 1, 0, 5, 4, 2, 1, 1, 4, 0, 1, 0, 3, 0, 0, 0, 1, 0, 4, 0, 1, 1, 1, 1, 1, 1, 1, 1, 0, 3, 3, 0, 1, 1, 2, 3, 2, 3, 1, 0, 2, 0, 0, 0, 0, 3, 1, 1, 0, 1, 1, 4, 0, 1, 1, 0, 4, 2, 1, 1, 4, 0, 2, 4, 4, 4, 0, 2, 1, 1, 0, 2, 1, 4, 1, 1, 1, 1, 3, 4, 0, 0, 0, 3, 1, 1, 4, 1, 4, 3, 0, 0, 1, 4, 1, 1, 0, 1, 0, 0, 2, 1, 0, 0, 3, 1, 5, 0, 0, 0, 1, 0, 1, 1, 0, 0, 2, 1, 1, 1, 1, 2, 3, 1, 1, 4, 1, 0, 1, 1, 1, 0, 1, 0, 0, 4, 1, 1, 1, 3, 1, 4, 1, 3, 2, 0, 0, 1, 1, 3, 0, 1, 4, 1, 3, 3, 0, 0, 1, 0, 0, 3, 1, 3, 0, 0, 0, 0, 3, 1, 0, 0, 1, 1, 1, 0, 0, 5, 0, 0, 0, 3, 1, 1, 0, 0, 1, 0, 0, 0, 0, 4, 2, 3, 1, 5, 5, 4, 0, 3, 1, 0, 4, 0, 4, 5, 4, 0, 0, 3, 0, 0, 2, 3, 1, 1, 1, 4, 0, 0, 1, 0, 1, 1, 0, 4, 0, 1, 3, 0, 4, 4, 4, 1, 0, 1, 0, 0, 1, 0, 0, 1, 1, 4, 2, 1, 1, 0, 0, 3, 0, 1, 1, 1, 1, 4, 1, 0, 0, 5, 1, 2, 3, 4, 3, 3, 1, 0, 1, 5, 1, 1, 0, 0, 2, 1, 0, 2, 0, 4, 1, 0, 1, 1, 1, 1, 0, 0, 3, 1, 0, 0, 0, 2, 0, 2, 4, 0, 1, 3, 3, 4, 1, 2, 1, 4, 5, 0, 1, 4, 4, 3, 0, 0, 4, 1, 1, 0, 0, 3, 2, 1, 4, 2, 1, 3, 1, 3, 1, 0, 3, 4, 1, 0, 2, 2, 1, 0, 3, 1, 1, 0, 1, 3, 4, 3, 5, 3, 5, 0, 4, 2, 2, 3, 2, 2, 1, 0, 0, 2, 0, 0, 3, 5, 0, 1, 4, 5, 0, 3, 2, 0, 4, 0, 3, 1, 0, 0, 2, 0, 2, 1, 4, 2, 1, 2, 0, 0, 0, 4, 1, 4, 4, 2, 1, 0, 4, 0, 1, 4, 0, 0, 3, 1, 1, 1, 2, 2, 1, 0, 1, 1, 3, 1, 1, 0, 1, 2, 0, 1, 0, 1, 0, 3, 1, 1, 1, 0, 1, 0, 1, 1, 4, 0, 4, 0, 3, 0, 0, 4, 0, 4, 1, 0, 4, 3, 0, 5, 1, 3, 1, 3, 1, 5, 0, 1, 1, 4, 2, 2, 1, 0, 0, 1, 4, 1, 3, 0, 4, 3, 0, 3, 0, 1, 1, 3, 1, 4, 2, 0, 2, 1, 0, 3, 1, 0, 4, 1, 1, 3, 4, 1, 1, 3, 1, 1, 1, 3, 4, 3, 1, 1, 1, 1, 3, 5, 1, 1, 1, 0, 1, 3, 1, 1, 0, 3, 0, 1, 3, 1, 1, 0, 1, 1, 1, 1, 1, 3, 4, 4, 4, 0, 0, 2, 2, 4, 4, 0, 1, 1, 1, 4, 0, 3, 3, 0, 3, 0, 0, 1, 0, 0, 4, 0, 3, 2, 0, 0, 1, 2, 0, 0, 3, 0, 1, 1, 0, 1, 1, 2, 3, 1, 0, 0, 2, 4, 5, 0, 3, 1, 0, 0, 3, 2, 3, 0, 1, 2, 0, 0, 1, 1, 4, 0, 1, 1, 3, 4, 4, 1, 1, 1, 0, 5, 4, 3, 3, 3, 0, 0, 1, 0, 0, 0, 0, 0, 5, 0, 3, 3, 0, 1, 1, 1, 5, 4, 1, 3, 1, 3, 2, 1, 0, 0, 1, 0, 0, 2, 4, 0, 1, 1, 0, 1, 0, 1, 2, 4, 1, 4, 0, 1, 1, 2, 2, 0, 1, 1, 0, 0, 1, 3, 1, 4, 3, 1, 4, 3, 1, 1, 4, 4, 0, 3, 3, 0, 2, 4, 1, 3, 1, 4, 1, 4, 4, 0, 1, 1, 1, 1, 3, 0, 1, 0, 3, 1, 3, 1, 1, 1, 1, 3, 1, 4, 1, 1, 3, 0, 0, 2, 3, 0, 1, 1, 1, 0, 5, 4, 1, 0, 0, 0, 1, 5, 0, 1, 0, 5, 0, 1, 3, 1, 5, 1, 1, 1, 3, 1, 0, 1, 5, 5, 1, 1, 0, 1, 0, 4, 4, 0, 1, 0, 0, 4, 0, 1, 1, 1, 1, 1, 1, 5, 4, 2, 4, 0, 1, 0, 4, 0, 3, 0, 0, 0, 0, 0, 1, 2, 1, 1, 0, 4, 1, 1, 2, 2, 0, 1, 5, 2, 0, 1, 1, 0, 3, 1, 3, 1, 1, 4, 4, 0, 0, 4, 1, 3, 0, 0, 1, 4, 0, 1, 1, 0, 2, 2, 1, 1, 5, 3, 5, 1, 1, 5, 0, 5, 0, 0, 4, 0, 2, 0, 1, 1, 0, 3, 0, 4, 4, 1, 3, 1, 1, 0, 1, 2, 1, 2, 3, 1, 4, 0, 1, 1, 2, 0, 1, 0, 4, 1, 1, 1, 0, 3, 0, 4, 1, 2, 3, 0, 0, 1, 0, 0, 4, 3, 0, 1, 1, 1, 2, 3, 1, 4, 3, 4, 1, 1, 1, 3, 0, 0, 0, 4, 1, 4, 1, 0, 1, 2, 1, 1, 1, 1, 1, 1, 1, 0, 3, 0, 2, 0, 2, 0, 1, 0, 4, 1, 3, 1, 4, 3, 0, 0, 0, 0, 1, 1, 1, 0, 1, 1, 3, 0, 1, 1, 4, 3, 0, 0, 0, 0, 0, 3, 1, 0, 1, 0, 0, 0, 0, 1, 1, 4, 0, 2, 3, 3, 1, 0, 0, 1, 3, 2, 1, 4, 1, 3, 1, 1, 1, 0, 0, 0, 3, 1, 2, 1, 1, 3, 5, 1, 0, 1, 1, 4, 5, 0, 0, 1, 3, 4, 1, 1, 0, 1, 5, 0, 5, 2, 2, 1, 0, 4, 0, 5, 0, 1, 5, 0, 2, 1, 1, 1, 1, 1, 1, 0, 2, 1, 0, 5, 4, 3, 0, 1, 1, 0, 3, 2, 0, 0, 4, 1, 1, 3, 4, 0, 0, 0, 2, 0, 1, 4, 1, 1, 0, 0, 1, 2, 0, 1, 0, 0, 3, 4, 0, 4, 4, 1, 4, 0, 3, 1, 1, 0, 1, 1, 4, 3, 0, 3, 2, 0, 4, 4, 4, 1, 2, 4, 3, 1, 3, 1, 2, 0, 1, 4, 4, 1, 1, 0, 1, 1, 4, 3, 0, 3, 4, 1, 0, 2, 1, 0, 1, 2, 0, 1, 1, 0, 3, 2, 1, 3, 0, 1, 0, 1, 0, 1, 0, 5, 3, 1, 1, 1, 3, 0, 2, 0, 4, 1, 0, 1, 4, 1, 1, 4, 4, 3, 0, 1, 3, 1, 0, 0, 0, 1, 1, 1, 2, 1, 4, 1, 0, 2, 1, 4, 0, 1, 0, 4, 2, 3, 0, 1, 1, 0, 1, 0, 1, 1, 0, 0, 1, 1, 1, 0, 1, 0, 0, 0, 1, 0, 1, 1, 4, 0, 0, 1, 3, 0, 5, 2, 0, 4, 5, 0, 3, 1, 4, 3, 0, 3, 1, 4, 1, 1, 2, 1, 0, 0, 1, 1, 4, 1, 1, 0, 3, 3, 3, 1, 2, 0, 4, 5, 0, 3, 1, 1, 0, 1, 0, 1, 1, 1, 4, 3, 1, 1, 1, 5, 4, 4, 0, 1, 2, 2, 1, 4, 0, 0, 0, 0, 1, 0, 1, 0, 3, 0, 2, 1, 2, 4, 0, 0, 1, 1, 2, 0, 1, 2, 4, 1, 0, 1, 1, 1, 4, 0, 1, 0, 1, 1, 4, 0, 2, 0, 1, 4, 2, 0, 0, 0, 2, 2, 3, 1, 4, 1, 1, 3, 1, 5, 0, 1, 2, 4, 0, 3, 3, 0, 0, 1, 0, 0, 2, 0, 0, 1, 0, 1, 4, 1, 1, 3, 1, 0, 1, 3, 5, 0, 1, 3, 1, 0, 4, 0, 0, 3, 0, 3, 1, 1, 1, 3, 4, 4, 0, 1, 3, 1, 2, 0, 0, 1, 1, 3, 0, 0, 1, 0, 0, 1, 0, 0, 1, 0, 0, 4, 0, 1, 0, 2, 1, 5, 3, 0, 1, 0, 5, 3, 4, 3, 0, 2, 0, 3, 1, 1, 4, 2, 4, 5, 0, 4, 0, 1, 0, 1, 1, 5, 3, 0, 3, 1, 3, 0, 0, 1, 0, 5, 2, 3, 0, 4, 1, 1, 0, 0, 0, 1, 1, 0, 0, 4, 4, 4, 0, 3, 3, 0, 3, 0, 0, 0, 0, 1, 0, 5, 1, 3, 2, 0, 3, 3, 1, 1, 3, 1, 0, 3, 0, 3, 0, 3, 1, 5, 5, 0, 0, 4, 3, 4, 1, 1, 1, 1, 1, 5, 1, 3, 0, 1, 4, 1, 1, 1, 0, 4, 0, 0, 1, 1, 3, 0, 1, 1, 3, 1, 0, 1, 0, 1, 2, 3, 2, 0, 2, 3, 3, 3, 4, 4, 2, 1, 3, 1, 0, 1, 0, 3, 2, 0, 0, 0, 1, 2, 3, 5, 5, 2, 0, 3, 0, 1, 0, 0, 0, 0, 2, 1, 0, 3, 1, 1, 0, 0, 1, 3, 4, 0, 2, 2, 3, 1, 0, 5, 5, 3, 1, 1, 5, 1, 2, 3, 1, 0, 3, 1, 1, 2, 1, 0, 1, 1, 2, 1, 0, 3, 4, 1, 1, 1, 3, 5, 4, 3, 4, 4, 3, 1, 3, 1, 1, 1, 0, 3, 4, 1, 1, 1, 0, 1, 1, 4, 0, 1, 1, 3, 5, 1, 3, 5, 0, 5, 0, 0, 1, 0, 1, 5, 4, 0, 1, 5, 0, 0, 1, 1, 1, 1, 1, 3, 1, 1, 2, 0, 1, 1, 1, 0, 1, 1, 0, 1, 0, 0, 0, 0, 0, 1, 0, 2, 1, 2, 0, 2, 5, 3, 2, 4, 0, 1, 0, 4, 4, 4, 0, 0, 0, 4, 0, 0, 5, 2, 1, 4, 3, 1, 0, 1, 1, 4, 3, 3, 2, 1, 0, 0, 0, 5, 1, 1, 1, 3, 3, 1, 3, 1, 4, 0, 0, 0, 0, 4, 0, 0, 4, 4, 3, 0, 0, 1, 0, 1, 4, 1, 0, 0, 4, 0, 1, 2, 0, 0, 1, 1, 1, 3, 1, 0, 0, 1, 4, 5, 1, 0, 0, 0, 0, 1, 4, 1, 3, 0, 0, 1, 1, 0, 3, 4, 1, 3, 4, 3, 1, 1, 1, 1, 0, 3, 0, 0, 1, 3, 3, 3, 3, 1, 1, 3, 1, 4, 1, 3, 1, 0, 1, 0, 5, 4, 1, 5, 4, 0, 2, 1, 1, 4, 2, 1, 5, 5, 1, 0, 1, 0, 0, 3, 0, 1, 1, 0, 5, 1, 2, 3, 1, 3, 1, 0, 1, 0, 1, 1, 3, 0, 2, 0, 3, 1, 1, 0, 0, 0, 0, 4, 0, 0, 1, 1, 4, 0, 1, 5, 2, 0, 2, 5, 0, 0, 1, 4, 1, 1, 1, 2, 0, 0, 5, 4, 1, 0, 1, 4, 1, 0, 1, 0, 2, 4, 4, 0, 1, 3, 3, 0, 3, 1, 1, 1, 1, 0, 1, 4, 0, 3, 3, 0, 4, 0, 1, 1, 1, 1, 1, 4, 1, 4, 5, 5, 0, 0, 1, 1, 0, 4, 2, 1, 0, 5, 4, 1, 0, 0, 0, 1, 1, 0, 2, 2, 2, 1, 5, 2, 1, 1, 0, 5, 1, 0, 1, 1, 0, 1, 3, 1, 0, 0, 4, 0, 4, 1, 1, 4, 0, 0, 3, 3, 0, 0, 1, 4, 0, 1, 0, 0, 2, 3, 4, 0, 1, 1, 1, 1, 1, 1, 0, 0, 3, 1, 0, 0, 1, 3, 5, 5, 0, 1, 1, 0, 4, 0, 3, 1, 1, 0, 0, 5, 2, 1, 2, 1, 1, 0, 3, 2, 0, 3, 0, 4, 0, 3, 1, 2, 1, 0, 1, 5, 1, 1, 1, 4, 1, 0, 0, 5, 2, 3, 0, 0, 0, 4, 3, 0, 4, 3, 4, 0, 3, 0, 1, 5, 0, 1, 1, 2, 0, 0, 3, 3, 2, 0, 0, 1, 2, 1, 1, 1, 1, 0, 0, 1, 1, 1, 4, 3, 4, 1, 1, 1, 0, 0, 5, 0, 0, 1, 2, 3, 2, 1, 0, 4, 3, 3, 0, 4, 1, 1, 0, 1, 1, 3, 5, 0, 1, 0, 0, 0, 1, 1, 4, 0, 0, 0, 1, 4, 1, 1, 4, 1, 0, 0, 4, 1, 1, 0, 1, 0, 1, 0, 4, 0, 0, 2, 0, 1, 4, 3, 4, 4, 1, 2, 1, 5, 1, 1, 2, 0, 0, 4, 1, 1, 1, 3, 3, 0, 3, 1, 1, 2, 4, 1, 0, 2, 2, 0, 4, 1, 1, 5, 0, 1, 2, 2, 1, 2, 1, 0, 3, 1, 4, 1, 3, 5, 1, 4, 0, 0, 3, 0, 4, 2, 0, 1, 0, 5, 1, 0, 0, 2, 0, 3, 2, 0, 1, 1, 1, 4, 1, 1, 1, 1, 3, 1, 4, 3, 0, 0, 3, 3, 0, 2, 1, 1, 3, 1, 0, 1, 3, 0, 2, 3, 1, 1, 1, 3, 0, 1, 0, 0, 0, 0, 0, 1, 5, 4, 4, 3, 1, 0, 3, 0, 5, 1, 1, 2, 4, 3, 0, 2, 0, 0, 5, 1, 1, 1, 1, 0, 0, 1, 4, 3, 3, 4, 1, 5, 0, 4, 1, 1, 4, 1, 1, 0, 4, 3, 3, 1, 0, 0, 5, 1, 3, 1, 2, 1, 4, 3, 4, 4, 1, 0, 0, 3, 1, 4, 4, 3, 4, 4, 1, 1, 3, 5, 2, 0, 0, 1, 1, 1, 0, 4, 2, 3, 1, 5, 1, 4, 2, 4, 3, 0, 1, 0, 1, 0, 5, 2, 1, 3, 3, 4, 3, 0, 1, 3, 1, 1, 3, 4, 1, 0, 5, 1, 1, 0, 1, 0, 0, 0, 3, 3, 3, 1, 0, 0, 1, 0, 4, 1, 3, 4, 1, 5, 0, 3, 0, 1, 4, 0, 4, 3, 0, 1, 4, 1, 1, 4, 2, 0, 0, 4, 4, 1, 1, 1, 3, 0, 1, 2, 0, 0, 3, 0, 0, 2, 2, 0, 3, 1, 3, 3, 3, 1, 2, 0, 2, 1, 2, 1, 2, 2, 0, 2, 1, 0, 2, 1, 0, 2, 1, 0, 4, 1, 0, 4, 1, 1, 3, 4, 0, 1, 1, 4, 4, 2, 0, 1, 1, 4, 0, 1, 3, 1, 3, 3, 0, 3, 0, 4, 4, 5, 4, 1, 3, 5, 0, 0, 0, 1, 2, 2, 3, 1, 0, 3, 0, 3, 1, 4, 0, 0, 3, 1, 1, 2, 1, 3, 4, 3, 0, 0, 0, 0, 1, 2, 1, 2, 0, 1, 1, 2, 0, 0, 0, 1, 0, 0, 0, 2, 0, 0, 0, 1, 0, 3, 3, 1, 0, 1, 1, 0, 4, 1, 4, 0, 2, 0, 0, 1, 5, 0, 1, 4, 0, 4, 1, 1, 1, 4, 3, 0, 0, 1, 1, 3, 1, 1, 4, 1, 1, 1, 0, 0, 0, 3, 1, 3, 1, 0, 4, 3, 2, 4, 3, 1, 5, 3, 4, 3, 0, 0, 0, 1, 2, 0, 1, 1, 2, 0, 0, 3, 1, 0, 0, 0, 1, 2, 1, 1, 2, 1, 0, 1, 4, 0, 1, 4, 3, 1, 0, 3, 4, 1, 5, 0, 4, 4, 4, 0, 0, 1, 1, 0, 0, 4, 0, 1, 0, 1, 1, 1, 2, 5, 1, 0, 0, 2, 0, 1, 1, 1, 1, 3, 1, 0, 1, 0, 4, 5, 0, 1, 1, 4, 0, 3, 1, 1, 1, 2, 5, 1, 1, 2, 1, 2, 2, 0, 0, 2, 5, 3, 0, 0, 0, 1, 3, 1, 1, 1, 3, 0, 1, 0, 1, 4, 1, 1, 4, 4, 0, 1, 3, 3, 1, 2, 1, 0, 3, 1, 5, 0, 4, 1, 1, 1, 0, 2, 0, 1, 4, 5, 0, 1, 3, 1, 4, 1, 0, 3, 2, 4, 1, 3, 5, 1, 1, 4, 4, 0, 1, 0, 1, 1, 3, 1, 1, 0, 1, 1, 2, 0, 2, 1, 0, 0, 2, 1, 4, 1, 1, 0, 3, 1, 0, 1, 0, 0, 1, 1, 0, 3, 1, 0, 0, 4, 4, 2, 1, 1, 1, 4, 0, 2, 4, 2, 1, 1, 0, 0, 5, 1, 0, 3, 0, 5, 0, 1, 4, 2, 0, 3, 1, 1, 0, 2, 2, 0, 4, 4, 1, 0, 0, 4, 1, 0, 0, 3, 0, 0, 3, 1, 4, 0, 3, 0, 0, 2, 1, 1, 2, 0, 3, 0, 1, 3, 0, 4, 1, 3, 0, 1, 4, 0, 1, 4, 0, 1, 1, 3, 0, 3, 4, 3, 0, 5, 3, 4, 4, 1, 3, 1, 1, 0, 4, 1, 1, 1, 0, 3, 4, 1, 3, 1, 0, 2, 4, 4, 4, 3, 3, 0, 3, 4, 1, 1, 0, 2, 0, 1, 1, 1, 4, 2, 0, 4, 0, 4, 0, 0, 1, 4, 1, 3, 1, 0, 1, 1, 1, 5, 0, 5, 4, 0, 0, 2, 0, 2, 4, 2, 1, 1, 3, 1, 1, 3, 0, 4, 3, 0, 0, 3, 3, 0, 0, 3, 2, 1, 0, 1, 3, 2, 0, 3, 4, 1, 0, 1, 3, 1, 1, 4, 0, 1, 0, 1, 4, 0, 0, 1, 5, 1, 3, 5, 5, 1, 1, 0, 0, 3, 4, 1, 0, 2, 4, 0, 0, 1, 2, 4, 3, 1, 4, 0, 4, 5, 0, 0, 1, 0, 4, 3, 2, 0, 4, 1, 1, 2, 0, 3, 4, 0, 0, 4, 1, 0, 0, 4, 1, 0, 0, 1, 0, 0, 3, 0, 1, 3, 4, 0, 1, 0, 1, 1, 4, 3, 1, 5, 3, 0, 1, 4, 0, 2, 2, 0, 5, 1, 4, 2, 3, 5, 0, 3, 3, 1, 1, 4, 1, 1, 3, 0, 0, 1, 3, 0, 1, 0, 2, 3, 4, 0, 1, 4, 3, 1, 1, 1, 0, 1, 1, 1, 1, 3, 1, 0, 1, 0, 1, 0, 0, 0, 0, 4, 3, 1, 1, 3, 2, 0, 4, 1, 1, 1, 4, 0, 0, 2, 0, 0, 4, 0, 1, 3, 4, 1, 0, 0, 3, 1, 1, 4, 0, 4, 4, 0, 3, 1, 3, 4, 4, 1, 1, 1, 4, 0, 1, 1, 3, 0, 1, 0, 5, 3, 1, 4, 3, 0, 3, 4, 0, 2, 4, 0, 2, 2, 4, 3, 1, 1, 0, 1, 2, 0, 2, 5, 0, 3, 2, 1, 0, 4, 5, 1, 0, 2, 1, 0, 0, 1, 1, 4, 3, 1, 0, 1, 0, 2, 1, 4, 0, 1, 0, 0, 5, 5, 0, 0, 1, 1, 3, 0, 0, 3, 0, 4, 4, 1, 1, 0, 1, 0, 3, 0, 2, 0, 1, 0, 3, 1, 1, 3, 1, 1, 3, 1, 2, 3, 1, 3, 0, 4, 0, 2, 0, 4, 3, 3, 3, 0, 1, 0, 1, 1, 5, 0, 2, 0, 1, 4, 2, 1, 3, 5, 1, 5, 3, 1, 0, 3, 1, 2, 3, 1, 3, 0, 2, 0, 1, 0, 0, 0, 3, 0, 0, 1, 1, 1, 2, 0, 4, 0, 4, 0, 1, 1, 0, 0, 1, 0, 4, 0, 1, 4, 4, 0, 1, 0, 0, 0, 3, 1, 1, 3, 0, 0, 0, 3, 0, 1, 0, 1, 0, 2, 3, 0, 5, 0, 1, 1, 3, 3, 0, 4, 4, 0, 0, 1, 2, 3, 1, 1, 1, 2, 2, 0, 3, 4, 1, 5, 4, 1, 0, 1, 3, 3, 0, 3, 0, 4, 0, 0, 0, 2, 5, 1, 3, 1, 1, 2, 3, 1, 0, 0, 4, 1, 4, 3, 1, 3, 3, 3, 1, 2, 1, 1, 3, 3, 0, 4, 1, 4, 0, 1, 3, 1, 4, 3, 1, 0, 3, 1, 3, 1, 0, 2, 1, 1, 3, 0, 2, 1, 3, 1, 0, 1, 4, 3, 1, 0, 1, 0, 1, 0, 5, 1, 3, 0, 4, 1, 3, 1, 1, 1, 0, 1, 0, 3, 0, 0, 1, 3, 0, 0, 1, 1, 4, 1, 5, 3, 3, 1, 1, 4, 4, 1, 1, 4, 3, 3, 1, 0, 4, 1, 2, 4, 0, 4, 4, 5, 0, 1, 4, 1, 0, 0, 1, 4, 3, 0, 3, 1, 1, 1, 0, 1, 1, 1, 3, 2, 2, 0, 2, 3, 0, 3, 0, 3, 1, 0, 1, 4, 4, 4, 2, 0, 3, 0, 4, 0, 4, 0, 2, 1, 1, 5, 1, 4, 2, 1, 1, 0, 4, 1, 2, 4, 3, 1, 3, 1, 1, 0, 1, 2, 0, 3, 1, 4, 0, 0, 1, 1, 1, 1, 1, 0, 0, 1, 2, 5, 1, 1, 4, 1, 2, 0, 2, 0, 4, 0, 1, 0, 0, 1, 0, 0, 1, 5, 1, 1, 3, 3, 1, 0, 0, 1, 1, 1, 0, 1, 0, 1, 0, 0, 1, 0, 0, 1, 4, 0, 0, 0, 1, 3, 0, 4, 3, 0, 1, 0, 0, 1, 1, 1, 1, 0, 0, 2, 2, 0, 1, 2, 3, 5, 1, 0, 0, 4, 0, 0, 4, 0, 3, 1, 3, 1, 5, 0, 0, 0, 4, 3, 1, 3, 3, 1, 0, 1, 0, 1, 3, 0, 4, 3, 2, 0, 1, 3, 4, 1, 0, 2, 1, 2, 0, 1, 3, 3, 0, 4, 0, 4, 3, 1, 5, 3, 4, 4, 1, 3, 1, 1, 4, 5, 4, 1, 1, 3, 1, 1, 2, 0, 0, 3, 1, 0, 0, 2, 2, 4, 0, 0, 1, 1, 1, 3, 0, 1, 3, 1, 1, 0, 3, 0, 1, 1, 3, 1, 1, 3, 0, 3, 0, 4, 0, 1, 2, 0, 3, 0, 1, 2, 1, 1, 1, 1, 3, 0, 1, 0, 2, 1, 1, 3, 1, 1, 1, 1, 3, 4, 0, 0, 0, 2, 2, 3, 0, 4, 3, 1, 2, 0, 3, 2, 0, 3, 4, 0, 4, 1, 1, 5, 1, 1, 2, 0, 0, 4, 2, 1, 5, 0, 5, 1, 0, 1, 3, 0, 1, 3, 0, 3, 5, 0, 0, 3, 1, 0, 4, 3, 4, 1, 0, 1, 5, 2, 0, 2, 1, 5, 1, 3, 1, 3, 5, 0, 1, 1, 1, 4, 1, 1, 1, 1, 0, 1, 1, 0, 1, 1, 5, 1, 1, 5, 4, 1, 1, 4, 1, 1, 5, 0, 0, 2, 1, 3, 3, 4, 1, 0, 0, 2, 1, 0, 1, 1, 5, 1, 0, 0, 1, 0, 0, 0, 0, 3, 2, 0, 1, 1, 1, 1, 3, 2, 0, 4, 2, 2, 1, 1, 1, 1, 3, 0, 1, 3, 0, 4, 3, 1, 4, 0, 1, 1, 1, 0, 1, 1, 1, 0, 1, 4, 1, 0, 4, 4, 2, 4, 2, 1, 2, 4, 3, 0, 0, 3, 4, 1, 1, 0, 0, 5, 1, 4, 0, 3, 1, 3, 3, 0, 0, 0, 1, 4, 0, 0, 0, 0, 1, 1, 1, 0, 3, 3, 1, 1, 0, 1, 3, 0, 4, 2, 0, 3, 1, 5, 1, 1, 1, 1, 2, 2, 0, 1, 1, 2, 0, 1, 0, 0, 0, 1, 1, 1, 1, 1, 1, 0, 1, 0, 2, 2, 0, 0, 4, 0, 3, 1, 0, 3, 1, 0, 1, 0, 1, 0, 0, 3, 3, 3, 0, 4, 0, 3, 0, 4, 4, 0, 4, 0, 1, 0, 1, 1, 1, 4, 2, 1, 1, 4, 0, 1, 0, 4, 0, 0, 3, 4, 1, 1, 1, 2, 3, 4, 0, 1, 4, 1, 2, 2, 0, 2, 3, 0, 0, 0, 5, 1, 3, 1, 0, 4, 3, 1, 5, 1, 1, 1, 1, 0, 1, 0, 0, 2, 0, 2, 0, 0, 1, 1, 3, 3, 0, 4, 3, 1, 0, 1, 3, 2, 1, 4, 1, 1, 1, 3, 3, 4, 5, 1, 3, 3, 1, 4, 0, 4, 2, 0, 2, 1, 1, 4, 0, 3, 1, 0, 4, 1, 0, 1, 4, 1, 3, 1, 1, 1, 5, 1, 3, 0, 4, 0, 0, 1, 1, 0, 3, 0, 1, 5, 1, 1, 0, 1, 1, 1, 0, 1, 0, 0, 3, 3, 3, 3, 3, 0, 3, 0, 1, 3, 2, 3, 1, 1, 2, 2, 2, 0, 0, 0, 2, 1, 0, 3, 1, 2, 1, 1, 2, 2, 1, 0, 4, 1, 0, 1, 3, 0, 1, 1, 3, 4, 4, 3, 2, 0, 4, 4, 1, 0, 2, 0, 1, 1, 0, 3, 0, 1, 2, 0, 1, 1, 3, 0, 3, 1, 1, 1, 1, 2, 0, 1, 4, 1, 0, 2, 0, 0, 1, 0, 1, 1, 0, 4, 1, 4, 0, 0, 0, 1, 0, 4, 5, 0, 1, 0, 3, 0, 2, 0, 1, 1, 0, 3, 0, 2, 0, 1, 0, 1, 3, 0, 1, 1, 0, 0, 3, 1, 5, 4, 0, 3, 0, 1, 0, 3, 3, 5, 3, 1, 3, 0, 2, 1, 0, 1, 4, 0, 1, 3, 3, 0, 1, 3, 1, 0, 1, 1, 1, 2, 1, 2, 1, 1, 1, 3, 1, 1, 3, 1, 3, 1, 1, 1, 1, 3, 0, 1, 0, 0, 1, 0, 1, 0, 4, 1, 4, 0, 0, 4, 5, 3, 5, 0, 1, 3, 1, 5, 0, 3, 0, 2, 0, 0, 3, 1, 0, 0, 0, 4, 3, 1, 5, 1, 5, 1, 3, 2, 0, 3, 4, 1, 2, 0, 1, 1, 1, 1, 3, 0, 3, 1, 1, 3, 0, 0, 3, 1, 0, 3, 3, 1, 0, 0, 0, 1, 4, 3, 0, 2, 1, 5, 4, 4, 0, 2, 1, 0, 4, 2, 1, 4, 1, 0, 4, 1, 1, 4, 1, 1, 1, 0, 0, 0, 1, 4, 3, 0, 0, 2, 0, 5, 5, 2, 1, 2, 0, 0, 3, 1, 1, 0, 4, 1, 0, 1, 0, 4, 3, 4, 4, 1, 0, 1, 3, 3, 1, 1, 2, 1, 1, 1, 1, 4, 1, 0, 0, 1, 1, 2, 1, 1, 0, 3, 1, 1, 0, 1, 1, 1, 1, 5, 0, 1, 2, 3, 1, 1, 2, 2, 0, 1, 1, 0, 5, 0, 1, 0, 2, 3, 4, 0, 3, 1, 2, 0, 0, 0, 4, 0, 0, 2, 0, 1, 1, 4, 1, 0, 1, 0, 1, 1, 4, 0, 0, 0, 0, 3, 0, 1, 5, 4, 0, 3, 2, 3, 0, 4, 5, 0, 1, 4, 1, 0, 0, 2, 3, 1, 1, 3, 5, 2, 1, 1, 1, 1, 4, 1, 1, 0, 1, 2, 0, 2, 0, 4, 4, 1, 0, 0, 5, 0, 3, 0, 0, 1, 2, 4, 0, 0, 0, 3, 1, 3, 4, 0, 0, 4, 0, 3, 0, 0, 3, 2, 4, 2, 5, 0, 3, 1, 1, 0, 2, 0, 0, 3, 1, 0, 1, 1, 2, 3, 1, 0, 2, 3, 0, 0, 0, 1, 1, 1, 1, 3, 1, 0, 3, 1, 0, 0, 0, 3, 2, 4, 4, 4, 0, 0, 0, 4, 0, 1, 0, 5, 2, 0, 0, 3, 2, 5, 0, 4, 3, 0, 1, 1, 1, 1, 3, 2, 2, 1, 1, 1, 3, 4, 0, 0, 0, 4, 1, 5, 1, 1, 1, 1, 0, 0, 0, 4, 0, 1, 1, 1, 0, 0, 1, 1, 0, 2, 1, 0, 2, 1, 1, 4, 0, 2, 3, 1, 2, 3, 1, 2, 3, 3, 2, 0, 3, 2, 0, 1, 1, 2, 0, 4, 1, 0, 1, 1, 0, 0, 1, 5, 0, 2, 1, 5, 0, 4, 5, 0, 1, 2, 0, 1, 2, 1, 1, 3, 1, 1, 0, 1, 0, 3, 1, 1, 3, 1, 1, 1, 1, 1, 4, 2, 1, 1, 3, 1, 1, 0, 0, 1, 5, 4, 0, 4, 0, 0, 4, 0, 2, 4, 1, 1, 1, 0, 3, 3, 0, 1, 4, 0, 1, 0, 1, 0, 3, 4, 1, 0, 3, 4, 0, 1, 1, 0, 0, 0, 3, 3, 4, 0, 1, 1, 1, 3, 3, 2, 4, 3, 0, 1, 5, 1, 4, 1, 1, 1, 0, 1, 1, 1, 0, 0, 4, 0, 1, 1, 0, 1, 1, 2, 1, 3, 3, 4, 1, 0, 4, 1, 1, 3, 0, 2, 1, 1, 2, 1, 0, 1, 1, 1, 0, 1, 5, 1, 0, 2, 0, 0, 3, 0, 1, 2, 2, 1, 1, 1, 0, 1, 1, 3, 0, 1, 3, 0, 1, 4, 3, 1, 2, 2, 1, 2, 1, 1, 1, 1, 3, 1, 4, 3, 4, 1, 3, 4, 0, 1, 0, 4, 0, 0, 1, 1, 1, 1, 1, 0, 3, 1, 1, 5, 0, 0, 1, 1, 0, 0, 1, 1, 3, 1, 1, 0, 0, 0, 4, 4, 0, 5, 1, 1, 1, 4, 1, 0, 1, 1, 0, 0, 4, 3, 0, 1, 4, 3, 1, 1, 0, 1, 2, 0, 4, 3, 4, 2, 1, 3, 0, 1, 5, 3, 0, 3, 1, 0, 1, 0, 4, 0, 1, 0, 1, 5, 0, 3, 0, 1, 1, 1, 1, 1, 1, 0, 1, 4, 2, 1, 0, 1, 0, 1, 1, 1, 4, 0, 3, 4, 3, 1, 3, 0, 2, 0, 0, 4, 1, 1, 0, 1, 5, 3, 1, 0, 0, 2, 0, 0, 1, 0, 1, 3, 0, 4, 0, 0, 3, 3, 1, 4, 1, 0, 4, 4, 1, 0, 3, 3, 0, 2, 3, 3, 0, 0, 1, 5, 3, 0, 5, 4, 3, 3, 3, 0, 0, 3, 2, 0, 4, 0, 1, 4, 0, 1, 3, 1, 2, 1, 1, 0, 1, 4, 0, 0, 0, 1, 1, 1, 1, 1, 4, 0, 4, 0, 2, 3, 1, 1, 3, 1, 3, 1, 0, 0, 0, 5, 4, 2, 0, 1, 2, 5, 0, 4, 1, 2, 0, 3, 0, 1, 0, 0, 1, 4, 0, 0, 2, 1, 1, 1, 1, 0, 2, 4, 2, 0, 4, 0, 0, 0, 3, 0, 4, 1, 0, 0, 1, 1, 0, 1, 4, 0, 1, 0, 0, 2, 0, 1, 1, 3, 0, 0, 1, 1, 4, 0, 1, 1, 1, 4, 0, 0, 0, 1, 1, 4, 0, 1, 4, 3, 1, 1, 1, 0, 5, 3, 1, 1, 0, 4, 2, 1, 4, 1, 3, 0, 0, 1, 4, 4, 3, 0, 4, 0, 0, 4, 4, 1, 2, 3, 4, 1, 1, 4, 2, 2, 0, 1, 5, 1, 0, 3, 2, 0, 1, 1, 1, 1, 1, 1, 1, 0, 0, 3, 0, 4, 3, 0, 3, 2, 4, 1, 0, 1, 0, 2, 1, 3, 2, 4, 3, 1, 4, 0, 2, 0, 0, 0, 1, 0, 1, 1, 3, 1, 3, 1, 3, 0, 3, 4, 5, 1, 1, 1, 3, 1, 1, 4, 5, 0, 4, 1, 1, 3, 4, 1, 2, 0, 1, 4, 1, 5, 1, 0, 1, 5, 3, 0, 3, 0, 1, 1, 1, 1, 1, 2, 2, 3, 1, 2, 2, 2, 4, 0, 0, 1, 0, 0, 1, 0, 1, 0, 3, 1, 0, 1, 1, 0, 1, 1, 3, 2, 1, 1, 1, 4, 0, 3, 3, 0, 1, 0, 1, 1, 0, 1, 3, 0, 0, 0, 1, 2, 3, 1, 1, 1, 1, 0, 4, 1, 1, 1, 0, 0, 1, 1, 0, 1, 1, 0, 0, 1, 1, 1, 3, 4, 1, 1, 1, 0, 0, 1, 0, 1, 1, 1, 2, 2, 0, 0, 1, 2, 4, 1, 1, 0, 1, 0, 1, 1, 1, 1, 3, 1, 0, 1, 0, 1, 0, 3, 1, 1, 0, 2, 4, 4, 4, 0, 4, 1, 0, 1, 2, 4, 2, 4, 3, 0, 1, 2, 0, 0, 1, 3, 5, 0, 0, 3, 1, 1, 4, 1, 0, 1, 1, 0, 1, 3, 0, 1, 0, 1, 1, 0, 0, 1, 1, 0, 1, 0, 0, 2, 0, 1, 0, 1, 2, 0, 2, 2, 0, 0, 2, 0, 4, 3, 1, 1, 3, 3, 1, 1, 3, 1, 0, 1, 1, 2, 1, 2, 5, 0, 0, 1, 0, 1, 0, 3, 1, 4, 1, 4, 4, 4, 1, 0, 3, 0, 5, 0, 0, 1, 1, 0, 0, 1, 4, 0, 3, 2, 3, 3, 3, 0, 1, 0, 5, 3, 0, 0, 0, 0, 0, 2, 0, 3, 1, 1, 0, 1, 2, 1, 3, 2, 1, 1, 1, 5, 1, 1, 0, 1, 4, 1, 5, 1, 1, 4, 1, 3, 4, 0, 3, 0, 2, 1, 3, 1, 3, 4, 2, 0, 0, 2, 4, 0, 0, 3, 0, 3, 1, 1, 0, 1, 0, 3, 1, 0, 5, 3, 3, 1, 1, 0, 0, 0, 0, 1, 3, 0, 1, 0, 0, 4, 3, 3, 2, 0, 0, 0, 4, 1, 4, 1, 5, 1, 0, 0, 4, 0, 2, 0, 1, 0, 3, 0, 1, 3, 2, 1, 1, 0, 0, 1, 0, 3, 1, 0, 0, 0, 3, 2, 3, 3, 0, 1, 2, 0, 1, 4, 1, 1, 2, 0, 2, 1, 1, 3, 5, 1, 0, 4, 0, 0, 4, 4, 1, 0, 0, 0, 0, 0, 3, 4, 0, 4, 0, 1, 1, 0, 4, 4, 1, 3, 3, 4, 1, 1, 0, 1, 1, 0, 0, 2, 0, 1, 4, 3, 4, 3, 1, 4, 0, 3, 0, 0, 1, 0, 3, 1, 1, 0, 0, 0, 4, 1, 0, 1, 0, 0, 0, 0, 2, 4, 0, 5, 2, 4, 4, 1, 0, 1, 0, 3, 1, 5, 4, 4, 0, 1, 0, 0, 3, 0, 4, 4, 1, 1, 0, 3, 1, 4, 3, 1, 1, 1, 4, 1, 1, 1, 4, 0, 3, 1, 4, 0, 3, 1, 1, 0, 0, 2, 1, 3, 3, 0, 1, 4, 1, 1, 1, 1, 4, 0, 1, 2, 1, 1, 2, 0, 1, 4, 1, 0, 1, 3, 0, 0, 1, 1, 1, 1, 4, 0, 0, 1, 3, 0, 1, 1, 0, 1, 0, 0, 1, 1, 3, 1, 4, 0, 0, 2, 1, 3, 0, 3, 4, 4, 1, 0, 0, 0, 0, 1, 1, 3, 0, 4, 2, 5, 0, 4, 3, 4, 0, 2, 0, 0, 4, 1, 2, 0, 0, 2, 5, 0, 2, 1, 1, 2, 0, 2, 1, 1, 1, 0, 1, 1, 0, 0, 0, 1, 2, 1, 2, 1, 4, 1, 4, 1, 1, 1, 0, 0, 4, 1, 1, 0, 1, 1, 0, 1, 3, 4, 0, 0, 0, 0, 4, 1, 1, 2, 4, 1, 1, 0, 4, 5, 1, 0, 0, 0, 1, 0, 2, 2, 4, 1, 4, 3, 3, 4, 3, 3, 1, 0, 0, 2, 1, 1, 2, 1, 2, 0, 5, 1, 0, 1, 3, 0, 4, 0, 4, 1, 4, 1, 3, 4, 4, 0, 0, 1, 3, 3, 1, 1, 1, 0, 1, 4, 1, 0, 0, 0, 1, 2, 3, 1, 3, 1, 3, 1, 4, 1, 3, 3, 1, 4, 0, 1, 4, 0, 4, 1, 1, 1, 1, 1, 0, 3, 0, 1, 3, 3, 1, 1, 0, 0, 4, 1, 4, 1, 0, 0, 2, 1, 1, 4, 4, 0, 1, 4, 1, 0, 2, 3, 1, 0, 2, 2, 1, 1, 4, 4, 0, 1, 1, 0, 3, 4, 0, 4, 1, 5, 0, 0, 4, 0, 1, 0, 3, 0, 4, 1, 4, 0, 2, 0, 0, 1, 1, 1, 0, 1, 0, 5, 0, 3, 1, 0, 1, 1, 0, 3, 2, 3, 4, 1, 0, 1, 4, 2, 0, 1, 0, 0, 1, 4, 0, 2, 0, 0, 1, 2, 0, 2, 1, 4, 3, 4, 0, 4, 4, 0, 0, 4, 1, 1, 1, 3, 2, 4, 0, 1, 0, 3, 0, 1, 2, 1, 0, 1, 0, 0, 0, 0, 1, 3, 2, 0, 1, 0, 2, 1, 1, 1, 0, 4, 1, 0, 1, 1, 5, 1, 4, 4, 3, 4, 0, 0, 0, 4, 0, 3, 1, 3, 0, 0, 3, 4, 3, 4, 2, 3, 2, 1, 4, 3, 1, 2, 1, 0, 2, 1, 2, 4, 1, 4, 4, 0, 0, 1, 2, 0, 1, 0, 0, 2, 0, 0, 4, 1, 0, 1, 3, 1, 4, 0, 1, 1, 2, 5, 1, 3, 2, 3, 0, 1, 1, 1, 2, 0, 2, 1, 0, 1, 1, 3, 3, 1, 0, 4, 0, 1, 4, 1, 3, 0, 1, 1, 1, 4, 4, 0, 1, 0, 0, 1, 1, 0, 1, 4, 3, 1, 0, 4, 1, 0, 2, 3, 0, 1, 5, 1, 1, 4, 3, 4, 4, 3, 1, 3, 3, 5, 3, 4, 0, 1, 1, 1, 0, 2, 0, 1, 0, 1, 4, 0, 1, 4, 3, 1, 3, 0, 1, 3, 1, 0, 4, 1, 1, 0, 0, 3, 2, 0, 0, 1, 1, 3, 2, 3, 0, 0, 1, 0, 5, 5, 0, 4, 1, 1, 1, 4, 0, 1, 4, 0, 1, 4, 1, 1, 0, 4, 1, 3, 4, 0, 1, 3, 0, 1, 0, 0, 0, 0, 0, 2, 0, 3, 4, 0, 1, 0, 0, 2, 4, 3, 3, 1, 4, 1, 1, 0, 0, 0, 0, 0, 3, 4, 0, 2, 1, 0, 1, 1, 4, 4, 1, 0, 2, 0, 0, 2, 4, 3, 3, 1, 0, 0, 1, 3, 1, 0, 0, 0, 0, 4, 0, 3, 1, 1, 3, 3, 2, 1, 4, 1, 0, 0, 5, 1, 1, 1, 0, 1, 0, 3, 3, 1, 0, 0, 0, 1, 0, 2, 1, 5, 0, 0, 1, 3, 0, 0, 4, 4, 0, 0, 1, 1, 1, 2, 2, 2, 1, 4, 4, 1, 0, 3, 1, 1, 3, 3, 3, 0, 2, 1, 0, 5, 0, 0, 0, 0, 0, 3, 0, 3, 2, 3, 1, 3, 4, 4, 0, 4, 4, 1, 3, 1, 1, 0, 0, 1, 0, 0, 4, 0, 1, 1, 5, 0, 2, 0, 2, 1, 0, 1, 3, 1, 3, 4, 1, 2, 0, 0, 2, 0, 1, 1, 3, 1, 3, 2, 0, 3, 1, 0, 1, 0, 1, 3, 3, 0, 2, 1, 1, 0, 2, 2, 5, 1, 1, 1, 1, 1, 0, 1, 3, 4, 3, 2, 0, 1, 0, 1, 1, 1, 5, 1, 1, 5, 0, 0, 2, 3, 1, 2, 4, 2, 4, 1, 0, 3, 0, 1, 1, 0, 1, 1, 1, 1, 1, 0, 0, 0, 2, 0, 0, 3, 1, 1, 3, 1, 1, 1, 4, 0, 2, 0, 3, 0, 1, 1, 0, 0, 0, 0, 1, 3, 1, 1, 0, 0, 3, 3, 0, 1, 4, 0, 4, 1, 0, 3, 1, 1, 4, 1, 0, 0, 0, 1, 1, 0, 0, 4, 0, 1, 2, 0, 0, 0, 1, 4, 4, 0, 3, 3, 1, 1, 0, 4, 1, 3, 4, 3, 0, 1, 0, 1, 0, 3, 0, 1, 1, 1, 3, 0, 5, 0, 2, 1, 1, 4, 0, 2, 1, 1, 0, 2, 1, 4, 5, 1, 1, 1, 4, 1, 3, 0, 1, 0, 0, 0, 1, 1, 4, 4, 0, 0, 3, 1, 0, 1, 0, 5, 1, 3, 2, 4, 0, 2, 3, 1, 2, 0, 1, 1, 0, 2, 2, 2, 3, 0, 4, 0, 1, 4, 1, 2, 0, 0, 1, 1, 2, 3, 3, 4, 1, 1, 1, 3, 0, 1, 4, 4, 0, 4, 3, 2, 1, 0, 0, 4, 1, 1, 0, 1, 1, 1, 1, 2, 3, 1, 1, 0, 4, 4, 4, 1, 1, 1, 3, 1, 1, 4, 0, 0, 0, 0, 3, 0, 4, 0, 5, 0, 4, 3, 3, 4, 0, 4, 2, 2, 1, 5, 0, 1, 3, 3, 0, 3, 4, 4, 2, 5, 0, 1, 1, 1, 0, 0, 0, 4, 0, 1, 1, 4, 1, 4, 2, 5, 1, 3, 1, 2, 4, 4, 0, 5, 1, 4, 0, 1, 0, 1, 0, 2, 5, 3, 1, 1, 0, 0, 1, 3, 1, 1, 1, 1, 4, 1, 3, 2, 4, 0, 0, 1, 3, 5, 1, 3, 0, 1, 2, 1, 3, 0, 1, 1, 0, 4, 0, 3, 0, 2, 0, 1, 5, 0, 1, 4, 1, 1, 1, 0, 4, 4, 0, 0, 3, 3, 1, 1, 1, 1, 0, 1, 1, 3, 1, 1, 3, 1, 3, 1, 0, 4, 0, 1, 3, 2, 4, 1, 3, 4, 4, 1, 0, 0, 3, 1, 3, 1, 1, 1, 4, 0, 0, 0, 4, 1, 3, 0, 4, 0, 1, 0, 3, 3, 3, 1, 0, 0, 1, 0, 4, 0, 0, 0, 0, 0, 5, 1, 1, 0, 2, 1, 1, 1, 3, 3, 1, 1, 0, 1, 2, 1, 2, 0, 3, 4, 1, 0, 0, 5, 2, 1, 1, 1, 4, 0, 1, 0, 1, 5, 1, 4, 1, 1, 5, 0, 0, 0, 3, 0, 1, 0, 2, 3, 1, 0, 1, 1, 2, 0, 0, 1, 4, 2, 1, 0, 2, 1, 1, 4, 1, 1, 1, 3, 2, 0, 1, 1, 1, 0, 1, 0, 5, 0, 1, 1, 1, 2, 4, 0, 1, 0, 1, 0, 2, 1, 2, 0, 4, 3, 5, 1, 0, 4, 0, 0, 1, 0, 1, 1, 0, 1, 3, 0, 4, 1, 1, 1, 5, 0, 1, 4, 1, 0, 0, 0, 1, 3, 0, 1, 4, 1, 1, 1, 1, 0, 0, 0, 2, 1, 4, 2, 0, 3, 0, 1, 1, 2, 0, 2, 1, 1, 1, 1, 0, 0, 4, 0, 0, 1, 0, 1, 2, 2, 2, 1, 2, 1, 1, 1, 1, 1, 2, 0, 1, 0, 1, 3, 0, 1, 1, 4, 4, 1, 1, 3, 0, 2, 4, 0, 1, 1, 3, 4, 4, 3, 4, 4, 3, 1, 4, 5, 4, 0, 1, 2, 1, 3, 4, 1, 1, 1, 1, 1, 4, 0, 0, 0, 4, 1, 5, 3, 1, 1, 4, 0, 1, 1, 3, 4, 4, 1, 0, 1, 1, 0, 4, 1, 0, 1, 0, 1, 0, 3, 1, 2, 0, 0, 4, 1, 0, 0, 2, 0, 4, 3, 0, 3, 1, 0, 3, 3, 1, 4, 2, 1, 0, 1, 0, 1, 1, 0, 0, 0, 4, 4, 2, 4, 1, 2, 3, 0, 0, 1, 3, 1, 0, 1, 1, 2, 3, 3, 2, 0, 3, 1, 3, 1, 4, 1, 1, 4, 0, 0, 1, 1, 1, 1, 1, 1, 0, 0, 0, 1, 5, 1, 2, 1, 3, 2, 0, 1, 1, 1, 1, 0, 0, 0, 2, 0, 3, 1, 0, 0, 1, 1, 0, 0, 2, 4, 1, 0, 0, 1, 0, 2, 3, 2, 3, 0, 1, 3, 3, 2, 4, 0, 0, 1, 1, 1, 0, 1, 0, 0, 1, 1, 0, 1, 1, 1, 1, 0, 0, 5, 1, 3, 4, 1, 1, 0, 1, 1, 1, 1, 5, 1, 5, 1, 4, 0, 1, 1, 5, 3, 4, 0, 3, 4, 1, 0, 4, 2, 1, 0, 0, 0, 0, 1, 0, 1, 4, 0, 0, 0, 1, 3, 1, 0, 1, 0, 1, 0, 0, 1, 0, 1, 1, 3, 0, 1, 1, 3, 3, 1, 2, 1, 3, 4, 0, 2, 0, 2, 0, 0, 0, 1, 0, 4, 1, 3, 0, 0, 0, 2, 1, 3, 1, 1, 4, 1, 0, 1, 0, 4, 2, 2, 1, 1, 0, 1, 1, 1, 0, 4, 1, 1, 0, 4, 1, 0, 3, 2, 3, 0, 5, 4, 3, 5, 5, 0, 3, 4, 1, 1, 1, 3, 4, 0, 1, 1, 2, 1, 3, 1, 4, 1, 0, 1, 1, 0, 1, 0, 3, 3, 1, 0, 1, 1, 0, 3, 3, 0, 1, 1, 2, 1, 1, 1, 2, 2, 1, 4, 0, 4, 0, 0, 3, 0, 1, 3, 4, 3, 3, 3, 2, 1, 0, 0, 0, 4, 1, 1, 3, 0, 3, 1, 3, 1, 1, 3, 1, 0, 1, 4, 1, 2, 2, 0, 0, 4, 3, 1, 3, 1, 1, 3, 0, 1, 1, 5, 4, 1, 2, 2, 0, 0, 0, 0, 3, 0, 0, 1, 4, 2, 3, 3, 4, 1, 4, 0, 0, 3, 0, 1, 1, 0, 4, 3, 0, 3, 0, 1, 0, 1, 4, 0, 0, 1, 0, 0, 1, 1, 1, 1, 0, 4, 0, 2, 1, 1, 1, 1, 0, 0, 1, 0, 1, 1, 3, 1, 1, 1, 1, 4, 1, 0, 1, 0, 0, 1, 1, 4, 0, 4, 0, 0, 0, 0, 3, 1, 4, 1, 1, 4, 1, 0, 0, 1, 3, 0, 1, 4, 0, 1, 1, 4, 3, 1, 3, 0, 3, 2, 0, 1, 3, 0, 0, 1, 1, 1, 1, 0, 4, 0, 4, 1, 3, 3, 1, 0, 1, 1, 3, 0, 0, 1, 0, 2, 4, 4, 1, 2, 1, 1, 4, 0, 0, 4, 2, 0, 1, 1, 4, 2, 4, 0, 1, 0, 2, 4, 0, 1, 1, 0, 0, 2, 1, 1, 1, 4, 0, 4, 0, 0, 4, 4, 2, 0, 5, 0, 1, 4, 2, 2, 1, 2, 4, 0, 3, 1, 0, 0, 2, 1, 0, 0, 1, 2, 0, 3, 0, 4, 0, 0, 1, 1, 1, 1, 4, 1, 0, 0, 4, 1, 4, 0, 3, 0, 1, 0, 0, 1, 0, 1, 0, 1, 1, 1, 1, 4, 0, 3, 1, 4, 1, 1, 0, 0, 0, 0, 4, 3, 1, 0, 1, 4, 3, 0, 3, 0, 0, 1, 0, 2, 0, 4, 1, 1, 1, 1, 1, 3, 0, 0, 3, 0, 0, 1, 3, 3, 1, 1, 4, 2, 3, 0, 0, 4, 0, 1, 4, 5, 0, 4, 0, 2, 4, 0, 0, 0, 1, 0, 2, 4, 3, 3, 1, 1, 1, 1, 0, 0, 1, 1, 3, 1, 3, 1, 0, 1, 1, 3, 0, 0, 1, 0, 1, 2, 3, 1, 3, 1, 3, 0, 0, 2, 0, 3, 1, 2, 1, 3, 0, 1, 0, 3, 3, 0, 1, 4, 3, 2, 0, 3, 0, 4, 1, 0, 0, 3, 3, 4, 5, 4, 0, 1, 1, 2, 1, 2, 1, 0, 2, 1, 1, 1, 0, 1, 0, 1, 3, 1, 2, 1, 0, 0, 0, 3, 4, 2, 1, 3, 0, 0, 1, 4, 1, 4, 2, 2, 3, 3, 0, 4, 0, 0, 5, 2, 1, 1, 2, 0, 1, 1, 4, 0, 3, 3, 0, 2, 4, 4, 3, 3, 1, 0, 0, 1, 1, 4, 0, 1, 2, 4, 3, 0, 1, 3, 5, 4, 1, 1, 2, 4, 0, 1, 3, 4, 3, 0, 0, 0, 3, 0, 4, 1, 3, 3, 0, 4, 1, 3, 4, 0, 1, 4, 1, 2, 3, 4, 4, 4, 4, 1, 3, 3, 0, 1, 0, 1, 0, 0, 1, 0, 4, 4, 1, 0, 1, 0, 1, 4, 3, 0, 1, 3, 1, 1, 0, 1, 1, 3, 3, 1, 1, 1, 0, 1, 1, 1, 3, 3, 1, 2, 1, 2, 1, 1, 1, 0, 1, 0, 5, 0, 3, 3, 3, 4, 4, 1, 4, 4, 1, 3, 1, 1, 1, 2, 1, 4, 0, 0, 5, 0, 0, 3, 1, 2, 4, 1, 3, 1, 5, 3, 4, 0, 1, 0, 1, 0, 2, 4, 0, 0, 5, 1, 3, 3, 0, 5, 3, 1, 4, 0, 4, 1, 1, 4, 0, 1, 1, 1, 4, 0, 2, 4, 2, 0, 3, 2, 0, 1, 1, 1, 4, 0, 3, 4, 2, 1, 2, 3, 0, 1, 1, 2, 0, 1, 0, 1, 0, 0, 4, 3, 1, 0, 1, 0, 1, 1, 0, 5, 1, 1, 3, 1, 1, 4, 1, 0, 0, 4, 3, 0, 1, 0, 0, 1, 3, 0, 0, 4, 0, 1, 5, 0, 1, 0, 3, 3, 4, 1, 1, 4, 4, 2, 0, 2, 1, 0, 1, 1, 1, 3, 5, 1, 3, 3, 3, 1, 0, 4, 3, 1, 0, 0, 4, 1, 1, 3, 0, 1, 4, 1, 0, 0, 1, 1, 0, 0, 0, 5, 2, 5, 1, 1, 1, 1, 2, 1, 0, 4, 4, 0, 3, 1, 1, 4, 0, 0, 0, 4, 1, 2, 3, 0, 1, 1, 1, 0, 2, 0, 1, 1, 0, 1, 1, 0, 0, 1, 4, 0, 1, 1, 0, 1, 0, 0, 1, 2, 1, 0, 0, 0, 2, 1, 1, 1, 5, 1, 3, 1, 0, 1, 1, 4, 3, 1, 0, 1, 0, 0, 0, 1, 1, 0, 1, 5, 1, 0, 5, 4, 1, 1, 0, 0, 5, 0, 4, 4, 3, 5, 2, 5, 3, 1, 1, 1, 0, 1, 1, 0, 3, 0, 0, 0, 1, 4, 1, 1, 1, 0, 1, 0, 1, 0, 0, 4, 1, 1, 0, 1, 1, 3, 1, 1, 0, 1, 0, 4, 3, 1, 1, 3, 1, 0, 2, 3, 1, 0, 2, 4, 3, 1, 0, 0, 1, 1, 4, 0, 0, 2, 0, 3, 1, 0, 3, 0, 0, 1, 4, 5, 4, 1, 0, 1, 3, 5, 0, 3, 3, 4, 0, 0, 1, 0, 4, 0, 3, 0, 1, 3, 1, 2, 3, 4, 2, 2, 0, 0, 3, 1, 2, 0, 1, 0, 0, 4, 4, 4, 0, 2, 1, 2, 0, 4, 1, 4, 1, 1, 3, 1, 4, 1, 1, 0, 3, 0, 1, 3, 4, 5, 1, 0, 4, 0, 1, 1, 3, 0, 2, 4, 3, 0, 0, 2, 0, 2, 1, 1, 0, 0, 4, 1, 1, 1, 1, 1, 0, 1, 1, 2, 3, 1, 4, 4, 2, 4, 0, 1, 0, 0, 1, 3, 1, 1, 1, 0, 0, 2, 0, 0, 0, 4, 3, 3, 3, 0, 0, 2, 3, 4, 1, 1, 2, 1, 4, 0, 3, 2, 1, 1, 5, 0, 1, 0, 0, 0, 0, 1, 1, 0, 2, 0, 0, 4, 1, 0, 1, 1, 0, 4, 4, 1, 1, 1, 1, 3, 0, 0, 4, 4, 0, 0, 3, 1, 1, 0, 1, 4, 4, 0, 3, 1, 1, 4, 1, 1, 3, 0, 3, 4, 0, 5, 1, 0, 5, 0, 3, 1, 0, 4, 4, 4, 1, 3, 2, 3, 3, 3, 1, 3, 3, 1, 3, 4, 1, 0, 2, 0, 3, 4, 0, 1, 1, 3, 1, 1, 1, 3, 0, 0, 0, 1, 0, 2, 0, 1, 4, 1, 3, 0, 3, 4, 0, 3, 1, 3, 0, 1, 4, 0, 0, 4, 1, 4, 4, 4, 0, 1, 5, 1, 1, 0, 1, 2, 4, 1, 4, 1, 2, 0, 0, 3, 2, 1, 0, 2, 3, 1, 3, 0, 4, 0, 5, 5, 1, 2, 3, 4, 1, 0, 0, 1, 0, 0, 1, 1, 2, 0, 4, 2, 3, 1, 1, 0, 1, 1, 1, 5, 1, 4, 2, 1, 4, 0, 4, 2, 1, 4, 0, 4, 0, 1, 0, 0, 0, 3, 1, 1, 1, 2, 4, 0, 3, 3, 0, 4, 4, 2, 4, 0, 4, 3, 1, 3, 0, 3, 1, 3, 0, 3, 0, 0, 1, 1, 3, 4, 0, 3, 0, 2, 0, 0, 0, 3, 2, 0, 1, 3, 2, 1, 0, 3, 0, 4, 2, 0, 0, 3, 2, 1, 5, 4, 3, 0, 0, 4, 4, 0, 4, 0, 3, 4, 3, 0, 1, 5, 4, 2, 0, 3, 0, 1, 2, 0, 3, 4, 2, 1, 1, 1, 1, 1, 3, 2, 4, 1, 1, 1, 3, 0, 0, 0, 1, 1, 0, 1, 4, 0, 0, 0, 0, 4, 4, 0, 1, 3, 1, 5, 0, 0, 0, 0, 1, 3, 2, 0, 1, 0, 0, 1, 1, 0, 0, 0, 3, 5, 0, 3, 1, 2, 2, 3, 2, 4, 1, 4, 1, 2, 1, 1, 4, 4, 3, 1, 3, 4, 2, 4, 0, 3, 4, 4, 1, 1, 0, 0, 2, 0, 0, 1, 0, 0, 4, 0, 1, 4, 1, 1, 0, 0, 3, 4, 0, 5, 5, 5, 0, 0, 1, 0, 3, 0, 0, 1, 0, 1, 0, 0, 3, 1, 3, 1, 5, 3, 0, 5, 4, 3, 0, 1, 0, 2, 1, 0, 0, 1, 1, 5, 1, 1, 1, 1, 1, 1, 3, 0, 4, 3, 4, 0, 1, 5, 1, 3, 4, 0, 2, 1, 0, 1, 1, 1, 0, 1, 3, 3, 1, 1, 0, 0, 0, 1, 1, 0, 0, 3, 1, 1, 0, 0, 3, 4, 1, 0, 2, 1, 0, 0, 0, 0, 3, 0, 1, 5, 2, 1, 5, 2, 1, 1, 1, 1, 1, 3, 1, 1, 3, 2, 1, 5, 3, 3, 0, 4, 4, 1, 1, 0, 0, 1, 3, 1, 0, 1, 0, 1, 1, 1, 0, 2, 1, 0, 2, 3, 2, 1, 1, 0, 4, 1, 4, 0, 1, 1, 2, 3, 3, 3, 2, 3, 3, 4, 1, 1, 0, 0, 0, 1, 3, 5, 1, 0, 0, 1, 1, 2, 3, 1, 1, 4, 1, 3, 4, 3, 0, 1, 0, 1, 0, 1, 0, 0, 3, 4, 1, 0, 2, 3, 0, 0, 1, 3, 4, 5, 2, 0, 5, 5, 2, 0, 1, 1, 3, 0, 0, 2, 3, 4, 4, 1, 4, 1, 0, 0, 1, 1, 0, 4, 2, 0, 1, 0, 5, 1, 1, 3, 1, 1, 3, 1, 0, 0, 3, 1, 4, 4, 0, 1, 0, 0, 0, 3, 1, 3, 3, 1, 1, 1, 1, 1, 1, 0, 1, 1, 1, 1, 1, 1, 4, 3, 2, 0, 0, 1, 0, 4, 1, 3, 4, 0, 1, 0, 2, 1, 1, 1, 1, 4, 1, 4, 3, 2, 3, 0, 4, 0, 0, 1, 1, 0, 0, 0, 1, 1, 1, 2, 3, 5, 0, 0, 0, 1, 5, 5, 2, 4, 2, 4, 3, 1, 1, 0, 1, 0, 0, 1, 0, 1, 2, 4, 0, 1, 1, 0, 1, 0, 3, 1, 0, 2, 0, 4, 1, 4, 2, 1, 3, 1, 1, 4, 1, 1, 1, 1, 1, 1, 0, 1, 4, 5, 0, 3, 0, 0, 1, 4, 4, 3, 1, 2, 4, 1, 0, 4, 2, 0, 1, 1, 0, 0, 1, 0, 1, 0, 1, 3, 2, 4, 1, 1, 5, 1, 0, 1, 1, 1, 4, 4, 1, 0, 0, 1, 1, 1, 2, 0, 2, 1, 1, 4, 0, 0, 2, 0, 0, 0, 1, 0, 0, 0, 2, 4, 1, 1, 4, 1, 0, 3, 0, 1, 1, 0, 3, 1, 0, 2, 1, 3, 1, 4, 1, 5, 0, 0, 3, 4, 0, 4, 0, 1, 4, 3, 1, 0, 1, 0, 1, 0, 3, 4, 0, 1, 3, 0, 3, 4, 1, 3, 1, 0, 4, 1, 1, 0, 0, 0, 2, 0, 0, 1, 4, 1, 0, 3, 1, 0, 2, 4, 1, 1, 0, 1, 0, 1, 2, 5, 0, 0, 1, 4, 0, 0, 0, 2, 1, 1, 4, 0, 4, 0, 1, 1, 5, 0, 1, 0, 3, 1, 3, 1, 3, 0, 0, 3, 1, 0, 0, 4, 3, 4, 0, 4, 1, 4, 1, 3, 1, 0, 5, 3, 0, 0, 4, 4, 1, 0, 0, 0, 1, 1, 5, 3, 3, 3, 1, 3, 0, 0, 1, 2, 1, 1, 0, 3, 1, 2, 1, 1, 1, 1, 1, 1, 4, 1, 2, 1, 1, 2, 1, 4, 0, 1, 2, 2, 1, 0, 1, 1, 1, 3, 0, 1, 4, 1, 0, 0, 1, 4, 3, 3, 1, 3, 1, 2, 1, 1, 1, 1, 0, 1, 1, 1, 1, 3, 1, 5, 0, 1, 0, 3, 3, 0, 0, 0, 2, 3, 3, 0, 0, 1, 0, 0, 1, 1, 4, 1, 1, 1, 4, 5, 0, 0, 1, 4, 4, 1, 1, 0, 4, 1, 0, 0, 0, 4, 4, 0, 5, 0, 1, 0, 4, 1, 1, 1, 4, 4, 1, 1, 3, 4, 0, 0, 1, 3, 4, 0, 0, 0, 0, 1, 2, 1, 1, 3, 2, 3, 1, 0, 5, 0, 3, 0, 4, 0, 3, 3, 0, 1, 0, 3, 2, 1, 0, 0, 0, 3, 1, 4, 1, 3, 4, 1, 4, 0, 4, 1, 1, 1, 0, 4, 0, 0, 0, 0, 1, 0, 1, 2, 2, 0, 1, 2, 2, 1, 3, 0, 1, 4, 0, 0, 1, 3, 4, 0, 5, 3, 0, 0, 1, 1, 0, 0, 1, 1, 0, 1, 5, 3, 3, 1, 1, 1, 1, 1, 0, 0, 0, 3, 3, 0, 1, 4, 0, 4, 0, 0, 1, 1, 1, 3, 1, 1, 1, 0, 1, 3, 4, 3, 4, 3, 0, 1, 3, 0, 3, 3, 1, 0, 1, 2, 1, 0, 0, 4, 1, 1, 0, 1, 5, 1, 1, 3, 0, 3, 1, 0, 1, 1, 2, 1, 3, 3, 0, 1, 0, 0, 1, 0, 2, 5, 1, 1, 0, 0, 0, 2, 0, 2, 0, 1, 0, 1, 3, 4, 1, 2, 3, 0, 3, 1, 5, 0, 1, 4, 0, 4, 1, 4, 1, 3, 4, 1, 3, 1, 1, 0, 0, 1, 0, 0, 2, 0, 4, 3, 3, 1, 3, 0, 1, 1, 1, 1, 0, 1, 1, 2, 0, 4, 1, 0, 1, 3, 3, 3, 1, 1, 0, 1, 3, 3, 0, 1, 1, 1, 3, 2, 0, 1, 0, 1, 0, 0, 4, 0, 4, 0, 0, 0, 1, 1, 1, 0, 0, 0, 2, 0, 4, 5, 0, 0, 1, 1, 1, 3, 3, 5, 2, 0, 1, 3, 0, 3, 3, 4, 4, 1, 1, 1, 1, 1, 0, 3, 2, 1, 0, 4, 1, 0, 1, 4, 3, 3, 1, 4, 0, 1, 2, 2, 1, 1, 3, 0, 4, 1, 4, 2, 0, 0, 0, 3, 5, 0, 3, 0, 0, 4, 5, 2, 1, 1, 0, 1, 3, 1, 2, 3, 1, 5, 4, 3, 1, 1, 2, 1, 2, 0, 1, 0, 1, 1, 1, 1, 1, 0, 3, 1, 4, 0, 1, 0, 0, 0, 1, 1, 4, 4, 1, 5, 3, 0, 0, 1, 1, 1, 3, 1, 1, 3, 4, 1, 1, 4, 4, 4, 1, 0, 1, 3, 1, 0, 0, 0, 0, 5, 1, 1, 0, 1, 0, 0, 5, 1, 4, 3, 3, 1, 0, 1, 1, 1, 0, 1, 3, 0, 1, 1, 0, 0, 0, 4, 1, 0, 3, 3, 0, 1, 1, 0, 1, 3, 2, 5, 0, 1, 0, 3, 1, 5, 2, 0, 3, 0, 1, 0, 2, 2, 1, 0, 0, 0, 1, 0, 3, 0, 4, 0, 1, 2, 0, 0, 0, 1, 4, 0, 1, 0, 0, 1, 1, 1, 0, 0, 0, 5, 4, 1, 0, 3, 0, 1, 4, 5, 2, 5, 1, 1, 1, 0, 1, 4, 0, 4, 0, 0, 4, 2, 0, 1, 0, 3, 1, 0, 2, 1, 1, 0, 1, 0, 0, 4, 2, 3, 0, 0, 3, 1, 0, 2, 1, 0, 4, 1, 4, 1, 0, 0, 3, 4, 1, 1, 0, 1, 0, 3, 1, 3, 3, 0, 1, 0, 1, 0, 0, 0, 1, 5, 1, 2, 5, 0, 1, 1, 0, 1, 1, 1, 3, 1, 0, 0, 1, 1, 1, 4, 0, 3, 0, 1, 0, 1, 2, 0, 0, 0, 3, 4, 3, 4, 1, 3, 1, 1, 3, 1, 0, 3, 1, 3, 3, 1, 1, 5, 3, 4, 3, 4, 1, 0, 1, 0, 0, 1, 4, 1, 0, 4, 0, 2, 0, 5, 1, 3, 1, 3, 0, 4, 1, 4, 3, 0, 0, 2, 1, 1, 0, 1, 0, 1, 1, 3, 0, 0, 4, 1, 0, 1, 3, 0, 1, 0, 0, 2, 3, 1, 4, 0, 3, 3, 5, 3, 0, 3, 3, 3, 3, 1, 1, 2, 1, 0, 0, 0, 1, 4, 4, 1, 1, 3, 0, 3, 4, 1, 3, 0, 0, 1, 3, 1, 3, 5, 2, 1, 3, 0, 1, 0, 1, 0, 0, 4, 3, 3, 0, 4, 0, 0, 0, 2, 1, 3, 1, 2, 3, 2, 1, 1, 2, 0, 0, 3, 1, 0, 4, 5, 0, 4, 0, 3, 0, 1, 4, 2, 1, 0, 1, 3, 0, 4, 1, 1, 1, 1, 2, 0, 1, 1, 1, 4, 1, 1, 0, 2, 0, 0, 3, 1, 0, 3, 1, 0, 1, 5, 1, 4, 0, 4, 1, 2, 3, 1, 2, 1, 1, 1, 3, 2, 0, 4, 0, 1, 0, 0, 1, 1, 3, 3, 1, 2, 1, 0, 0, 3, 3, 0, 3, 2, 0, 4, 1, 1, 1, 0, 1, 3, 3, 4, 1, 1, 4, 1, 5, 0, 3, 5, 4, 1, 1, 1, 0, 1, 1, 4, 5, 1, 0, 1, 2, 0, 0, 3, 1, 0, 0, 2, 4, 3, 1, 3, 0, 1, 0, 0, 0, 1, 2, 1, 0, 1, 1, 3, 4, 0, 2, 0, 0, 3, 0, 1, 2, 1, 2, 4, 1, 1, 0, 1, 1, 1, 2, 3, 1, 0, 1, 1, 1, 0, 1, 1, 4, 3, 0, 3, 2, 1, 1, 1, 0, 4, 1, 4, 0, 1, 1, 1, 0, 1, 1, 1, 0, 3, 1, 1, 0, 1, 3, 4, 1, 0, 1, 0, 3, 1, 0, 0, 4, 2, 0, 1, 2, 1, 4, 0, 3, 1, 4, 0, 0, 3, 3, 4, 4, 2, 3, 1, 0, 2, 1, 0, 5, 3, 1, 1, 4, 0, 1, 2, 0, 3, 1, 3, 4, 0, 3, 0, 1, 1, 0, 4, 1, 3, 4, 0, 4, 3, 1, 0, 1, 4, 1, 0, 0, 0, 1, 4, 0, 4, 1, 2, 1, 1, 1, 1, 1, 1, 4, 1, 1, 0, 4, 1, 0, 0, 1, 1, 0, 0, 1, 1, 0, 0, 2, 1, 5, 0, 0, 2, 0, 2, 2, 1, 2, 3, 4, 1, 1, 0, 4, 4, 4, 1, 1, 3, 1, 1, 3, 2, 4, 3, 0, 0, 4, 0, 0, 3, 3, 3, 1, 1, 1, 1, 1, 1, 2, 1, 3, 0, 1, 4, 0, 2, 2, 4, 1, 0, 5, 0, 4, 4, 3, 0, 0, 1, 1, 1, 1, 0, 0, 4, 1, 1, 1, 1, 0, 1, 1, 4, 0, 1, 1, 2, 1, 0, 0, 3, 1, 1, 0, 5, 1, 4, 5, 4, 1, 1, 4, 1, 3, 2, 0, 1, 0, 2, 0, 1, 3, 4, 0, 2, 2, 1, 0, 1, 1, 0, 0, 1, 0, 0, 4, 0, 1, 0, 1, 1, 4, 1, 1, 2, 1, 1, 1, 3, 2, 1, 1, 0, 1, 0, 0, 0, 4, 0, 1, 0, 4, 1, 4, 0, 0, 4, 1, 2, 1, 2, 1, 1, 4, 0, 1, 1, 2, 3, 1, 3, 1, 0, 0, 4, 1, 0, 5, 4, 1, 0, 1, 2, 1, 1, 1, 0, 5, 5, 4, 0, 1, 4, 0, 0, 3, 4, 5, 4, 0, 1, 1, 1, 1, 0, 0, 1, 4, 3, 3, 0, 0, 5, 0, 4, 3, 1, 4, 3, 4, 1, 0, 3, 2, 4, 1, 1, 0, 1, 0, 1, 1, 3, 2, 4, 1, 0, 1, 0, 0, 0, 0, 1, 3, 2, 3, 1, 1, 1, 0, 1, 0, 3, 1, 1, 0, 1, 1, 0, 3, 3, 1, 1, 0, 0, 1, 4, 2, 0, 1, 4, 1, 4, 2, 1, 1, 1, 1, 0, 1, 0, 1, 0, 4, 0, 1, 4, 1, 0, 1, 2, 2, 2, 1, 0, 1, 0, 0, 0, 3, 4, 5, 4, 1, 1, 3, 0, 1, 1, 1, 3, 3, 1, 0, 0, 0, 3, 4, 0, 1, 3, 1, 4, 3, 1, 3, 0, 1, 3, 0, 0, 4, 1, 1, 4, 0, 1, 1, 1, 0, 1, 4, 2, 3, 1, 1, 1, 0, 1, 0, 0, 3, 1, 3, 3, 1, 2, 0, 4, 4, 3, 4, 4, 0, 1, 0, 1, 0, 4, 2, 5, 2, 1, 0, 1, 4, 0, 1, 1, 0, 0, 3, 3, 4, 2, 1, 1, 1, 0, 0, 0, 0, 1, 2, 1, 4, 1, 0, 0, 4, 0, 0, 0, 3, 3, 1, 0, 0, 3, 0, 2, 4, 3, 0, 1, 1, 1, 2, 3, 3, 3, 4, 4, 1, 2, 4, 4, 5, 1, 1, 4, 0, 0, 0, 2, 5, 1, 2, 1, 1, 2, 1, 2, 5, 0, 1, 1, 1, 1, 3, 0, 1, 3, 2, 1, 4, 4, 0, 2, 0, 0, 0, 1, 0, 0, 2, 1, 0, 0, 1, 5, 3, 0, 0, 0, 1, 2, 4, 0, 0, 0, 1, 0, 0, 1, 0, 5, 2, 5, 0, 0, 2, 3, 0, 1, 3, 0, 1, 1, 1, 0, 3, 5, 1, 0, 4, 0, 1, 1, 0, 1, 0, 1, 0, 4, 5, 1, 5, 2, 1, 2, 1, 0, 4, 3, 1, 4, 0, 2, 0, 0, 0, 0, 1, 1, 0, 4, 3, 1, 0, 0, 5, 0, 5, 0, 4, 2, 2, 0, 4, 0, 0, 0, 1, 0, 1, 1, 0, 2, 1, 1, 3, 0, 1, 1, 0, 0, 1, 0, 0, 0, 0, 0, 3, 3, 3, 0, 2, 2, 0, 3, 0, 2, 0, 0, 1, 4, 2, 1, 4, 0, 1, 1, 0, 0, 3, 2, 1, 2, 1, 2, 1, 2, 1, 1, 0, 4, 5, 0, 1, 4, 0, 1, 4, 0, 0, 0, 3, 0, 1, 1, 2, 4, 2, 5, 0, 0, 1, 5, 3, 4, 1, 1, 0, 1, 0, 5, 4, 3, 1, 1, 4, 1, 0, 0, 1, 3, 0, 4, 4, 3, 3, 0, 3, 0, 0, 0, 1, 4, 2, 0, 0, 0, 4, 4, 0, 1, 1, 3, 0, 2, 1, 4, 0, 4, 2, 0, 0, 1, 0, 1, 1, 2, 1, 0, 1, 0, 4, 0, 1, 1, 3, 3, 3, 4, 3, 1, 5, 0, 0, 3, 1, 4, 3, 0, 1, 3, 0, 1, 4, 3, 4, 3, 1, 4, 3, 1, 3, 3, 3, 3, 4, 1, 1, 5, 0, 4, 1, 0, 0, 0, 1, 0, 0, 1, 3, 3, 1, 4, 2, 0, 1, 1, 3, 0, 1, 4, 4, 1, 0, 0, 3, 1, 2, 3, 0, 5, 1, 1, 0, 0, 0, 3, 0, 1, 0, 1, 3, 1, 1, 3, 1, 1, 0, 0, 1, 3, 1, 2, 4, 5, 0, 2, 5, 0, 3, 4, 4, 3, 3, 1, 3, 3, 2, 4, 2, 1, 3, 1, 3, 1, 0, 5, 4, 1, 1, 0, 0, 3, 1, 2, 0, 0, 0, 1, 4, 1, 4, 3, 2, 4, 3, 1, 0, 1, 2, 1, 4, 0, 1, 0, 1, 1, 1, 1, 1, 1, 1, 2, 0, 3, 1, 0, 1, 2, 0, 1, 0, 1, 0, 3, 4, 5, 0, 0, 0, 0, 1, 4, 0, 2, 1, 0, 0, 1, 3, 5, 3, 0, 2, 2, 2, 2, 4, 2, 1, 0, 5, 0, 0, 1, 0, 4, 1, 1, 0, 0, 1, 3, 0, 1, 1, 1, 4, 4, 4, 1, 1, 1, 4, 0, 0, 0, 1, 3, 2, 1, 3, 1, 0, 2, 1, 0, 2, 0, 2, 4, 3, 0, 0, 0, 0, 0, 0, 0, 3, 0, 1, 1, 0, 0, 4, 4, 1, 1, 3, 1, 2, 1, 1, 0, 0, 1, 1, 3, 0, 0, 0, 0, 0, 4, 0, 1, 0, 0, 4, 0, 4, 0, 1, 0, 0, 0, 4, 4, 3, 4, 4, 1, 3, 0, 3, 1, 3, 0, 1, 2, 1, 1, 0, 0, 1, 0, 0, 3, 0, 0, 3, 3, 1, 3, 0, 4, 3, 4, 0, 3, 1, 0, 4, 0, 0, 1, 5, 0, 4, 4, 5, 0, 1, 0, 0, 1, 1, 0, 4, 4, 4, 4, 2, 1, 5, 0, 1, 3, 0, 0, 0, 3, 0, 3, 0, 1, 1, 0, 1, 0, 0, 1, 1, 0, 1, 1, 1, 4, 0, 1, 1, 2, 1, 3, 1, 1, 3, 0, 1, 1, 3, 0, 3, 3, 5, 0, 0, 0, 0, 3, 1, 4, 0, 3, 3, 0, 0, 1, 0, 1, 1, 4, 1, 2, 0, 0, 3, 4, 3, 0, 1, 2, 3, 1, 0, 0, 1, 5, 4, 1, 1, 0, 4, 0, 1, 1, 2, 1, 0, 0, 5, 3, 0, 3, 0, 0, 0, 3, 0, 0, 1, 5, 0, 3, 5, 1, 1, 1, 2, 0, 0, 0, 0, 1, 0, 0, 0, 4, 0, 3, 0, 4, 2, 3, 1, 2, 0, 0, 4, 0, 0, 3, 0, 1, 4, 3, 3, 1, 1, 1, 1, 4, 0, 1, 5, 3, 1, 0, 0, 0, 2, 0, 1, 1, 1, 1, 1, 5, 1, 4, 4, 5, 1, 1, 3, 0, 1, 0, 3, 1, 3, 1, 3, 2, 3, 3, 0, 1, 4, 1, 1, 0, 2, 0, 0, 1, 1, 1, 1, 1, 1, 4, 3, 0, 1, 0, 1, 1, 0, 0, 1, 0, 1, 1, 3, 1, 0, 1, 1, 1, 3, 1, 1, 0, 4, 0, 1, 0, 3, 4, 0, 0, 0, 0, 2, 0, 1, 3, 0, 3, 0, 2, 0, 4, 4, 5, 1, 0, 4, 0, 2, 1, 0, 1, 3, 5, 0, 1, 1, 3, 2, 4, 1, 3, 0, 0, 2, 3, 0, 0, 1, 0, 1, 1, 0, 0, 3, 1, 1, 3, 0, 1, 1, 4, 0, 1, 0, 0, 0, 0, 1, 4, 0, 2, 2, 0, 4, 4, 1, 0, 1, 3, 0, 0, 0, 0, 4, 0, 0, 1, 0, 1, 1, 0, 2, 1, 0, 3, 3, 1, 1, 1, 5, 3, 4, 0, 0, 1, 0, 4, 0, 1, 4, 0, 3, 1, 1, 3, 1, 3, 3, 4, 1, 5, 4, 3, 3, 1, 1, 0, 0, 0, 1, 3, 5, 0, 3, 0, 1, 3, 1, 4, 1, 4, 1, 0, 0, 1, 1, 0, 1, 0, 0, 1, 0, 1, 0, 0, 3, 1, 3, 0, 1, 1, 4, 3, 3, 2, 1, 0, 1, 1, 3, 0, 3, 0, 0, 3, 3, 2, 4, 4, 1, 2, 0, 1, 1, 0, 1, 0, 0, 0, 0, 4, 0, 1, 3, 3, 4, 1, 2, 1, 1, 1, 1, 1, 0, 4, 1, 1, 2, 3, 1, 1, 0, 1, 0, 0, 4, 1, 1, 5, 1, 0, 1, 0, 1, 1, 0, 0, 1, 0, 3, 0, 0, 1, 1, 3, 1, 1, 1, 4, 4, 0, 0, 3, 0, 0, 3, 1, 4, 1, 3, 0, 2, 2, 0, 0, 0, 2, 1, 0, 1, 0, 3, 3, 1, 3, 1, 2, 1, 1, 2, 3, 4, 1, 3, 2, 2, 4, 1, 3, 1, 0, 2, 4, 1, 1, 0, 4, 1, 4, 1, 0, 2, 4, 1, 0, 0, 0, 0, 1, 1, 2, 0, 1, 4, 1, 1, 1, 1, 2, 0, 0, 3, 0, 3, 0, 1, 0, 0, 3, 1, 1, 1, 4, 1, 3, 1, 2, 4, 2, 4, 3, 1, 0, 0, 1, 2, 1, 2, 4, 2, 0, 4, 1, 3, 4, 4, 2, 0, 1, 4, 0, 1, 1, 0, 0, 3, 1, 0, 4, 0, 0, 4, 4, 0, 1, 1, 1, 0, 1, 3, 3, 1, 4, 1, 1, 1, 1, 2, 1, 1, 4, 3, 1, 1, 0, 0, 0, 1, 0, 3, 0, 1, 5, 2, 4, 5, 4, 3, 2, 1, 2, 3, 3, 0, 2, 0, 3, 0, 0, 0, 1, 0, 0, 1, 0, 1, 4, 0, 0, 3, 0, 4, 1, 0, 0, 0, 1, 1, 0, 3, 1, 1, 2, 3, 0, 3, 0, 1, 0, 4, 1, 1, 4, 3, 4, 0, 0, 2, 1, 4, 3, 0, 1, 0, 2, 2, 4, 3, 0, 1, 3, 2, 0, 3, 1, 5, 0, 1, 0, 0, 0, 1, 5, 3, 4, 3, 0, 0, 4, 0, 5, 1, 2, 0, 0, 0, 4, 2, 5, 1, 1, 0, 0, 0, 0, 1, 0, 4, 0, 3, 2, 1, 3, 0, 2, 1, 0, 4, 1, 1, 2, 0, 1, 4, 3, 0, 0, 1, 0, 0, 1, 2, 0, 3, 1, 3, 1, 0, 4, 3, 0, 4, 1, 1, 1, 1, 0, 1, 2, 3, 2, 0, 1, 4, 0, 1, 4, 0, 2, 0, 5, 5, 3, 4, 1, 1, 1, 0, 0, 1, 5, 1, 1, 1, 0, 1, 3, 4, 1, 0, 1, 0, 3, 0, 2, 2, 4, 4, 5, 0, 0, 1, 3, 3, 0, 4, 1, 0, 1, 3, 1, 5, 1, 5, 0, 1, 1, 0, 0, 1, 1, 0, 0, 1, 4, 0, 2, 3, 3, 0, 2, 2, 0, 5, 4, 0, 4, 1, 1, 3, 0, 4, 0, 1, 3, 1, 4, 3, 1, 4, 0, 2, 1, 1, 2, 1, 0, 1, 1, 3, 0, 1, 2, 1, 0, 1, 4, 4, 5, 3, 5, 4, 0, 0, 2, 0, 3, 3, 1, 3, 1, 2, 1, 1, 3, 1, 0, 0, 1, 1, 1, 3, 0, 0, 4, 0, 2, 0, 4, 1, 0, 1, 2, 1, 0, 0, 4, 4, 5, 3, 0, 4, 0, 4, 1, 3, 1, 1, 1, 4, 3, 1, 0, 1, 1, 2, 4, 0, 4, 0, 0, 1, 1, 1, 4, 0, 0, 0, 4, 3, 1, 0, 0, 5, 1, 2, 5, 1, 0, 1, 0, 3, 2, 1, 3, 3, 4, 1, 3, 0, 1, 1, 1, 1, 0, 0, 1, 1, 0, 1, 4, 4, 3, 3, 5, 0, 1, 1, 1, 1, 1, 0, 3, 1, 0, 1, 1, 1, 0, 1, 4, 0, 2, 2, 0, 0, 3, 1, 0, 1, 1, 1, 1, 4, 2, 0, 1, 0, 0, 4, 4, 0, 2, 3, 0, 0, 1, 0, 3, 0, 0, 0, 1, 5, 4, 0, 4, 1, 4, 3, 0, 2, 3, 4, 3, 0, 0, 1, 0, 1, 0, 1, 1, 3, 1, 0, 4, 4, 0, 1, 0, 0, 0, 2, 2, 1, 2, 0, 1, 1, 0, 4, 0, 4, 1, 0, 4, 0, 1, 0, 0, 4, 3, 4, 4, 1, 1, 1, 0, 1, 1, 0, 1, 1, 3, 2, 4, 4, 1, 1, 0, 0, 1, 1, 1, 4, 1, 1, 1, 1, 2, 1, 3, 0, 2, 1, 3, 0, 4, 0, 1, 4, 0, 3, 3, 3, 3, 2, 4, 0, 4, 0, 1, 1, 1, 1, 1, 3, 1, 0, 0, 1, 1, 4, 0, 4, 0, 1, 3, 0, 1, 3, 4, 2, 2, 1, 1, 3, 4, 3, 1, 1, 1, 0, 5, 0, 2, 1, 4, 1, 0, 0, 2, 3, 1, 2, 3, 1, 1, 0, 1, 0, 0, 3, 4, 4, 1, 0, 4, 0, 2, 1, 4, 2, 1, 3, 3, 3, 5, 1, 1, 1, 3, 1, 3, 0, 1, 1, 1, 3, 3, 1, 1, 4, 0, 2, 1, 4, 1, 0, 0, 0, 1, 5, 3, 1, 3, 1, 1, 3, 4, 1, 4, 2, 1, 5, 2, 4, 1, 1, 3, 4, 1, 0, 1, 0, 1, 0, 2, 4, 0, 0, 0, 1, 2, 0, 1, 1, 0, 4, 3, 0, 0, 0, 0, 1, 0, 1, 0, 3, 3, 1, 1, 4, 4, 3, 4, 1, 0, 0, 1, 5, 0, 2, 2, 2, 3, 1, 3, 4, 4, 0, 3, 0, 0, 1, 1, 0, 1, 4, 1, 3, 0, 4, 4, 3, 1, 2, 3, 2, 3, 1, 3, 1, 3, 0, 0, 4, 0, 0, 0, 1, 1, 2, 4, 0, 0, 0, 0, 0, 0, 1, 4, 1, 0, 4, 1, 1, 1, 0, 1, 1, 1, 1, 0, 0, 2, 0, 0, 0, 1, 0, 4, 5, 4, 4, 1, 1, 3, 1, 3, 1, 3, 0, 3, 1, 1, 3, 2, 1, 0, 3, 4, 2, 3, 1, 0, 3, 0, 0, 5, 2, 0, 1, 5, 4, 0, 3, 4, 4, 1, 1, 3, 4, 1, 1, 1, 1, 0, 5, 1, 0, 3, 1, 2, 0, 0, 1, 3, 0]\n"
     ]
    }
   ],
   "source": [
    "print(train['label'])"
   ]
  },
  {
   "cell_type": "code",
   "execution_count": 12,
   "metadata": {
    "id": "oDYXMfZy5eiP"
   },
   "outputs": [],
   "source": [
    "def get_tweet(data):\n",
    "  tweets = [x['text'] for x in data]\n",
    "  labels = [x['label'] for x in data]\n",
    "  return tweets, labels"
   ]
  },
  {
   "cell_type": "code",
   "execution_count": 15,
   "metadata": {
    "colab": {
     "base_uri": "https://localhost:8080/"
    },
    "id": "0FLVDZLO9EA-",
    "outputId": "6ff43020-4e10-4723-80f5-e8e424b291e0"
   },
   "outputs": [
    {
     "name": "stdout",
     "output_type": "stream",
     "text": [
      "{0, 1, 2, 3, 4, 5}\n"
     ]
    }
   ],
   "source": [
    "print(set(labels))"
   ]
  },
  {
   "cell_type": "code",
   "execution_count": 16,
   "metadata": {
    "id": "PkG8t1_Jth06"
   },
   "outputs": [],
   "source": [
    "tweets, labels = get_tweet(train) #collecting tweets and labels for the training set"
   ]
  },
  {
   "cell_type": "code",
   "execution_count": 17,
   "metadata": {
    "colab": {
     "base_uri": "https://localhost:8080/"
    },
    "id": "jeq3-vSB5eiR",
    "outputId": "bb19905f-7530-4b19-8346-260d463e8b2b"
   },
   "outputs": [
    {
     "data": {
      "text/plain": [
       "('im grabbing a minute to post i feel greedy wrong', 3)"
      ]
     },
     "execution_count": 17,
     "metadata": {},
     "output_type": "execute_result"
    }
   ],
   "source": [
    "tweets[2] , labels[2]\n"
   ]
  },
  {
   "cell_type": "code",
   "execution_count": 18,
   "metadata": {
    "colab": {
     "base_uri": "https://localhost:8080/"
    },
    "id": "bHD3Tk0J5eiU",
    "outputId": "fada561b-a866-432c-f9f8-35c7e3996e92"
   },
   "outputs": [
    {
     "data": {
      "text/plain": [
       "('i can t imagine a real life scenario where i would be emotionally connected enough with someone to feel totally accepted and safe where it it morally acceptable for me to have close and prolonged physical contact and where sex won t be expected subsequently',\n",
       " 1)"
      ]
     },
     "execution_count": 18,
     "metadata": {},
     "output_type": "execute_result"
    }
   ],
   "source": [
    "\n",
    "tweets[34] , labels[34]"
   ]
  },
  {
   "cell_type": "code",
   "execution_count": 19,
   "metadata": {
    "colab": {
     "base_uri": "https://localhost:8080/"
    },
    "id": "QZQ1iMTsuB8h",
    "outputId": "56da225d-4bbe-4304-9870-d2b3718ed5c5"
   },
   "outputs": [
    {
     "data": {
      "text/plain": [
       "('i feel like i have to make the suffering i m seeing mean something', 0)"
      ]
     },
     "execution_count": 19,
     "metadata": {},
     "output_type": "execute_result"
    }
   ],
   "source": [
    "tweets[10] , labels[10]"
   ]
  },
  {
   "cell_type": "markdown",
   "metadata": {
    "id": "gcAflLv6xIgp"
   },
   "source": [
    "## Task 4: Tokenizer\n",
    "\n",
    "1. Tokenizing the tweets"
   ]
  },
  {
   "cell_type": "code",
   "execution_count": 20,
   "metadata": {
    "id": "qfX5-ResxIgq"
   },
   "outputs": [],
   "source": [
    "from tensorflow.keras.preprocessing.text import Tokenizer"
   ]
  },
  {
   "cell_type": "code",
   "execution_count": 21,
   "metadata": {
    "id": "cckUvwBo5eif"
   },
   "outputs": [],
   "source": [
    "tokenizer = Tokenizer(num_words=1000, oov_token='<UNK>')\n",
    "tokenizer.fit_on_texts(tweets)"
   ]
  },
  {
   "cell_type": "code",
   "execution_count": 22,
   "metadata": {
    "colab": {
     "base_uri": "https://localhost:8080/"
    },
    "id": "u5Es9xRpxBQS",
    "outputId": "cab2ae62-3ff4-44e4-f12d-384cde511cb3"
   },
   "outputs": [
    {
     "data": {
      "text/plain": [
       "('im grabbing a minute to post i feel greedy wrong', 3)"
      ]
     },
     "execution_count": 22,
     "metadata": {},
     "output_type": "execute_result"
    }
   ],
   "source": [
    "tweets[2] , labels[2] # examples of a tweet text"
   ]
  },
  {
   "cell_type": "code",
   "execution_count": 23,
   "metadata": {
    "colab": {
     "base_uri": "https://localhost:8080/"
    },
    "id": "FlOzZ0obxfNo",
    "outputId": "40794683-c927-4cae-b0b5-7d2cee91d958"
   },
   "outputs": [
    {
     "data": {
      "text/plain": [
       "[[17, 1, 7, 1, 5, 286, 2, 3, 495, 438]]"
      ]
     },
     "execution_count": 23,
     "metadata": {},
     "output_type": "execute_result"
    }
   ],
   "source": [
    "tokenizer.texts_to_sequences([tweets[2]]) # tokenization of the tweet[2] text"
   ]
  },
  {
   "cell_type": "markdown",
   "metadata": {
    "id": "i3Bqm7b2xIgu"
   },
   "source": [
    "## Task 5: Padding and Truncating Sequences\n",
    "\n",
    "1. Checking length of the tweets\n",
    "2. Creating padded sequences"
   ]
  },
  {
   "cell_type": "code",
   "execution_count": 24,
   "metadata": {
    "colab": {
     "base_uri": "https://localhost:8080/",
     "height": 430
    },
    "id": "mLvf_WFZxIgu",
    "outputId": "d24e7925-9e62-41a0-9fcc-03822b9aeb60"
   },
   "outputs": [
    {
     "data": {
      "image/png": "[encoded data removed]",
      "text/plain": [
       "<Figure size 640x480 with 1 Axes>"
      ]
     },
     "metadata": {},
     "output_type": "display_data"
    }
   ],
   "source": [
    "lengths = [len(t.split(' ')) for t in tweets]\n",
    "plt.hist(lengths, bins= len(set(lengths)))\n",
    "plt.show()"
   ]
  },
  {
   "cell_type": "code",
   "execution_count": 25,
   "metadata": {
    "id": "EOi5lIE3xIgx"
   },
   "outputs": [],
   "source": [
    "from tensorflow.keras.preprocessing.sequence import pad_sequences"
   ]
  },
  {
   "cell_type": "code",
   "execution_count": 26,
   "metadata": {
    "id": "Q9J_Iemf5eiq"
   },
   "outputs": [],
   "source": [
    "def get_sequences(tokenizer, tweets):\n",
    "  sequences = tokenizer.texts_to_sequences(tweets)\n",
    "  padded_seq = pad_sequences(sequences, maxlen = 50, padding='post', truncating='post')\n",
    "  return padded_seq"
   ]
  },
  {
   "cell_type": "code",
   "execution_count": 27,
   "metadata": {
    "id": "eglH77ky5ei0"
   },
   "outputs": [],
   "source": [
    "padded_train_seq = get_sequences(tokenizer, tweets)"
   ]
  },
  {
   "cell_type": "code",
   "execution_count": 28,
   "metadata": {
    "colab": {
     "base_uri": "https://localhost:8080/"
    },
    "id": "iGR473HA5ei7",
    "outputId": "e2bd1142-90ce-4124-e4c1-7bcb9b316692"
   },
   "outputs": [
    {
     "data": {
      "text/plain": [
       "array([ 17,   1,   7,   1,   5, 286,   2,   3, 495, 438,   0,   0,   0,\n",
       "         0,   0,   0,   0,   0,   0,   0,   0,   0,   0,   0,   0,   0,\n",
       "         0,   0,   0,   0,   0,   0,   0,   0,   0,   0,   0,   0,   0,\n",
       "         0,   0,   0,   0,   0,   0,   0,   0,   0,   0,   0])"
      ]
     },
     "execution_count": 28,
     "metadata": {},
     "output_type": "execute_result"
    }
   ],
   "source": [
    "padded_train_seq[2]"
   ]
  },
  {
   "cell_type": "markdown",
   "metadata": {
    "id": "BURhOX_KxIg8"
   },
   "source": [
    "## Task 6: Preparing the Labels\n",
    "\n",
    "1. Creating classes to index and index to classes dictionaries\n",
    "2. Converting text labels to numeric labels"
   ]
  },
  {
   "cell_type": "code",
   "execution_count": 29,
   "metadata": {
    "colab": {
     "base_uri": "https://localhost:8080/"
    },
    "id": "SufT2bpD5ejE",
    "outputId": "8bf1b894-f58d-4444-cf18-0b44fd9ce856"
   },
   "outputs": [
    {
     "name": "stdout",
     "output_type": "stream",
     "text": [
      "{0, 1, 2, 3, 4, 5}\n"
     ]
    }
   ],
   "source": [
    "classes = set(labels)\n",
    "print(classes)"
   ]
  },
  {
   "cell_type": "code",
   "execution_count": 30,
   "metadata": {
    "colab": {
     "base_uri": "https://localhost:8080/",
     "height": 430
    },
    "id": "rpwzL88I7YSm",
    "outputId": "e1227c87-1dc2-446d-aee8-b6de7cc5e6c1"
   },
   "outputs": [
    {
     "data": {
      "image/png": "[encoded data removed]",
      "text/plain": [
       "<Figure size 640x480 with 1 Axes>"
      ]
     },
     "metadata": {},
     "output_type": "display_data"
    }
   ],
   "source": [
    "plt.hist(labels, bins = 11)\n",
    "plt.show()"
   ]
  },
  {
   "cell_type": "code",
   "execution_count": 31,
   "metadata": {
    "id": "dNLF6rXL5ejN"
   },
   "outputs": [],
   "source": [
    "class_to_index = dict((c, i) for i, c in enumerate(classes))\n",
    "index_to_class = dict((v, k) for k, v in class_to_index.items())"
   ]
  },
  {
   "cell_type": "code",
   "execution_count": 32,
   "metadata": {
    "colab": {
     "base_uri": "https://localhost:8080/"
    },
    "id": "_08InVyM5ejc",
    "outputId": "dab6e738-f739-40e0-935a-9eb08c4a1058"
   },
   "outputs": [
    {
     "data": {
      "text/plain": [
       "{0: 0, 1: 1, 2: 2, 3: 3, 4: 4, 5: 5}"
      ]
     },
     "execution_count": 32,
     "metadata": {},
     "output_type": "execute_result"
    }
   ],
   "source": [
    "class_to_index"
   ]
  },
  {
   "cell_type": "code",
   "execution_count": 33,
   "metadata": {
    "colab": {
     "base_uri": "https://localhost:8080/"
    },
    "id": "gpeDoA6gxIhE",
    "outputId": "4ba4c10a-df44-4ef7-9c04-0d259546430d"
   },
   "outputs": [
    {
     "data": {
      "text/plain": [
       "{0: 0, 1: 1, 2: 2, 3: 3, 4: 4, 5: 5}"
      ]
     },
     "execution_count": 33,
     "metadata": {},
     "output_type": "execute_result"
    }
   ],
   "source": [
    "index_to_class"
   ]
  },
  {
   "cell_type": "code",
   "execution_count": 34,
   "metadata": {
    "id": "Jq0WJYsP5ejR"
   },
   "outputs": [],
   "source": [
    "names_to_ids = lambda labels: np.array([class_to_index.get(x) for x in labels])"
   ]
  },
  {
   "cell_type": "code",
   "execution_count": 35,
   "metadata": {
    "colab": {
     "base_uri": "https://localhost:8080/"
    },
    "id": "v15KnrNC5ejW",
    "outputId": "0a8ccebf-ac4b-44e5-a7cc-8133d85a1810"
   },
   "outputs": [
    {
     "name": "stdout",
     "output_type": "stream",
     "text": [
      "3\n"
     ]
    }
   ],
   "source": [
    "train_labels = names_to_ids(labels)\n",
    "print(train_labels[2])"
   ]
  },
  {
   "cell_type": "markdown",
   "metadata": {
    "id": "c-v0Mnh8xIhP"
   },
   "source": [
    "## Task 7: Creating the Model\n",
    "\n",
    "1. Creating the model\n",
    "2. Compiling the model"
   ]
  },
  {
   "cell_type": "code",
   "execution_count": 36,
   "metadata": {
    "id": "OpewXxPQ5eji"
   },
   "outputs": [],
   "source": [
    "maxlen = 50\n",
    "model = tf.keras.models.Sequential([\n",
    "        tf.keras.layers.Embedding(1000, 16, input_length=maxlen),\n",
    "        tf.keras.layers.Bidirectional(tf.keras.layers.LSTM(20, return_sequences=True)),\n",
    "        tf.keras.layers.Bidirectional(tf.keras.layers.LSTM(20)),\n",
    "        tf.keras.layers.Dense(6, activation='softmax')\n",
    "])\n",
    "\n",
    "model.compile(\n",
    "    loss = 'sparse_categorical_crossentropy', optimizer='adam', metrics=['accuracy']\n",
    ")"
   ]
  },
  {
   "cell_type": "code",
   "execution_count": 37,
   "metadata": {
    "colab": {
     "base_uri": "https://localhost:8080/"
    },
    "id": "R-gNo3hPJT6q",
    "outputId": "3dc794c2-3635-47a0-e1e1-5e11076b2a79"
   },
   "outputs": [
    {
     "name": "stdout",
     "output_type": "stream",
     "text": [
      "Model: \"sequential\"\n",
      "_________________________________________________________________\n",
      " Layer (type)                Output Shape              Param #   \n",
      "=================================================================\n",
      " embedding (Embedding)       (None, 50, 16)            16000     \n",
      "                                                                 \n",
      " bidirectional (Bidirection  (None, 50, 40)            5920      \n",
      " al)                                                             \n",
      "                                                                 \n",
      " bidirectional_1 (Bidirecti  (None, 40)                9760      \n",
      " onal)                                                           \n",
      "                                                                 \n",
      " dense (Dense)               (None, 6)                 246       \n",
      "                                                                 \n",
      "=================================================================\n",
      "Total params: 31926 (124.71 KB)\n",
      "Trainable params: 31926 (124.71 KB)\n",
      "Non-trainable params: 0 (0.00 Byte)\n",
      "_________________________________________________________________\n"
     ]
    }
   ],
   "source": [
    "model.summary()"
   ]
  },
  {
   "cell_type": "markdown",
   "metadata": {
    "id": "1HST_CHjxIhR"
   },
   "source": [
    "## Task 8: Training the Model\n",
    "\n",
    "1. Preparing a validation set\n",
    "2. Training the model"
   ]
  },
  {
   "cell_type": "code",
   "execution_count": 38,
   "metadata": {
    "id": "Ff7F3hCK5ejm"
   },
   "outputs": [],
   "source": [
    "val_tweets, val_labels = get_tweet(val)\n",
    "val_seq = get_sequences(tokenizer, val_tweets)\n",
    "val_labels = names_to_ids(val_labels)"
   ]
  },
  {
   "cell_type": "code",
   "execution_count": 39,
   "metadata": {
    "colab": {
     "base_uri": "https://localhost:8080/"
    },
    "id": "hlMKaZ3H5ejr",
    "outputId": "6380af4b-8096-4f89-ffef-46bbe44016b6"
   },
   "outputs": [
    {
     "data": {
      "text/plain": [
       "('im feeling quite sad and sorry for myself but ill snap out of it soon', 0)"
      ]
     },
     "execution_count": 39,
     "metadata": {},
     "output_type": "execute_result"
    }
   ],
   "source": [
    "val_tweets[0], val_labels[0]"
   ]
  },
  {
   "cell_type": "code",
   "execution_count": 40,
   "metadata": {
    "colab": {
     "base_uri": "https://localhost:8080/"
    },
    "id": "bzBqnWQ-5ejw",
    "outputId": "b183a0e2-03c4-44c6-da8d-a5eec05ec326"
   },
   "outputs": [
    {
     "name": "stdout",
     "output_type": "stream",
     "text": [
      "Epoch 1/20\n",
      "500/500 [==============================] - 15s 21ms/step - loss: 1.3339 - accuracy: 0.4721 - val_loss: 0.9209 - val_accuracy: 0.6745\n",
      "Epoch 2/20\n",
      "500/500 [==============================] - 8s 16ms/step - loss: 0.6954 - accuracy: 0.7544 - val_loss: 0.6344 - val_accuracy: 0.7755\n",
      "Epoch 3/20\n",
      "500/500 [==============================] - 8s 16ms/step - loss: 0.5204 - accuracy: 0.8265 - val_loss: 0.6882 - val_accuracy: 0.7740\n",
      "Epoch 4/20\n",
      "500/500 [==============================] - 8s 16ms/step - loss: 0.4411 - accuracy: 0.8526 - val_loss: 0.5076 - val_accuracy: 0.8410\n",
      "Epoch 5/20\n",
      "500/500 [==============================] - 8s 16ms/step - loss: 0.4065 - accuracy: 0.8606 - val_loss: 0.4437 - val_accuracy: 0.8515\n",
      "Epoch 6/20\n",
      "500/500 [==============================] - 8s 16ms/step - loss: 0.3558 - accuracy: 0.8749 - val_loss: 0.4411 - val_accuracy: 0.8515\n",
      "Epoch 7/20\n",
      "500/500 [==============================] - 8s 16ms/step - loss: 0.3300 - accuracy: 0.8822 - val_loss: 0.4254 - val_accuracy: 0.8490\n"
     ]
    }
   ],
   "source": [
    "h = model.fit(\n",
    "    padded_train_seq, train_labels, validation_data = (val_seq, val_labels),\n",
    "    epochs=20,\n",
    "    callbacks = [     # if for consecutive 2 epochs the accuracy does not change than the model training will stop\n",
    "        tf.keras.callbacks.EarlyStopping(monitor='val_accuracy', patience=2)\n",
    "    ]\n",
    ")"
   ]
  },
  {
   "cell_type": "markdown",
   "metadata": {
    "id": "EdsJyMTLxIhX"
   },
   "source": [
    "## Task 9: Evaluating the Model\n",
    "\n",
    "1. Visualizing training history\n",
    "2. Prepraring a test set\n",
    "3. A look at individual predictions on the test set\n",
    "4. A look at all predictions on the test set"
   ]
  },
  {
   "cell_type": "code",
   "execution_count": 41,
   "metadata": {
    "colab": {
     "base_uri": "https://localhost:8080/",
     "height": 485
    },
    "id": "ENCfvXeLxIhX",
    "outputId": "1e55ee70-b246-49da-9763-88194bae1a4a"
   },
   "outputs": [
    {
     "data": {
      "image/png": "[encoded data removed]",
      "text/plain": [
       "<Figure size 1600x600 with 2 Axes>"
      ]
     },
     "metadata": {},
     "output_type": "display_data"
    }
   ],
   "source": [
    "show_history(h)"
   ]
  },
  {
   "cell_type": "code",
   "execution_count": 42,
   "metadata": {
    "id": "kWuzoz8uxIha"
   },
   "outputs": [],
   "source": [
    "test_tweets, test_labels = get_tweet(test)\n",
    "test_seq = get_sequences(tokenizer, test_tweets)\n",
    "test_labels = names_to_ids(test_labels)"
   ]
  },
  {
   "cell_type": "code",
   "execution_count": 43,
   "metadata": {
    "colab": {
     "base_uri": "https://localhost:8080/"
    },
    "id": "7vRVJ_2SxIhc",
    "outputId": "ae82dd66-4f3b-452e-8045-5bf3b71161d4"
   },
   "outputs": [
    {
     "name": "stdout",
     "output_type": "stream",
     "text": [
      "63/63 [==============================] - 0s 7ms/step - loss: 0.4150 - accuracy: 0.8515\n"
     ]
    }
   ],
   "source": [
    "_ = model.evaluate(test_seq, test_labels)"
   ]
  },
  {
   "cell_type": "code",
   "execution_count": 44,
   "metadata": {
    "colab": {
     "base_uri": "https://localhost:8080/"
    },
    "id": "rh638vHG5ej6",
    "outputId": "e16cd4e2-0b52-4af0-ad5f-0cd2ef76738e"
   },
   "outputs": [
    {
     "name": "stdout",
     "output_type": "stream",
     "text": [
      "Sentence:  i sometimes feel a bit unwelcome\n",
      "Emotions:  0\n",
      "1/1 [==============================] - 1s 1s/step\n",
      "Predicted Emotion:  0\n"
     ]
    }
   ],
   "source": [
    "i = random.randint(0, len(test_labels) - 1)\n",
    "\n",
    "print(\"Sentence: \", test_tweets[i])\n",
    "print(\"Emotions: \", index_to_class[test_labels[i]])\n",
    "\n",
    "p = model.predict(np.expand_dims(test_seq[i], axis=0))[0]\n",
    "pred_class = index_to_class[np.argmax(p).astype('uint8')]\n",
    "\n",
    "print('Predicted Emotion: ',pred_class)"
   ]
  },
  {
   "cell_type": "code",
   "execution_count": 45,
   "metadata": {
    "colab": {
     "base_uri": "https://localhost:8080/"
    },
    "id": "hHl5SVCFxIhh",
    "outputId": "f9fc5b3f-b0c4-4c47-cdcd-4d5db2008102"
   },
   "outputs": [
    {
     "name": "stdout",
     "output_type": "stream",
     "text": [
      "63/63 [==============================] - 0s 6ms/step\n"
     ]
    }
   ],
   "source": [
    "#preds = model.predict_classes(test_seq)\n",
    "preds = np.argmax(model.predict(test_seq), axis=1)"
   ]
  },
  {
   "cell_type": "code",
   "execution_count": 46,
   "metadata": {
    "colab": {
     "base_uri": "https://localhost:8080/",
     "height": 661
    },
    "id": "NC8YQ0OexIhj",
    "outputId": "73c2ffca-7192-4ee3-ce8d-c9120bd62e98"
   },
   "outputs": [
    {
     "data": {
      "image/png": "[encoded data removed]",
      "text/plain": [
       "<Figure size 800x800 with 2 Axes>"
      ]
     },
     "metadata": {},
     "output_type": "display_data"
    }
   ],
   "source": [
    "show_confusion_matrix(test_labels, preds, list(classes))"
   ]
  },
  {
   "cell_type": "code",
   "execution_count": 49,
   "metadata": {},
   "outputs": [
    {
     "name": "stdout",
     "output_type": "stream",
     "text": [
      "1/1 [==============================] - 0s 24ms/step\n",
      "Probabilities: [0.15198623 0.64365023 0.04949661 0.0536072  0.0771116  0.02414818]\n",
      "Input Sentence: i have seen heard and read over the past couple of days i am left feeling\n",
      "Predicted Emotion: 1\n"
     ]
    }
   ],
   "source": [
    "import tkinter as tk\n",
    "from tkinter import messagebox\n",
    "\n",
    "#import numpy as np\n",
    "#from tensorflow.keras.preprocessing.sequence import pad_sequences\n",
    "\n",
    "def predict_emotion(sentence):\n",
    "    try:\n",
    "        # Tokenize and prepare input\n",
    "        sequence = tokenizer.texts_to_sequences([sentence])\n",
    "        padded_sequence = pad_sequences(sequence, maxlen=50)  # Adjust maxlen as per your model's requirement\n",
    "        \n",
    "        # Predict using the model\n",
    "        probabilities = model.predict(padded_sequence)[0]\n",
    "        \n",
    "        # Debug: Print probabilities\n",
    "        print(\"Probabilities:\", probabilities)\n",
    "        \n",
    "        # Get the predicted index and emotion\n",
    "        pred_index = np.argmax(probabilities).astype('uint8')\n",
    "        pred_emotion = index_to_class[pred_index]\n",
    "\n",
    "        return pred_emotion\n",
    "    except Exception as e:\n",
    "        return f\"Error: {str(e)}\"\n",
    "\n",
    "\n",
    "# GUI Functionality\n",
    "def handle_prediction():\n",
    "    sentence = input_text.get(\"1.0\", tk.END).strip()\n",
    "    if not sentence:\n",
    "        messagebox.showerror(\"Input Error\", \"Please enter a sentence!\")\n",
    "        return\n",
    "    \n",
    "    emotion = predict_emotion(sentence)\n",
    "    \n",
    "    # Debug: Print the result\n",
    "    print(\"Input Sentence:\", sentence)\n",
    "    print(\"Predicted Emotion:\", emotion)\n",
    "    \n",
    "    result_label.config(text=f\"Predicted Emotion: {emotion}\")\n",
    "\n",
    "\n",
    "# Function to start the GUI from within Jupyter Notebook\n",
    "def launch_gui():\n",
    "    root = tk.Tk()\n",
    "    root.title(\"Tweet Emotion Recognition\")\n",
    "\n",
    "    # Input Text Box\n",
    "    tk.Label(root, text=\"Enter your sentence:\").pack(pady=5)\n",
    "    global input_text\n",
    "    input_text = tk.Text(root, height=5, width=50)\n",
    "    input_text.pack(pady=5)\n",
    "\n",
    "    # Predict Button\n",
    "    predict_button = tk.Button(root, text=\"Predict Emotion\", command=handle_prediction)\n",
    "    predict_button.pack(pady=10)\n",
    "\n",
    "    # Result Label\n",
    "    global result_label\n",
    "    result_label = tk.Label(root, text=\"Predicted Emotion: \", font=(\"Arial\", 14))\n",
    "    result_label.pack(pady=10)\n",
    "\n",
    "    root.mainloop()\n",
    "\n",
    "# Launch the GUI\n",
    "launch_gui()"
   ]
  },
  {
   "cell_type": "code",
   "execution_count": null,
   "metadata": {},
   "outputs": [],
   "source": []
  }
 ],
 "metadata": {
  "accelerator": "GPU",
  "colab": {
   "gpuType": "T4",
   "include_colab_link": true,
   "provenance": []
  },
  "kernelspec": {
   "display_name": "atari_game",
   "language": "python",
   "name": "python3"
  },
  "language_info": {
   "codemirror_mode": {
    "name": "ipython",
    "version": 3
   },
   "file_extension": ".py",
   "mimetype": "text/x-python",
   "name": "python",
   "nbconvert_exporter": "python",
   "pygments_lexer": "ipython3",
   "version": "3.10.14"
  },
  "widgets": {
   "application/vnd.jupyter.widget-state+json": {
    "001c5ec7f2a246a3ad559b3df72ed975": {
     "model_module": "@jupyter-widgets/base",
     "model_module_version": "1.2.0",
     "model_name": "LayoutModel",
     "state": {
      "_model_module": "@jupyter-widgets/base",
      "_model_module_version": "1.2.0",
      "_model_name": "LayoutModel",
      "_view_count": null,
      "_view_module": "@jupyter-widgets/base",
      "_view_module_version": "1.2.0",
      "_view_name": "LayoutView",
      "align_content": null,
      "align_items": null,
      "align_self": null,
      "border": null,
      "bottom": null,
      "display": null,
      "flex": null,
      "flex_flow": null,
      "grid_area": null,
      "grid_auto_columns": null,
      "grid_auto_flow": null,
      "grid_auto_rows": null,
      "grid_column": null,
      "grid_gap": null,
      "grid_row": null,
      "grid_template_areas": null,
      "grid_template_columns": null,
      "grid_template_rows": null,
      "height": null,
      "justify_content": null,
      "justify_items": null,
      "left": null,
      "margin": null,
      "max_height": null,
      "max_width": null,
      "min_height": null,
      "min_width": null,
      "object_fit": null,
      "object_position": null,
      "order": null,
      "overflow": null,
      "overflow_x": null,
      "overflow_y": null,
      "padding": null,
      "right": null,
      "top": null,
      "visibility": null,
      "width": null
     }
    },
    "00e4f1d654684bd38ab22316dccbb2b5": {
     "model_module": "@jupyter-widgets/base",
     "model_module_version": "1.2.0",
     "model_name": "LayoutModel",
     "state": {
      "_model_module": "@jupyter-widgets/base",
      "_model_module_version": "1.2.0",
      "_model_name": "LayoutModel",
      "_view_count": null,
      "_view_module": "@jupyter-widgets/base",
      "_view_module_version": "1.2.0",
      "_view_name": "LayoutView",
      "align_content": null,
      "align_items": null,
      "align_self": null,
      "border": null,
      "bottom": null,
      "display": null,
      "flex": null,
      "flex_flow": null,
      "grid_area": null,
      "grid_auto_columns": null,
      "grid_auto_flow": null,
      "grid_auto_rows": null,
      "grid_column": null,
      "grid_gap": null,
      "grid_row": null,
      "grid_template_areas": null,
      "grid_template_columns": null,
      "grid_template_rows": null,
      "height": null,
      "justify_content": null,
      "justify_items": null,
      "left": null,
      "margin": null,
      "max_height": null,
      "max_width": null,
      "min_height": null,
      "min_width": null,
      "object_fit": null,
      "object_position": null,
      "order": null,
      "overflow": null,
      "overflow_x": null,
      "overflow_y": null,
      "padding": null,
      "right": null,
      "top": null,
      "visibility": null,
      "width": null
     }
    },
    "015cbf2e9c464bc6b8497035bc0c0dc9": {
     "model_module": "@jupyter-widgets/controls",
     "model_module_version": "1.5.0",
     "model_name": "HTMLModel",
     "state": {
      "_dom_classes": [],
      "_model_module": "@jupyter-widgets/controls",
      "_model_module_version": "1.5.0",
      "_model_name": "HTMLModel",
      "_view_count": null,
      "_view_module": "@jupyter-widgets/controls",
      "_view_module_version": "1.5.0",
      "_view_name": "HTMLView",
      "description": "",
      "description_tooltip": null,
      "layout": "IPY_MODEL_e9de0cf250d74115ad8edf9e8d8af9d6",
      "placeholder": "​",
      "style": "IPY_MODEL_8179d1a147834ed4873fadfc724ceb26",
      "value": "Downloading builder script: 100%"
     }
    },
    "020398781d974995815327c44036bff3": {
     "model_module": "@jupyter-widgets/base",
     "model_module_version": "1.2.0",
     "model_name": "LayoutModel",
     "state": {
      "_model_module": "@jupyter-widgets/base",
      "_model_module_version": "1.2.0",
      "_model_name": "LayoutModel",
      "_view_count": null,
      "_view_module": "@jupyter-widgets/base",
      "_view_module_version": "1.2.0",
      "_view_name": "LayoutView",
      "align_content": null,
      "align_items": null,
      "align_self": null,
      "border": null,
      "bottom": null,
      "display": null,
      "flex": null,
      "flex_flow": null,
      "grid_area": null,
      "grid_auto_columns": null,
      "grid_auto_flow": null,
      "grid_auto_rows": null,
      "grid_column": null,
      "grid_gap": null,
      "grid_row": null,
      "grid_template_areas": null,
      "grid_template_columns": null,
      "grid_template_rows": null,
      "height": null,
      "justify_content": null,
      "justify_items": null,
      "left": null,
      "margin": null,
      "max_height": null,
      "max_width": null,
      "min_height": null,
      "min_width": null,
      "object_fit": null,
      "object_position": null,
      "order": null,
      "overflow": null,
      "overflow_x": null,
      "overflow_y": null,
      "padding": null,
      "right": null,
      "top": null,
      "visibility": null,
      "width": null
     }
    },
    "03453d6b25ac4d7989662063bcddd421": {
     "model_module": "@jupyter-widgets/base",
     "model_module_version": "1.2.0",
     "model_name": "LayoutModel",
     "state": {
      "_model_module": "@jupyter-widgets/base",
      "_model_module_version": "1.2.0",
      "_model_name": "LayoutModel",
      "_view_count": null,
      "_view_module": "@jupyter-widgets/base",
      "_view_module_version": "1.2.0",
      "_view_name": "LayoutView",
      "align_content": null,
      "align_items": null,
      "align_self": null,
      "border": null,
      "bottom": null,
      "display": null,
      "flex": null,
      "flex_flow": null,
      "grid_area": null,
      "grid_auto_columns": null,
      "grid_auto_flow": null,
      "grid_auto_rows": null,
      "grid_column": null,
      "grid_gap": null,
      "grid_row": null,
      "grid_template_areas": null,
      "grid_template_columns": null,
      "grid_template_rows": null,
      "height": null,
      "justify_content": null,
      "justify_items": null,
      "left": null,
      "margin": null,
      "max_height": null,
      "max_width": null,
      "min_height": null,
      "min_width": null,
      "object_fit": null,
      "object_position": null,
      "order": null,
      "overflow": null,
      "overflow_x": null,
      "overflow_y": null,
      "padding": null,
      "right": null,
      "top": null,
      "visibility": null,
      "width": null
     }
    },
    "0379d617c46248c9a9bb1da2c6d5a551": {
     "model_module": "@jupyter-widgets/controls",
     "model_module_version": "1.5.0",
     "model_name": "HBoxModel",
     "state": {
      "_dom_classes": [],
      "_model_module": "@jupyter-widgets/controls",
      "_model_module_version": "1.5.0",
      "_model_name": "HBoxModel",
      "_view_count": null,
      "_view_module": "@jupyter-widgets/controls",
      "_view_module_version": "1.5.0",
      "_view_name": "HBoxView",
      "box_style": "",
      "children": [
       "IPY_MODEL_5165970aac234fd18618745582fadb6c",
       "IPY_MODEL_3e5687d8b72c4213b321187e9d071f96",
       "IPY_MODEL_c23d0f5e4af645fcbb315c1fb8f4cdef"
      ],
      "layout": "IPY_MODEL_c728609bb54e461a9cacb4f5f573da61"
     }
    },
    "0c1d6fcd6e7c406cb6342d1147d39cf9": {
     "model_module": "@jupyter-widgets/base",
     "model_module_version": "1.2.0",
     "model_name": "LayoutModel",
     "state": {
      "_model_module": "@jupyter-widgets/base",
      "_model_module_version": "1.2.0",
      "_model_name": "LayoutModel",
      "_view_count": null,
      "_view_module": "@jupyter-widgets/base",
      "_view_module_version": "1.2.0",
      "_view_name": "LayoutView",
      "align_content": null,
      "align_items": null,
      "align_self": null,
      "border": null,
      "bottom": null,
      "display": null,
      "flex": null,
      "flex_flow": null,
      "grid_area": null,
      "grid_auto_columns": null,
      "grid_auto_flow": null,
      "grid_auto_rows": null,
      "grid_column": null,
      "grid_gap": null,
      "grid_row": null,
      "grid_template_areas": null,
      "grid_template_columns": null,
      "grid_template_rows": null,
      "height": null,
      "justify_content": null,
      "justify_items": null,
      "left": null,
      "margin": null,
      "max_height": null,
      "max_width": null,
      "min_height": null,
      "min_width": null,
      "object_fit": null,
      "object_position": null,
      "order": null,
      "overflow": null,
      "overflow_x": null,
      "overflow_y": null,
      "padding": null,
      "right": null,
      "top": null,
      "visibility": null,
      "width": null
     }
    },
    "0cc73913928a4dbc994e5f551881bdf1": {
     "model_module": "@jupyter-widgets/controls",
     "model_module_version": "1.5.0",
     "model_name": "ProgressStyleModel",
     "state": {
      "_model_module": "@jupyter-widgets/controls",
      "_model_module_version": "1.5.0",
      "_model_name": "ProgressStyleModel",
      "_view_count": null,
      "_view_module": "@jupyter-widgets/base",
      "_view_module_version": "1.2.0",
      "_view_name": "StyleView",
      "bar_color": null,
      "description_width": ""
     }
    },
    "144c459785f641e4bce438b8f29fe1a7": {
     "model_module": "@jupyter-widgets/controls",
     "model_module_version": "1.5.0",
     "model_name": "FloatProgressModel",
     "state": {
      "_dom_classes": [],
      "_model_module": "@jupyter-widgets/controls",
      "_model_module_version": "1.5.0",
      "_model_name": "FloatProgressModel",
      "_view_count": null,
      "_view_module": "@jupyter-widgets/controls",
      "_view_module_version": "1.5.0",
      "_view_name": "ProgressView",
      "bar_style": "success",
      "description": "",
      "description_tooltip": null,
      "layout": "IPY_MODEL_25c0f1e4ecb84543a5db5c372484e48f",
      "max": 16000,
      "min": 0,
      "orientation": "horizontal",
      "style": "IPY_MODEL_0cc73913928a4dbc994e5f551881bdf1",
      "value": 16000
     }
    },
    "14f8a9ef54664365b38fd17dd78ea4b7": {
     "model_module": "@jupyter-widgets/base",
     "model_module_version": "1.2.0",
     "model_name": "LayoutModel",
     "state": {
      "_model_module": "@jupyter-widgets/base",
      "_model_module_version": "1.2.0",
      "_model_name": "LayoutModel",
      "_view_count": null,
      "_view_module": "@jupyter-widgets/base",
      "_view_module_version": "1.2.0",
      "_view_name": "LayoutView",
      "align_content": null,
      "align_items": null,
      "align_self": null,
      "border": null,
      "bottom": null,
      "display": null,
      "flex": null,
      "flex_flow": null,
      "grid_area": null,
      "grid_auto_columns": null,
      "grid_auto_flow": null,
      "grid_auto_rows": null,
      "grid_column": null,
      "grid_gap": null,
      "grid_row": null,
      "grid_template_areas": null,
      "grid_template_columns": null,
      "grid_template_rows": null,
      "height": null,
      "justify_content": null,
      "justify_items": null,
      "left": null,
      "margin": null,
      "max_height": null,
      "max_width": null,
      "min_height": null,
      "min_width": null,
      "object_fit": null,
      "object_position": null,
      "order": null,
      "overflow": null,
      "overflow_x": null,
      "overflow_y": null,
      "padding": null,
      "right": null,
      "top": null,
      "visibility": null,
      "width": null
     }
    },
    "1527be6182cc4ecc99d52adc74fe6f10": {
     "model_module": "@jupyter-widgets/controls",
     "model_module_version": "1.5.0",
     "model_name": "HBoxModel",
     "state": {
      "_dom_classes": [],
      "_model_module": "@jupyter-widgets/controls",
      "_model_module_version": "1.5.0",
      "_model_name": "HBoxModel",
      "_view_count": null,
      "_view_module": "@jupyter-widgets/controls",
      "_view_module_version": "1.5.0",
      "_view_name": "HBoxView",
      "box_style": "",
      "children": [
       "IPY_MODEL_e05f84dfe5464bd7918ab7f03dc47264",
       "IPY_MODEL_ba8bd223bca74eb6a4e90c65a021cca5",
       "IPY_MODEL_8418c9d7bc3848569f3cc99497ac3f02"
      ],
      "layout": "IPY_MODEL_fb0ff772b9a94eec82bc92e45baeda26"
     }
    },
    "1628e1875292499284003ca21d35b9c2": {
     "model_module": "@jupyter-widgets/controls",
     "model_module_version": "1.5.0",
     "model_name": "ProgressStyleModel",
     "state": {
      "_model_module": "@jupyter-widgets/controls",
      "_model_module_version": "1.5.0",
      "_model_name": "ProgressStyleModel",
      "_view_count": null,
      "_view_module": "@jupyter-widgets/base",
      "_view_module_version": "1.2.0",
      "_view_name": "StyleView",
      "bar_color": null,
      "description_width": ""
     }
    },
    "1a8391f4e21c4acc981feab9a8976c09": {
     "model_module": "@jupyter-widgets/controls",
     "model_module_version": "1.5.0",
     "model_name": "ProgressStyleModel",
     "state": {
      "_model_module": "@jupyter-widgets/controls",
      "_model_module_version": "1.5.0",
      "_model_name": "ProgressStyleModel",
      "_view_count": null,
      "_view_module": "@jupyter-widgets/base",
      "_view_module_version": "1.2.0",
      "_view_name": "StyleView",
      "bar_color": null,
      "description_width": ""
     }
    },
    "1ff8d81d9f5f4067ac6f81f722d35bcd": {
     "model_module": "@jupyter-widgets/controls",
     "model_module_version": "1.5.0",
     "model_name": "HTMLModel",
     "state": {
      "_dom_classes": [],
      "_model_module": "@jupyter-widgets/controls",
      "_model_module_version": "1.5.0",
      "_model_name": "HTMLModel",
      "_view_count": null,
      "_view_module": "@jupyter-widgets/controls",
      "_view_module_version": "1.5.0",
      "_view_name": "HTMLView",
      "description": "",
      "description_tooltip": null,
      "layout": "IPY_MODEL_9d47c669b2f84129b2a3c717b69df7b3",
      "placeholder": "​",
      "style": "IPY_MODEL_ef8b9ce2c8a94d89b10dccb889a390bb",
      "value": " 74.9k/74.9k [00:00&lt;00:00, 2.74MB/s]"
     }
    },
    "25c0f1e4ecb84543a5db5c372484e48f": {
     "model_module": "@jupyter-widgets/base",
     "model_module_version": "1.2.0",
     "model_name": "LayoutModel",
     "state": {
      "_model_module": "@jupyter-widgets/base",
      "_model_module_version": "1.2.0",
      "_model_name": "LayoutModel",
      "_view_count": null,
      "_view_module": "@jupyter-widgets/base",
      "_view_module_version": "1.2.0",
      "_view_name": "LayoutView",
      "align_content": null,
      "align_items": null,
      "align_self": null,
      "border": null,
      "bottom": null,
      "display": null,
      "flex": null,
      "flex_flow": null,
      "grid_area": null,
      "grid_auto_columns": null,
      "grid_auto_flow": null,
      "grid_auto_rows": null,
      "grid_column": null,
      "grid_gap": null,
      "grid_row": null,
      "grid_template_areas": null,
      "grid_template_columns": null,
      "grid_template_rows": null,
      "height": null,
      "justify_content": null,
      "justify_items": null,
      "left": null,
      "margin": null,
      "max_height": null,
      "max_width": null,
      "min_height": null,
      "min_width": null,
      "object_fit": null,
      "object_position": null,
      "order": null,
      "overflow": null,
      "overflow_x": null,
      "overflow_y": null,
      "padding": null,
      "right": null,
      "top": null,
      "visibility": null,
      "width": null
     }
    },
    "289fbaa37600404a8eccfecef98c6dbc": {
     "model_module": "@jupyter-widgets/base",
     "model_module_version": "1.2.0",
     "model_name": "LayoutModel",
     "state": {
      "_model_module": "@jupyter-widgets/base",
      "_model_module_version": "1.2.0",
      "_model_name": "LayoutModel",
      "_view_count": null,
      "_view_module": "@jupyter-widgets/base",
      "_view_module_version": "1.2.0",
      "_view_name": "LayoutView",
      "align_content": null,
      "align_items": null,
      "align_self": null,
      "border": null,
      "bottom": null,
      "display": null,
      "flex": null,
      "flex_flow": null,
      "grid_area": null,
      "grid_auto_columns": null,
      "grid_auto_flow": null,
      "grid_auto_rows": null,
      "grid_column": null,
      "grid_gap": null,
      "grid_row": null,
      "grid_template_areas": null,
      "grid_template_columns": null,
      "grid_template_rows": null,
      "height": null,
      "justify_content": null,
      "justify_items": null,
      "left": null,
      "margin": null,
      "max_height": null,
      "max_width": null,
      "min_height": null,
      "min_width": null,
      "object_fit": null,
      "object_position": null,
      "order": null,
      "overflow": null,
      "overflow_x": null,
      "overflow_y": null,
      "padding": null,
      "right": null,
      "top": null,
      "visibility": null,
      "width": null
     }
    },
    "2b44a3bfbef149ffb837f1176608ed00": {
     "model_module": "@jupyter-widgets/controls",
     "model_module_version": "1.5.0",
     "model_name": "ProgressStyleModel",
     "state": {
      "_model_module": "@jupyter-widgets/controls",
      "_model_module_version": "1.5.0",
      "_model_name": "ProgressStyleModel",
      "_view_count": null,
      "_view_module": "@jupyter-widgets/base",
      "_view_module_version": "1.2.0",
      "_view_name": "StyleView",
      "bar_color": null,
      "description_width": ""
     }
    },
    "2bfe13e4c4464557b76fd51da52fe07f": {
     "model_module": "@jupyter-widgets/base",
     "model_module_version": "1.2.0",
     "model_name": "LayoutModel",
     "state": {
      "_model_module": "@jupyter-widgets/base",
      "_model_module_version": "1.2.0",
      "_model_name": "LayoutModel",
      "_view_count": null,
      "_view_module": "@jupyter-widgets/base",
      "_view_module_version": "1.2.0",
      "_view_name": "LayoutView",
      "align_content": null,
      "align_items": null,
      "align_self": null,
      "border": null,
      "bottom": null,
      "display": null,
      "flex": null,
      "flex_flow": null,
      "grid_area": null,
      "grid_auto_columns": null,
      "grid_auto_flow": null,
      "grid_auto_rows": null,
      "grid_column": null,
      "grid_gap": null,
      "grid_row": null,
      "grid_template_areas": null,
      "grid_template_columns": null,
      "grid_template_rows": null,
      "height": null,
      "justify_content": null,
      "justify_items": null,
      "left": null,
      "margin": null,
      "max_height": null,
      "max_width": null,
      "min_height": null,
      "min_width": null,
      "object_fit": null,
      "object_position": null,
      "order": null,
      "overflow": null,
      "overflow_x": null,
      "overflow_y": null,
      "padding": null,
      "right": null,
      "top": null,
      "visibility": null,
      "width": null
     }
    },
    "2d155de122794d248231a31a6eed449d": {
     "model_module": "@jupyter-widgets/base",
     "model_module_version": "1.2.0",
     "model_name": "LayoutModel",
     "state": {
      "_model_module": "@jupyter-widgets/base",
      "_model_module_version": "1.2.0",
      "_model_name": "LayoutModel",
      "_view_count": null,
      "_view_module": "@jupyter-widgets/base",
      "_view_module_version": "1.2.0",
      "_view_name": "LayoutView",
      "align_content": null,
      "align_items": null,
      "align_self": null,
      "border": null,
      "bottom": null,
      "display": null,
      "flex": null,
      "flex_flow": null,
      "grid_area": null,
      "grid_auto_columns": null,
      "grid_auto_flow": null,
      "grid_auto_rows": null,
      "grid_column": null,
      "grid_gap": null,
      "grid_row": null,
      "grid_template_areas": null,
      "grid_template_columns": null,
      "grid_template_rows": null,
      "height": null,
      "justify_content": null,
      "justify_items": null,
      "left": null,
      "margin": null,
      "max_height": null,
      "max_width": null,
      "min_height": null,
      "min_width": null,
      "object_fit": null,
      "object_position": null,
      "order": null,
      "overflow": null,
      "overflow_x": null,
      "overflow_y": null,
      "padding": null,
      "right": null,
      "top": null,
      "visibility": null,
      "width": null
     }
    },
    "3000718c1e6c496b87fcaad058d9f435": {
     "model_module": "@jupyter-widgets/base",
     "model_module_version": "1.2.0",
     "model_name": "LayoutModel",
     "state": {
      "_model_module": "@jupyter-widgets/base",
      "_model_module_version": "1.2.0",
      "_model_name": "LayoutModel",
      "_view_count": null,
      "_view_module": "@jupyter-widgets/base",
      "_view_module_version": "1.2.0",
      "_view_name": "LayoutView",
      "align_content": null,
      "align_items": null,
      "align_self": null,
      "border": null,
      "bottom": null,
      "display": null,
      "flex": null,
      "flex_flow": null,
      "grid_area": null,
      "grid_auto_columns": null,
      "grid_auto_flow": null,
      "grid_auto_rows": null,
      "grid_column": null,
      "grid_gap": null,
      "grid_row": null,
      "grid_template_areas": null,
      "grid_template_columns": null,
      "grid_template_rows": null,
      "height": null,
      "justify_content": null,
      "justify_items": null,
      "left": null,
      "margin": null,
      "max_height": null,
      "max_width": null,
      "min_height": null,
      "min_width": null,
      "object_fit": null,
      "object_position": null,
      "order": null,
      "overflow": null,
      "overflow_x": null,
      "overflow_y": null,
      "padding": null,
      "right": null,
      "top": null,
      "visibility": null,
      "width": null
     }
    },
    "31935600768b466bbc0075d375982cbe": {
     "model_module": "@jupyter-widgets/controls",
     "model_module_version": "1.5.0",
     "model_name": "DescriptionStyleModel",
     "state": {
      "_model_module": "@jupyter-widgets/controls",
      "_model_module_version": "1.5.0",
      "_model_name": "DescriptionStyleModel",
      "_view_count": null,
      "_view_module": "@jupyter-widgets/base",
      "_view_module_version": "1.2.0",
      "_view_name": "StyleView",
      "description_width": ""
     }
    },
    "33057177cbd94dd5a5e85a5f267501c2": {
     "model_module": "@jupyter-widgets/controls",
     "model_module_version": "1.5.0",
     "model_name": "DescriptionStyleModel",
     "state": {
      "_model_module": "@jupyter-widgets/controls",
      "_model_module_version": "1.5.0",
      "_model_name": "DescriptionStyleModel",
      "_view_count": null,
      "_view_module": "@jupyter-widgets/base",
      "_view_module_version": "1.2.0",
      "_view_name": "StyleView",
      "description_width": ""
     }
    },
    "352ba20828584319ad07d83e625a8142": {
     "model_module": "@jupyter-widgets/controls",
     "model_module_version": "1.5.0",
     "model_name": "HTMLModel",
     "state": {
      "_dom_classes": [],
      "_model_module": "@jupyter-widgets/controls",
      "_model_module_version": "1.5.0",
      "_model_name": "HTMLModel",
      "_view_count": null,
      "_view_module": "@jupyter-widgets/controls",
      "_view_module_version": "1.5.0",
      "_view_name": "HTMLView",
      "description": "",
      "description_tooltip": null,
      "layout": "IPY_MODEL_954abe4556f3413ea32ff45ab3bce54a",
      "placeholder": "​",
      "style": "IPY_MODEL_38bfe1c2bbae4c928008aa9f6d26fcbf",
      "value": "Generating train split: 100%"
     }
    },
    "3557a7d439d44d5cb7e25c16ddf5214e": {
     "model_module": "@jupyter-widgets/controls",
     "model_module_version": "1.5.0",
     "model_name": "DescriptionStyleModel",
     "state": {
      "_model_module": "@jupyter-widgets/controls",
      "_model_module_version": "1.5.0",
      "_model_name": "DescriptionStyleModel",
      "_view_count": null,
      "_view_module": "@jupyter-widgets/base",
      "_view_module_version": "1.2.0",
      "_view_name": "StyleView",
      "description_width": ""
     }
    },
    "38bfe1c2bbae4c928008aa9f6d26fcbf": {
     "model_module": "@jupyter-widgets/controls",
     "model_module_version": "1.5.0",
     "model_name": "DescriptionStyleModel",
     "state": {
      "_model_module": "@jupyter-widgets/controls",
      "_model_module_version": "1.5.0",
      "_model_name": "DescriptionStyleModel",
      "_view_count": null,
      "_view_module": "@jupyter-widgets/base",
      "_view_module_version": "1.2.0",
      "_view_name": "StyleView",
      "description_width": ""
     }
    },
    "391c186edce1430db9b619d9cb783562": {
     "model_module": "@jupyter-widgets/base",
     "model_module_version": "1.2.0",
     "model_name": "LayoutModel",
     "state": {
      "_model_module": "@jupyter-widgets/base",
      "_model_module_version": "1.2.0",
      "_model_name": "LayoutModel",
      "_view_count": null,
      "_view_module": "@jupyter-widgets/base",
      "_view_module_version": "1.2.0",
      "_view_name": "LayoutView",
      "align_content": null,
      "align_items": null,
      "align_self": null,
      "border": null,
      "bottom": null,
      "display": null,
      "flex": null,
      "flex_flow": null,
      "grid_area": null,
      "grid_auto_columns": null,
      "grid_auto_flow": null,
      "grid_auto_rows": null,
      "grid_column": null,
      "grid_gap": null,
      "grid_row": null,
      "grid_template_areas": null,
      "grid_template_columns": null,
      "grid_template_rows": null,
      "height": null,
      "justify_content": null,
      "justify_items": null,
      "left": null,
      "margin": null,
      "max_height": null,
      "max_width": null,
      "min_height": null,
      "min_width": null,
      "object_fit": null,
      "object_position": null,
      "order": null,
      "overflow": null,
      "overflow_x": null,
      "overflow_y": null,
      "padding": null,
      "right": null,
      "top": null,
      "visibility": null,
      "width": null
     }
    },
    "3bc13db8d8f0436e872ecc11a5c47fe5": {
     "model_module": "@jupyter-widgets/controls",
     "model_module_version": "1.5.0",
     "model_name": "FloatProgressModel",
     "state": {
      "_dom_classes": [],
      "_model_module": "@jupyter-widgets/controls",
      "_model_module_version": "1.5.0",
      "_model_name": "FloatProgressModel",
      "_view_count": null,
      "_view_module": "@jupyter-widgets/controls",
      "_view_module_version": "1.5.0",
      "_view_name": "ProgressView",
      "bar_style": "success",
      "description": "",
      "description_tooltip": null,
      "layout": "IPY_MODEL_dec8332589d6410c94619545223b9726",
      "max": 2000,
      "min": 0,
      "orientation": "horizontal",
      "style": "IPY_MODEL_5a40082bca514bd1a73cc52a5c466a88",
      "value": 2000
     }
    },
    "3e5687d8b72c4213b321187e9d071f96": {
     "model_module": "@jupyter-widgets/controls",
     "model_module_version": "1.5.0",
     "model_name": "FloatProgressModel",
     "state": {
      "_dom_classes": [],
      "_model_module": "@jupyter-widgets/controls",
      "_model_module_version": "1.5.0",
      "_model_name": "FloatProgressModel",
      "_view_count": null,
      "_view_module": "@jupyter-widgets/controls",
      "_view_module_version": "1.5.0",
      "_view_name": "ProgressView",
      "bar_style": "success",
      "description": "",
      "description_tooltip": null,
      "layout": "IPY_MODEL_84007ad460a647ae92591b8b5d8d9688",
      "max": 3280,
      "min": 0,
      "orientation": "horizontal",
      "style": "IPY_MODEL_1a8391f4e21c4acc981feab9a8976c09",
      "value": 3280
     }
    },
    "3e943840a21d499e8d42c431bd1635ff": {
     "model_module": "@jupyter-widgets/controls",
     "model_module_version": "1.5.0",
     "model_name": "HBoxModel",
     "state": {
      "_dom_classes": [],
      "_model_module": "@jupyter-widgets/controls",
      "_model_module_version": "1.5.0",
      "_model_name": "HBoxModel",
      "_view_count": null,
      "_view_module": "@jupyter-widgets/controls",
      "_view_module_version": "1.5.0",
      "_view_name": "HBoxView",
      "box_style": "",
      "children": [
       "IPY_MODEL_a32d1413ebc9449eaaee26e89a8eaa5d",
       "IPY_MODEL_e688e1594b454e86a7dedf736ff6c18d",
       "IPY_MODEL_da25b74745b24e8496ada19f8d756c50"
      ],
      "layout": "IPY_MODEL_af79e1e5045f469b8684784e21a32617"
     }
    },
    "4041395dfb6a4311a00d3ed2ded00b56": {
     "model_module": "@jupyter-widgets/base",
     "model_module_version": "1.2.0",
     "model_name": "LayoutModel",
     "state": {
      "_model_module": "@jupyter-widgets/base",
      "_model_module_version": "1.2.0",
      "_model_name": "LayoutModel",
      "_view_count": null,
      "_view_module": "@jupyter-widgets/base",
      "_view_module_version": "1.2.0",
      "_view_name": "LayoutView",
      "align_content": null,
      "align_items": null,
      "align_self": null,
      "border": null,
      "bottom": null,
      "display": null,
      "flex": null,
      "flex_flow": null,
      "grid_area": null,
      "grid_auto_columns": null,
      "grid_auto_flow": null,
      "grid_auto_rows": null,
      "grid_column": null,
      "grid_gap": null,
      "grid_row": null,
      "grid_template_areas": null,
      "grid_template_columns": null,
      "grid_template_rows": null,
      "height": null,
      "justify_content": null,
      "justify_items": null,
      "left": null,
      "margin": null,
      "max_height": null,
      "max_width": null,
      "min_height": null,
      "min_width": null,
      "object_fit": null,
      "object_position": null,
      "order": null,
      "overflow": null,
      "overflow_x": null,
      "overflow_y": null,
      "padding": null,
      "right": null,
      "top": null,
      "visibility": null,
      "width": null
     }
    },
    "447abd6d4c8742848474ed3c3dfffd8d": {
     "model_module": "@jupyter-widgets/controls",
     "model_module_version": "1.5.0",
     "model_name": "HTMLModel",
     "state": {
      "_dom_classes": [],
      "_model_module": "@jupyter-widgets/controls",
      "_model_module_version": "1.5.0",
      "_model_name": "HTMLModel",
      "_view_count": null,
      "_view_module": "@jupyter-widgets/controls",
      "_view_module_version": "1.5.0",
      "_view_name": "HTMLView",
      "description": "",
      "description_tooltip": null,
      "layout": "IPY_MODEL_78bb5c03093642628e8fea9acd9ca29c",
      "placeholder": "​",
      "style": "IPY_MODEL_e1233339e1f2435198764838636d10e5",
      "value": " 74.0k/74.0k [00:00&lt;00:00, 2.17MB/s]"
     }
    },
    "4496e43095f342c182e652ad6f34b4a7": {
     "model_module": "@jupyter-widgets/controls",
     "model_module_version": "1.5.0",
     "model_name": "DescriptionStyleModel",
     "state": {
      "_model_module": "@jupyter-widgets/controls",
      "_model_module_version": "1.5.0",
      "_model_name": "DescriptionStyleModel",
      "_view_count": null,
      "_view_module": "@jupyter-widgets/base",
      "_view_module_version": "1.2.0",
      "_view_name": "StyleView",
      "description_width": ""
     }
    },
    "44f7c7305bfa4ca9b849cba99ee5ed67": {
     "model_module": "@jupyter-widgets/controls",
     "model_module_version": "1.5.0",
     "model_name": "HBoxModel",
     "state": {
      "_dom_classes": [],
      "_model_module": "@jupyter-widgets/controls",
      "_model_module_version": "1.5.0",
      "_model_name": "HBoxModel",
      "_view_count": null,
      "_view_module": "@jupyter-widgets/controls",
      "_view_module_version": "1.5.0",
      "_view_name": "HBoxView",
      "box_style": "",
      "children": [
       "IPY_MODEL_d3d3ca5032bb42049eaeb93635035a85",
       "IPY_MODEL_60ad4afe8e6849cba857179278fc78df",
       "IPY_MODEL_1ff8d81d9f5f4067ac6f81f722d35bcd"
      ],
      "layout": "IPY_MODEL_6006e205d25044aea59c417b0401be03"
     }
    },
    "47808a31793144cd8130689ac61f7c7f": {
     "model_module": "@jupyter-widgets/controls",
     "model_module_version": "1.5.0",
     "model_name": "FloatProgressModel",
     "state": {
      "_dom_classes": [],
      "_model_module": "@jupyter-widgets/controls",
      "_model_module_version": "1.5.0",
      "_model_name": "FloatProgressModel",
      "_view_count": null,
      "_view_module": "@jupyter-widgets/controls",
      "_view_module_version": "1.5.0",
      "_view_name": "ProgressView",
      "bar_style": "success",
      "description": "",
      "description_tooltip": null,
      "layout": "IPY_MODEL_289fbaa37600404a8eccfecef98c6dbc",
      "max": 3,
      "min": 0,
      "orientation": "horizontal",
      "style": "IPY_MODEL_6e41b42ba79a494fb439a0305156ac54",
      "value": 3
     }
    },
    "50fa49ed210f434ab383f5a22660c8c0": {
     "model_module": "@jupyter-widgets/controls",
     "model_module_version": "1.5.0",
     "model_name": "DescriptionStyleModel",
     "state": {
      "_model_module": "@jupyter-widgets/controls",
      "_model_module_version": "1.5.0",
      "_model_name": "DescriptionStyleModel",
      "_view_count": null,
      "_view_module": "@jupyter-widgets/base",
      "_view_module_version": "1.2.0",
      "_view_name": "StyleView",
      "description_width": ""
     }
    },
    "5165970aac234fd18618745582fadb6c": {
     "model_module": "@jupyter-widgets/controls",
     "model_module_version": "1.5.0",
     "model_name": "HTMLModel",
     "state": {
      "_dom_classes": [],
      "_model_module": "@jupyter-widgets/controls",
      "_model_module_version": "1.5.0",
      "_model_name": "HTMLModel",
      "_view_count": null,
      "_view_module": "@jupyter-widgets/controls",
      "_view_module_version": "1.5.0",
      "_view_name": "HTMLView",
      "description": "",
      "description_tooltip": null,
      "layout": "IPY_MODEL_e57effe7fe7e4f2e880f5259b0ca0d07",
      "placeholder": "​",
      "style": "IPY_MODEL_b2e1357741aa4383bab5619cbfb01dfd",
      "value": "Downloading metadata: 100%"
     }
    },
    "5629e65367754664a68e324eb94bdaea": {
     "model_module": "@jupyter-widgets/controls",
     "model_module_version": "1.5.0",
     "model_name": "DescriptionStyleModel",
     "state": {
      "_model_module": "@jupyter-widgets/controls",
      "_model_module_version": "1.5.0",
      "_model_name": "DescriptionStyleModel",
      "_view_count": null,
      "_view_module": "@jupyter-widgets/base",
      "_view_module_version": "1.2.0",
      "_view_name": "StyleView",
      "description_width": ""
     }
    },
    "5669d3bc79bc407ea153dcab102e585f": {
     "model_module": "@jupyter-widgets/base",
     "model_module_version": "1.2.0",
     "model_name": "LayoutModel",
     "state": {
      "_model_module": "@jupyter-widgets/base",
      "_model_module_version": "1.2.0",
      "_model_name": "LayoutModel",
      "_view_count": null,
      "_view_module": "@jupyter-widgets/base",
      "_view_module_version": "1.2.0",
      "_view_name": "LayoutView",
      "align_content": null,
      "align_items": null,
      "align_self": null,
      "border": null,
      "bottom": null,
      "display": null,
      "flex": null,
      "flex_flow": null,
      "grid_area": null,
      "grid_auto_columns": null,
      "grid_auto_flow": null,
      "grid_auto_rows": null,
      "grid_column": null,
      "grid_gap": null,
      "grid_row": null,
      "grid_template_areas": null,
      "grid_template_columns": null,
      "grid_template_rows": null,
      "height": null,
      "justify_content": null,
      "justify_items": null,
      "left": null,
      "margin": null,
      "max_height": null,
      "max_width": null,
      "min_height": null,
      "min_width": null,
      "object_fit": null,
      "object_position": null,
      "order": null,
      "overflow": null,
      "overflow_x": null,
      "overflow_y": null,
      "padding": null,
      "right": null,
      "top": null,
      "visibility": null,
      "width": null
     }
    },
    "574a35ab288d46f59f1e45db90deb93e": {
     "model_module": "@jupyter-widgets/controls",
     "model_module_version": "1.5.0",
     "model_name": "HBoxModel",
     "state": {
      "_dom_classes": [],
      "_model_module": "@jupyter-widgets/controls",
      "_model_module_version": "1.5.0",
      "_model_name": "HBoxModel",
      "_view_count": null,
      "_view_module": "@jupyter-widgets/controls",
      "_view_module_version": "1.5.0",
      "_view_name": "HBoxView",
      "box_style": "",
      "children": [
       "IPY_MODEL_015cbf2e9c464bc6b8497035bc0c0dc9",
       "IPY_MODEL_b38f66eb1978430c9b69b21612de7bb6",
       "IPY_MODEL_9e1fa8f74dd543799897f497bc2d03b5"
      ],
      "layout": "IPY_MODEL_fe03b89095cd45259cd4d8622b8e80fd"
     }
    },
    "5a40082bca514bd1a73cc52a5c466a88": {
     "model_module": "@jupyter-widgets/controls",
     "model_module_version": "1.5.0",
     "model_name": "ProgressStyleModel",
     "state": {
      "_model_module": "@jupyter-widgets/controls",
      "_model_module_version": "1.5.0",
      "_model_name": "ProgressStyleModel",
      "_view_count": null,
      "_view_module": "@jupyter-widgets/base",
      "_view_module_version": "1.2.0",
      "_view_name": "StyleView",
      "bar_color": null,
      "description_width": ""
     }
    },
    "5f2bcc1cb119416799aeaae691e283be": {
     "model_module": "@jupyter-widgets/controls",
     "model_module_version": "1.5.0",
     "model_name": "HTMLModel",
     "state": {
      "_dom_classes": [],
      "_model_module": "@jupyter-widgets/controls",
      "_model_module_version": "1.5.0",
      "_model_name": "HTMLModel",
      "_view_count": null,
      "_view_module": "@jupyter-widgets/controls",
      "_view_module_version": "1.5.0",
      "_view_name": "HTMLView",
      "description": "",
      "description_tooltip": null,
      "layout": "IPY_MODEL_001c5ec7f2a246a3ad559b3df72ed975",
      "placeholder": "​",
      "style": "IPY_MODEL_bc0385c1acd745e8b128a5027f1b402c",
      "value": "Downloading data files: 100%"
     }
    },
    "6006e205d25044aea59c417b0401be03": {
     "model_module": "@jupyter-widgets/base",
     "model_module_version": "1.2.0",
     "model_name": "LayoutModel",
     "state": {
      "_model_module": "@jupyter-widgets/base",
      "_model_module_version": "1.2.0",
      "_model_name": "LayoutModel",
      "_view_count": null,
      "_view_module": "@jupyter-widgets/base",
      "_view_module_version": "1.2.0",
      "_view_name": "LayoutView",
      "align_content": null,
      "align_items": null,
      "align_self": null,
      "border": null,
      "bottom": null,
      "display": null,
      "flex": null,
      "flex_flow": null,
      "grid_area": null,
      "grid_auto_columns": null,
      "grid_auto_flow": null,
      "grid_auto_rows": null,
      "grid_column": null,
      "grid_gap": null,
      "grid_row": null,
      "grid_template_areas": null,
      "grid_template_columns": null,
      "grid_template_rows": null,
      "height": null,
      "justify_content": null,
      "justify_items": null,
      "left": null,
      "margin": null,
      "max_height": null,
      "max_width": null,
      "min_height": null,
      "min_width": null,
      "object_fit": null,
      "object_position": null,
      "order": null,
      "overflow": null,
      "overflow_x": null,
      "overflow_y": null,
      "padding": null,
      "right": null,
      "top": null,
      "visibility": null,
      "width": null
     }
    },
    "60ad4afe8e6849cba857179278fc78df": {
     "model_module": "@jupyter-widgets/controls",
     "model_module_version": "1.5.0",
     "model_name": "FloatProgressModel",
     "state": {
      "_dom_classes": [],
      "_model_module": "@jupyter-widgets/controls",
      "_model_module_version": "1.5.0",
      "_model_name": "FloatProgressModel",
      "_view_count": null,
      "_view_module": "@jupyter-widgets/controls",
      "_view_module_version": "1.5.0",
      "_view_name": "ProgressView",
      "bar_style": "success",
      "description": "",
      "description_tooltip": null,
      "layout": "IPY_MODEL_0c1d6fcd6e7c406cb6342d1147d39cf9",
      "max": 74935,
      "min": 0,
      "orientation": "horizontal",
      "style": "IPY_MODEL_1628e1875292499284003ca21d35b9c2",
      "value": 74935
     }
    },
    "66f2df5bdd484f84ac56adb0a34045a4": {
     "model_module": "@jupyter-widgets/controls",
     "model_module_version": "1.5.0",
     "model_name": "DescriptionStyleModel",
     "state": {
      "_model_module": "@jupyter-widgets/controls",
      "_model_module_version": "1.5.0",
      "_model_name": "DescriptionStyleModel",
      "_view_count": null,
      "_view_module": "@jupyter-widgets/base",
      "_view_module_version": "1.2.0",
      "_view_name": "StyleView",
      "description_width": ""
     }
    },
    "6905f883d1774b62a1c7029329d6c1b2": {
     "model_module": "@jupyter-widgets/controls",
     "model_module_version": "1.5.0",
     "model_name": "DescriptionStyleModel",
     "state": {
      "_model_module": "@jupyter-widgets/controls",
      "_model_module_version": "1.5.0",
      "_model_name": "DescriptionStyleModel",
      "_view_count": null,
      "_view_module": "@jupyter-widgets/base",
      "_view_module_version": "1.2.0",
      "_view_name": "StyleView",
      "description_width": ""
     }
    },
    "69a40dff6bd24720a051c03ce593d885": {
     "model_module": "@jupyter-widgets/controls",
     "model_module_version": "1.5.0",
     "model_name": "DescriptionStyleModel",
     "state": {
      "_model_module": "@jupyter-widgets/controls",
      "_model_module_version": "1.5.0",
      "_model_name": "DescriptionStyleModel",
      "_view_count": null,
      "_view_module": "@jupyter-widgets/base",
      "_view_module_version": "1.2.0",
      "_view_name": "StyleView",
      "description_width": ""
     }
    },
    "6e41b42ba79a494fb439a0305156ac54": {
     "model_module": "@jupyter-widgets/controls",
     "model_module_version": "1.5.0",
     "model_name": "ProgressStyleModel",
     "state": {
      "_model_module": "@jupyter-widgets/controls",
      "_model_module_version": "1.5.0",
      "_model_name": "ProgressStyleModel",
      "_view_count": null,
      "_view_module": "@jupyter-widgets/base",
      "_view_module_version": "1.2.0",
      "_view_name": "StyleView",
      "bar_color": null,
      "description_width": ""
     }
    },
    "7114c28deedf48e6804f3d3217e1f776": {
     "model_module": "@jupyter-widgets/controls",
     "model_module_version": "1.5.0",
     "model_name": "HTMLModel",
     "state": {
      "_dom_classes": [],
      "_model_module": "@jupyter-widgets/controls",
      "_model_module_version": "1.5.0",
      "_model_name": "HTMLModel",
      "_view_count": null,
      "_view_module": "@jupyter-widgets/controls",
      "_view_module_version": "1.5.0",
      "_view_name": "HTMLView",
      "description": "",
      "description_tooltip": null,
      "layout": "IPY_MODEL_4041395dfb6a4311a00d3ed2ded00b56",
      "placeholder": "​",
      "style": "IPY_MODEL_3557a7d439d44d5cb7e25c16ddf5214e",
      "value": "Generating validation split: 100%"
     }
    },
    "785f0ff65e794e729ea914e827bb4a15": {
     "model_module": "@jupyter-widgets/controls",
     "model_module_version": "1.5.0",
     "model_name": "HTMLModel",
     "state": {
      "_dom_classes": [],
      "_model_module": "@jupyter-widgets/controls",
      "_model_module_version": "1.5.0",
      "_model_name": "HTMLModel",
      "_view_count": null,
      "_view_module": "@jupyter-widgets/controls",
      "_view_module_version": "1.5.0",
      "_view_name": "HTMLView",
      "description": "",
      "description_tooltip": null,
      "layout": "IPY_MODEL_a0b49e58d19d4f648559e094059e7fcc",
      "placeholder": "​",
      "style": "IPY_MODEL_f4b77d3c66c54cdb9ddf728ee5fcf9c2",
      "value": "Downloading data: 100%"
     }
    },
    "78bb5c03093642628e8fea9acd9ca29c": {
     "model_module": "@jupyter-widgets/base",
     "model_module_version": "1.2.0",
     "model_name": "LayoutModel",
     "state": {
      "_model_module": "@jupyter-widgets/base",
      "_model_module_version": "1.2.0",
      "_model_name": "LayoutModel",
      "_view_count": null,
      "_view_module": "@jupyter-widgets/base",
      "_view_module_version": "1.2.0",
      "_view_name": "LayoutView",
      "align_content": null,
      "align_items": null,
      "align_self": null,
      "border": null,
      "bottom": null,
      "display": null,
      "flex": null,
      "flex_flow": null,
      "grid_area": null,
      "grid_auto_columns": null,
      "grid_auto_flow": null,
      "grid_auto_rows": null,
      "grid_column": null,
      "grid_gap": null,
      "grid_row": null,
      "grid_template_areas": null,
      "grid_template_columns": null,
      "grid_template_rows": null,
      "height": null,
      "justify_content": null,
      "justify_items": null,
      "left": null,
      "margin": null,
      "max_height": null,
      "max_width": null,
      "min_height": null,
      "min_width": null,
      "object_fit": null,
      "object_position": null,
      "order": null,
      "overflow": null,
      "overflow_x": null,
      "overflow_y": null,
      "padding": null,
      "right": null,
      "top": null,
      "visibility": null,
      "width": null
     }
    },
    "79d4b7ac447d435f965d416b872f324f": {
     "model_module": "@jupyter-widgets/base",
     "model_module_version": "1.2.0",
     "model_name": "LayoutModel",
     "state": {
      "_model_module": "@jupyter-widgets/base",
      "_model_module_version": "1.2.0",
      "_model_name": "LayoutModel",
      "_view_count": null,
      "_view_module": "@jupyter-widgets/base",
      "_view_module_version": "1.2.0",
      "_view_name": "LayoutView",
      "align_content": null,
      "align_items": null,
      "align_self": null,
      "border": null,
      "bottom": null,
      "display": null,
      "flex": null,
      "flex_flow": null,
      "grid_area": null,
      "grid_auto_columns": null,
      "grid_auto_flow": null,
      "grid_auto_rows": null,
      "grid_column": null,
      "grid_gap": null,
      "grid_row": null,
      "grid_template_areas": null,
      "grid_template_columns": null,
      "grid_template_rows": null,
      "height": null,
      "justify_content": null,
      "justify_items": null,
      "left": null,
      "margin": null,
      "max_height": null,
      "max_width": null,
      "min_height": null,
      "min_width": null,
      "object_fit": null,
      "object_position": null,
      "order": null,
      "overflow": null,
      "overflow_x": null,
      "overflow_y": null,
      "padding": null,
      "right": null,
      "top": null,
      "visibility": null,
      "width": null
     }
    },
    "8179d1a147834ed4873fadfc724ceb26": {
     "model_module": "@jupyter-widgets/controls",
     "model_module_version": "1.5.0",
     "model_name": "DescriptionStyleModel",
     "state": {
      "_model_module": "@jupyter-widgets/controls",
      "_model_module_version": "1.5.0",
      "_model_name": "DescriptionStyleModel",
      "_view_count": null,
      "_view_module": "@jupyter-widgets/base",
      "_view_module_version": "1.2.0",
      "_view_name": "StyleView",
      "description_width": ""
     }
    },
    "818f0564af8d4558af635e0a4de95360": {
     "model_module": "@jupyter-widgets/controls",
     "model_module_version": "1.5.0",
     "model_name": "HTMLModel",
     "state": {
      "_dom_classes": [],
      "_model_module": "@jupyter-widgets/controls",
      "_model_module_version": "1.5.0",
      "_model_name": "HTMLModel",
      "_view_count": null,
      "_view_module": "@jupyter-widgets/controls",
      "_view_module_version": "1.5.0",
      "_view_name": "HTMLView",
      "description": "",
      "description_tooltip": null,
      "layout": "IPY_MODEL_2d155de122794d248231a31a6eed449d",
      "placeholder": "​",
      "style": "IPY_MODEL_4496e43095f342c182e652ad6f34b4a7",
      "value": "Extracting data files: 100%"
     }
    },
    "82624210664d4a68a8a2fc5c0d866820": {
     "model_module": "@jupyter-widgets/controls",
     "model_module_version": "1.5.0",
     "model_name": "HBoxModel",
     "state": {
      "_dom_classes": [],
      "_model_module": "@jupyter-widgets/controls",
      "_model_module_version": "1.5.0",
      "_model_name": "HBoxModel",
      "_view_count": null,
      "_view_module": "@jupyter-widgets/controls",
      "_view_module_version": "1.5.0",
      "_view_name": "HBoxView",
      "box_style": "",
      "children": [
       "IPY_MODEL_818f0564af8d4558af635e0a4de95360",
       "IPY_MODEL_97e38558a78749d38f3ecac441e957b5",
       "IPY_MODEL_aed989bcb5ed4ab8bda0c188bd856972"
      ],
      "layout": "IPY_MODEL_14f8a9ef54664365b38fd17dd78ea4b7"
     }
    },
    "84007ad460a647ae92591b8b5d8d9688": {
     "model_module": "@jupyter-widgets/base",
     "model_module_version": "1.2.0",
     "model_name": "LayoutModel",
     "state": {
      "_model_module": "@jupyter-widgets/base",
      "_model_module_version": "1.2.0",
      "_model_name": "LayoutModel",
      "_view_count": null,
      "_view_module": "@jupyter-widgets/base",
      "_view_module_version": "1.2.0",
      "_view_name": "LayoutView",
      "align_content": null,
      "align_items": null,
      "align_self": null,
      "border": null,
      "bottom": null,
      "display": null,
      "flex": null,
      "flex_flow": null,
      "grid_area": null,
      "grid_auto_columns": null,
      "grid_auto_flow": null,
      "grid_auto_rows": null,
      "grid_column": null,
      "grid_gap": null,
      "grid_row": null,
      "grid_template_areas": null,
      "grid_template_columns": null,
      "grid_template_rows": null,
      "height": null,
      "justify_content": null,
      "justify_items": null,
      "left": null,
      "margin": null,
      "max_height": null,
      "max_width": null,
      "min_height": null,
      "min_width": null,
      "object_fit": null,
      "object_position": null,
      "order": null,
      "overflow": null,
      "overflow_x": null,
      "overflow_y": null,
      "padding": null,
      "right": null,
      "top": null,
      "visibility": null,
      "width": null
     }
    },
    "8418c9d7bc3848569f3cc99497ac3f02": {
     "model_module": "@jupyter-widgets/controls",
     "model_module_version": "1.5.0",
     "model_name": "HTMLModel",
     "state": {
      "_dom_classes": [],
      "_model_module": "@jupyter-widgets/controls",
      "_model_module_version": "1.5.0",
      "_model_name": "HTMLModel",
      "_view_count": null,
      "_view_module": "@jupyter-widgets/controls",
      "_view_module_version": "1.5.0",
      "_view_name": "HTMLView",
      "description": "",
      "description_tooltip": null,
      "layout": "IPY_MODEL_cdcb59a941454152a70cc7bdefca3c4d",
      "placeholder": "​",
      "style": "IPY_MODEL_5629e65367754664a68e324eb94bdaea",
      "value": " 8.78k/8.78k [00:00&lt;00:00, 373kB/s]"
     }
    },
    "8656f848d7a141049248db82aa70c521": {
     "model_module": "@jupyter-widgets/controls",
     "model_module_version": "1.5.0",
     "model_name": "HBoxModel",
     "state": {
      "_dom_classes": [],
      "_model_module": "@jupyter-widgets/controls",
      "_model_module_version": "1.5.0",
      "_model_name": "HBoxModel",
      "_view_count": null,
      "_view_module": "@jupyter-widgets/controls",
      "_view_module_version": "1.5.0",
      "_view_name": "HBoxView",
      "box_style": "",
      "children": [
       "IPY_MODEL_5f2bcc1cb119416799aeaae691e283be",
       "IPY_MODEL_47808a31793144cd8130689ac61f7c7f",
       "IPY_MODEL_af27bc1e491647bf8db3954f447407f6"
      ],
      "layout": "IPY_MODEL_03453d6b25ac4d7989662063bcddd421"
     }
    },
    "8aa50e2a91ea454899eaeeb5850d95a0": {
     "model_module": "@jupyter-widgets/base",
     "model_module_version": "1.2.0",
     "model_name": "LayoutModel",
     "state": {
      "_model_module": "@jupyter-widgets/base",
      "_model_module_version": "1.2.0",
      "_model_name": "LayoutModel",
      "_view_count": null,
      "_view_module": "@jupyter-widgets/base",
      "_view_module_version": "1.2.0",
      "_view_name": "LayoutView",
      "align_content": null,
      "align_items": null,
      "align_self": null,
      "border": null,
      "bottom": null,
      "display": null,
      "flex": null,
      "flex_flow": null,
      "grid_area": null,
      "grid_auto_columns": null,
      "grid_auto_flow": null,
      "grid_auto_rows": null,
      "grid_column": null,
      "grid_gap": null,
      "grid_row": null,
      "grid_template_areas": null,
      "grid_template_columns": null,
      "grid_template_rows": null,
      "height": null,
      "justify_content": null,
      "justify_items": null,
      "left": null,
      "margin": null,
      "max_height": null,
      "max_width": null,
      "min_height": null,
      "min_width": null,
      "object_fit": null,
      "object_position": null,
      "order": null,
      "overflow": null,
      "overflow_x": null,
      "overflow_y": null,
      "padding": null,
      "right": null,
      "top": null,
      "visibility": null,
      "width": null
     }
    },
    "8f2793cd5f6c4a7292718183f0883681": {
     "model_module": "@jupyter-widgets/base",
     "model_module_version": "1.2.0",
     "model_name": "LayoutModel",
     "state": {
      "_model_module": "@jupyter-widgets/base",
      "_model_module_version": "1.2.0",
      "_model_name": "LayoutModel",
      "_view_count": null,
      "_view_module": "@jupyter-widgets/base",
      "_view_module_version": "1.2.0",
      "_view_name": "LayoutView",
      "align_content": null,
      "align_items": null,
      "align_self": null,
      "border": null,
      "bottom": null,
      "display": null,
      "flex": null,
      "flex_flow": null,
      "grid_area": null,
      "grid_auto_columns": null,
      "grid_auto_flow": null,
      "grid_auto_rows": null,
      "grid_column": null,
      "grid_gap": null,
      "grid_row": null,
      "grid_template_areas": null,
      "grid_template_columns": null,
      "grid_template_rows": null,
      "height": null,
      "justify_content": null,
      "justify_items": null,
      "left": null,
      "margin": null,
      "max_height": null,
      "max_width": null,
      "min_height": null,
      "min_width": null,
      "object_fit": null,
      "object_position": null,
      "order": null,
      "overflow": null,
      "overflow_x": null,
      "overflow_y": null,
      "padding": null,
      "right": null,
      "top": null,
      "visibility": null,
      "width": null
     }
    },
    "901a5341fed3494db9628332e3221ac3": {
     "model_module": "@jupyter-widgets/controls",
     "model_module_version": "1.5.0",
     "model_name": "ProgressStyleModel",
     "state": {
      "_model_module": "@jupyter-widgets/controls",
      "_model_module_version": "1.5.0",
      "_model_name": "ProgressStyleModel",
      "_view_count": null,
      "_view_module": "@jupyter-widgets/base",
      "_view_module_version": "1.2.0",
      "_view_name": "StyleView",
      "bar_color": null,
      "description_width": ""
     }
    },
    "9027d98a59234284bda7a1c2103d64fa": {
     "model_module": "@jupyter-widgets/base",
     "model_module_version": "1.2.0",
     "model_name": "LayoutModel",
     "state": {
      "_model_module": "@jupyter-widgets/base",
      "_model_module_version": "1.2.0",
      "_model_name": "LayoutModel",
      "_view_count": null,
      "_view_module": "@jupyter-widgets/base",
      "_view_module_version": "1.2.0",
      "_view_name": "LayoutView",
      "align_content": null,
      "align_items": null,
      "align_self": null,
      "border": null,
      "bottom": null,
      "display": null,
      "flex": null,
      "flex_flow": null,
      "grid_area": null,
      "grid_auto_columns": null,
      "grid_auto_flow": null,
      "grid_auto_rows": null,
      "grid_column": null,
      "grid_gap": null,
      "grid_row": null,
      "grid_template_areas": null,
      "grid_template_columns": null,
      "grid_template_rows": null,
      "height": null,
      "justify_content": null,
      "justify_items": null,
      "left": null,
      "margin": null,
      "max_height": null,
      "max_width": null,
      "min_height": null,
      "min_width": null,
      "object_fit": null,
      "object_position": null,
      "order": null,
      "overflow": null,
      "overflow_x": null,
      "overflow_y": null,
      "padding": null,
      "right": null,
      "top": null,
      "visibility": null,
      "width": null
     }
    },
    "94018f593c1142a1ae123240def73b6b": {
     "model_module": "@jupyter-widgets/controls",
     "model_module_version": "1.5.0",
     "model_name": "ProgressStyleModel",
     "state": {
      "_model_module": "@jupyter-widgets/controls",
      "_model_module_version": "1.5.0",
      "_model_name": "ProgressStyleModel",
      "_view_count": null,
      "_view_module": "@jupyter-widgets/base",
      "_view_module_version": "1.2.0",
      "_view_name": "StyleView",
      "bar_color": null,
      "description_width": ""
     }
    },
    "954abe4556f3413ea32ff45ab3bce54a": {
     "model_module": "@jupyter-widgets/base",
     "model_module_version": "1.2.0",
     "model_name": "LayoutModel",
     "state": {
      "_model_module": "@jupyter-widgets/base",
      "_model_module_version": "1.2.0",
      "_model_name": "LayoutModel",
      "_view_count": null,
      "_view_module": "@jupyter-widgets/base",
      "_view_module_version": "1.2.0",
      "_view_name": "LayoutView",
      "align_content": null,
      "align_items": null,
      "align_self": null,
      "border": null,
      "bottom": null,
      "display": null,
      "flex": null,
      "flex_flow": null,
      "grid_area": null,
      "grid_auto_columns": null,
      "grid_auto_flow": null,
      "grid_auto_rows": null,
      "grid_column": null,
      "grid_gap": null,
      "grid_row": null,
      "grid_template_areas": null,
      "grid_template_columns": null,
      "grid_template_rows": null,
      "height": null,
      "justify_content": null,
      "justify_items": null,
      "left": null,
      "margin": null,
      "max_height": null,
      "max_width": null,
      "min_height": null,
      "min_width": null,
      "object_fit": null,
      "object_position": null,
      "order": null,
      "overflow": null,
      "overflow_x": null,
      "overflow_y": null,
      "padding": null,
      "right": null,
      "top": null,
      "visibility": null,
      "width": null
     }
    },
    "97e38558a78749d38f3ecac441e957b5": {
     "model_module": "@jupyter-widgets/controls",
     "model_module_version": "1.5.0",
     "model_name": "FloatProgressModel",
     "state": {
      "_dom_classes": [],
      "_model_module": "@jupyter-widgets/controls",
      "_model_module_version": "1.5.0",
      "_model_name": "FloatProgressModel",
      "_view_count": null,
      "_view_module": "@jupyter-widgets/controls",
      "_view_module_version": "1.5.0",
      "_view_name": "ProgressView",
      "bar_style": "success",
      "description": "",
      "description_tooltip": null,
      "layout": "IPY_MODEL_f98233055231457a962962b1cd3211ef",
      "max": 3,
      "min": 0,
      "orientation": "horizontal",
      "style": "IPY_MODEL_2b44a3bfbef149ffb837f1176608ed00",
      "value": 3
     }
    },
    "9d47c669b2f84129b2a3c717b69df7b3": {
     "model_module": "@jupyter-widgets/base",
     "model_module_version": "1.2.0",
     "model_name": "LayoutModel",
     "state": {
      "_model_module": "@jupyter-widgets/base",
      "_model_module_version": "1.2.0",
      "_model_name": "LayoutModel",
      "_view_count": null,
      "_view_module": "@jupyter-widgets/base",
      "_view_module_version": "1.2.0",
      "_view_name": "LayoutView",
      "align_content": null,
      "align_items": null,
      "align_self": null,
      "border": null,
      "bottom": null,
      "display": null,
      "flex": null,
      "flex_flow": null,
      "grid_area": null,
      "grid_auto_columns": null,
      "grid_auto_flow": null,
      "grid_auto_rows": null,
      "grid_column": null,
      "grid_gap": null,
      "grid_row": null,
      "grid_template_areas": null,
      "grid_template_columns": null,
      "grid_template_rows": null,
      "height": null,
      "justify_content": null,
      "justify_items": null,
      "left": null,
      "margin": null,
      "max_height": null,
      "max_width": null,
      "min_height": null,
      "min_width": null,
      "object_fit": null,
      "object_position": null,
      "order": null,
      "overflow": null,
      "overflow_x": null,
      "overflow_y": null,
      "padding": null,
      "right": null,
      "top": null,
      "visibility": null,
      "width": null
     }
    },
    "9e1fa8f74dd543799897f497bc2d03b5": {
     "model_module": "@jupyter-widgets/controls",
     "model_module_version": "1.5.0",
     "model_name": "HTMLModel",
     "state": {
      "_dom_classes": [],
      "_model_module": "@jupyter-widgets/controls",
      "_model_module_version": "1.5.0",
      "_model_name": "HTMLModel",
      "_view_count": null,
      "_view_module": "@jupyter-widgets/controls",
      "_view_module_version": "1.5.0",
      "_view_name": "HTMLView",
      "description": "",
      "description_tooltip": null,
      "layout": "IPY_MODEL_020398781d974995815327c44036bff3",
      "placeholder": "​",
      "style": "IPY_MODEL_a14ec6ddb8c14b5e859e2991b1d1e8fe",
      "value": " 3.97k/3.97k [00:00&lt;00:00, 266kB/s]"
     }
    },
    "a0b49e58d19d4f648559e094059e7fcc": {
     "model_module": "@jupyter-widgets/base",
     "model_module_version": "1.2.0",
     "model_name": "LayoutModel",
     "state": {
      "_model_module": "@jupyter-widgets/base",
      "_model_module_version": "1.2.0",
      "_model_name": "LayoutModel",
      "_view_count": null,
      "_view_module": "@jupyter-widgets/base",
      "_view_module_version": "1.2.0",
      "_view_name": "LayoutView",
      "align_content": null,
      "align_items": null,
      "align_self": null,
      "border": null,
      "bottom": null,
      "display": null,
      "flex": null,
      "flex_flow": null,
      "grid_area": null,
      "grid_auto_columns": null,
      "grid_auto_flow": null,
      "grid_auto_rows": null,
      "grid_column": null,
      "grid_gap": null,
      "grid_row": null,
      "grid_template_areas": null,
      "grid_template_columns": null,
      "grid_template_rows": null,
      "height": null,
      "justify_content": null,
      "justify_items": null,
      "left": null,
      "margin": null,
      "max_height": null,
      "max_width": null,
      "min_height": null,
      "min_width": null,
      "object_fit": null,
      "object_position": null,
      "order": null,
      "overflow": null,
      "overflow_x": null,
      "overflow_y": null,
      "padding": null,
      "right": null,
      "top": null,
      "visibility": null,
      "width": null
     }
    },
    "a14ec6ddb8c14b5e859e2991b1d1e8fe": {
     "model_module": "@jupyter-widgets/controls",
     "model_module_version": "1.5.0",
     "model_name": "DescriptionStyleModel",
     "state": {
      "_model_module": "@jupyter-widgets/controls",
      "_model_module_version": "1.5.0",
      "_model_name": "DescriptionStyleModel",
      "_view_count": null,
      "_view_module": "@jupyter-widgets/base",
      "_view_module_version": "1.2.0",
      "_view_name": "StyleView",
      "description_width": ""
     }
    },
    "a17fbfae8c574c9e934999f2db498c5a": {
     "model_module": "@jupyter-widgets/controls",
     "model_module_version": "1.5.0",
     "model_name": "DescriptionStyleModel",
     "state": {
      "_model_module": "@jupyter-widgets/controls",
      "_model_module_version": "1.5.0",
      "_model_name": "DescriptionStyleModel",
      "_view_count": null,
      "_view_module": "@jupyter-widgets/base",
      "_view_module_version": "1.2.0",
      "_view_name": "StyleView",
      "description_width": ""
     }
    },
    "a32d1413ebc9449eaaee26e89a8eaa5d": {
     "model_module": "@jupyter-widgets/controls",
     "model_module_version": "1.5.0",
     "model_name": "HTMLModel",
     "state": {
      "_dom_classes": [],
      "_model_module": "@jupyter-widgets/controls",
      "_model_module_version": "1.5.0",
      "_model_name": "HTMLModel",
      "_view_count": null,
      "_view_module": "@jupyter-widgets/controls",
      "_view_module_version": "1.5.0",
      "_view_name": "HTMLView",
      "description": "",
      "description_tooltip": null,
      "layout": "IPY_MODEL_fab656d532284d639dd26e15b93a462b",
      "placeholder": "​",
      "style": "IPY_MODEL_f9eb586b1b2d49edb147eff277b38c30",
      "value": "Generating test split: 100%"
     }
    },
    "aed989bcb5ed4ab8bda0c188bd856972": {
     "model_module": "@jupyter-widgets/controls",
     "model_module_version": "1.5.0",
     "model_name": "HTMLModel",
     "state": {
      "_dom_classes": [],
      "_model_module": "@jupyter-widgets/controls",
      "_model_module_version": "1.5.0",
      "_model_name": "HTMLModel",
      "_view_count": null,
      "_view_module": "@jupyter-widgets/controls",
      "_view_module_version": "1.5.0",
      "_view_name": "HTMLView",
      "description": "",
      "description_tooltip": null,
      "layout": "IPY_MODEL_9027d98a59234284bda7a1c2103d64fa",
      "placeholder": "​",
      "style": "IPY_MODEL_33057177cbd94dd5a5e85a5f267501c2",
      "value": " 3/3 [00:00&lt;00:00, 55.84it/s]"
     }
    },
    "af27bc1e491647bf8db3954f447407f6": {
     "model_module": "@jupyter-widgets/controls",
     "model_module_version": "1.5.0",
     "model_name": "HTMLModel",
     "state": {
      "_dom_classes": [],
      "_model_module": "@jupyter-widgets/controls",
      "_model_module_version": "1.5.0",
      "_model_name": "HTMLModel",
      "_view_count": null,
      "_view_module": "@jupyter-widgets/controls",
      "_view_module_version": "1.5.0",
      "_view_name": "HTMLView",
      "description": "",
      "description_tooltip": null,
      "layout": "IPY_MODEL_8aa50e2a91ea454899eaeeb5850d95a0",
      "placeholder": "​",
      "style": "IPY_MODEL_ed7714091e934647b96e386bc32ab645",
      "value": " 3/3 [00:02&lt;00:00,  1.31it/s]"
     }
    },
    "af79e1e5045f469b8684784e21a32617": {
     "model_module": "@jupyter-widgets/base",
     "model_module_version": "1.2.0",
     "model_name": "LayoutModel",
     "state": {
      "_model_module": "@jupyter-widgets/base",
      "_model_module_version": "1.2.0",
      "_model_name": "LayoutModel",
      "_view_count": null,
      "_view_module": "@jupyter-widgets/base",
      "_view_module_version": "1.2.0",
      "_view_name": "LayoutView",
      "align_content": null,
      "align_items": null,
      "align_self": null,
      "border": null,
      "bottom": null,
      "display": null,
      "flex": null,
      "flex_flow": null,
      "grid_area": null,
      "grid_auto_columns": null,
      "grid_auto_flow": null,
      "grid_auto_rows": null,
      "grid_column": null,
      "grid_gap": null,
      "grid_row": null,
      "grid_template_areas": null,
      "grid_template_columns": null,
      "grid_template_rows": null,
      "height": null,
      "justify_content": null,
      "justify_items": null,
      "left": null,
      "margin": null,
      "max_height": null,
      "max_width": null,
      "min_height": null,
      "min_width": null,
      "object_fit": null,
      "object_position": null,
      "order": null,
      "overflow": null,
      "overflow_x": null,
      "overflow_y": null,
      "padding": null,
      "right": null,
      "top": null,
      "visibility": null,
      "width": null
     }
    },
    "b0d06a919a5d4556b29e39a6eb439438": {
     "model_module": "@jupyter-widgets/base",
     "model_module_version": "1.2.0",
     "model_name": "LayoutModel",
     "state": {
      "_model_module": "@jupyter-widgets/base",
      "_model_module_version": "1.2.0",
      "_model_name": "LayoutModel",
      "_view_count": null,
      "_view_module": "@jupyter-widgets/base",
      "_view_module_version": "1.2.0",
      "_view_name": "LayoutView",
      "align_content": null,
      "align_items": null,
      "align_self": null,
      "border": null,
      "bottom": null,
      "display": null,
      "flex": null,
      "flex_flow": null,
      "grid_area": null,
      "grid_auto_columns": null,
      "grid_auto_flow": null,
      "grid_auto_rows": null,
      "grid_column": null,
      "grid_gap": null,
      "grid_row": null,
      "grid_template_areas": null,
      "grid_template_columns": null,
      "grid_template_rows": null,
      "height": null,
      "justify_content": null,
      "justify_items": null,
      "left": null,
      "margin": null,
      "max_height": null,
      "max_width": null,
      "min_height": null,
      "min_width": null,
      "object_fit": null,
      "object_position": null,
      "order": null,
      "overflow": null,
      "overflow_x": null,
      "overflow_y": null,
      "padding": null,
      "right": null,
      "top": null,
      "visibility": null,
      "width": null
     }
    },
    "b2c7d3d7a8304b8e8f955c8617555064": {
     "model_module": "@jupyter-widgets/controls",
     "model_module_version": "1.5.0",
     "model_name": "ProgressStyleModel",
     "state": {
      "_model_module": "@jupyter-widgets/controls",
      "_model_module_version": "1.5.0",
      "_model_name": "ProgressStyleModel",
      "_view_count": null,
      "_view_module": "@jupyter-widgets/base",
      "_view_module_version": "1.2.0",
      "_view_name": "StyleView",
      "bar_color": null,
      "description_width": ""
     }
    },
    "b2e1357741aa4383bab5619cbfb01dfd": {
     "model_module": "@jupyter-widgets/controls",
     "model_module_version": "1.5.0",
     "model_name": "DescriptionStyleModel",
     "state": {
      "_model_module": "@jupyter-widgets/controls",
      "_model_module_version": "1.5.0",
      "_model_name": "DescriptionStyleModel",
      "_view_count": null,
      "_view_module": "@jupyter-widgets/base",
      "_view_module_version": "1.2.0",
      "_view_name": "StyleView",
      "description_width": ""
     }
    },
    "b38f66eb1978430c9b69b21612de7bb6": {
     "model_module": "@jupyter-widgets/controls",
     "model_module_version": "1.5.0",
     "model_name": "FloatProgressModel",
     "state": {
      "_dom_classes": [],
      "_model_module": "@jupyter-widgets/controls",
      "_model_module_version": "1.5.0",
      "_model_name": "FloatProgressModel",
      "_view_count": null,
      "_view_module": "@jupyter-widgets/controls",
      "_view_module_version": "1.5.0",
      "_view_name": "ProgressView",
      "bar_style": "success",
      "description": "",
      "description_tooltip": null,
      "layout": "IPY_MODEL_ebf0b1e44fce4302821faac6bf00d6b2",
      "max": 3968,
      "min": 0,
      "orientation": "horizontal",
      "style": "IPY_MODEL_b545f114c5684075bf7a4fd3a61b687a",
      "value": 3968
     }
    },
    "b545f114c5684075bf7a4fd3a61b687a": {
     "model_module": "@jupyter-widgets/controls",
     "model_module_version": "1.5.0",
     "model_name": "ProgressStyleModel",
     "state": {
      "_model_module": "@jupyter-widgets/controls",
      "_model_module_version": "1.5.0",
      "_model_name": "ProgressStyleModel",
      "_view_count": null,
      "_view_module": "@jupyter-widgets/base",
      "_view_module_version": "1.2.0",
      "_view_name": "StyleView",
      "bar_color": null,
      "description_width": ""
     }
    },
    "b7d86dc05f5d431c88c8463fc8f4c84c": {
     "model_module": "@jupyter-widgets/base",
     "model_module_version": "1.2.0",
     "model_name": "LayoutModel",
     "state": {
      "_model_module": "@jupyter-widgets/base",
      "_model_module_version": "1.2.0",
      "_model_name": "LayoutModel",
      "_view_count": null,
      "_view_module": "@jupyter-widgets/base",
      "_view_module_version": "1.2.0",
      "_view_name": "LayoutView",
      "align_content": null,
      "align_items": null,
      "align_self": null,
      "border": null,
      "bottom": null,
      "display": null,
      "flex": null,
      "flex_flow": null,
      "grid_area": null,
      "grid_auto_columns": null,
      "grid_auto_flow": null,
      "grid_auto_rows": null,
      "grid_column": null,
      "grid_gap": null,
      "grid_row": null,
      "grid_template_areas": null,
      "grid_template_columns": null,
      "grid_template_rows": null,
      "height": null,
      "justify_content": null,
      "justify_items": null,
      "left": null,
      "margin": null,
      "max_height": null,
      "max_width": null,
      "min_height": null,
      "min_width": null,
      "object_fit": null,
      "object_position": null,
      "order": null,
      "overflow": null,
      "overflow_x": null,
      "overflow_y": null,
      "padding": null,
      "right": null,
      "top": null,
      "visibility": null,
      "width": null
     }
    },
    "ba8bd223bca74eb6a4e90c65a021cca5": {
     "model_module": "@jupyter-widgets/controls",
     "model_module_version": "1.5.0",
     "model_name": "FloatProgressModel",
     "state": {
      "_dom_classes": [],
      "_model_module": "@jupyter-widgets/controls",
      "_model_module_version": "1.5.0",
      "_model_name": "FloatProgressModel",
      "_view_count": null,
      "_view_module": "@jupyter-widgets/controls",
      "_view_module_version": "1.5.0",
      "_view_name": "ProgressView",
      "bar_style": "success",
      "description": "",
      "description_tooltip": null,
      "layout": "IPY_MODEL_f734dde1f53a48ecb6b345bce1f77008",
      "max": 8780,
      "min": 0,
      "orientation": "horizontal",
      "style": "IPY_MODEL_94018f593c1142a1ae123240def73b6b",
      "value": 8780
     }
    },
    "bb03a799978141969157d9dd2958a781": {
     "model_module": "@jupyter-widgets/controls",
     "model_module_version": "1.5.0",
     "model_name": "HBoxModel",
     "state": {
      "_dom_classes": [],
      "_model_module": "@jupyter-widgets/controls",
      "_model_module_version": "1.5.0",
      "_model_name": "HBoxModel",
      "_view_count": null,
      "_view_module": "@jupyter-widgets/controls",
      "_view_module_version": "1.5.0",
      "_view_name": "HBoxView",
      "box_style": "",
      "children": [
       "IPY_MODEL_785f0ff65e794e729ea914e827bb4a15",
       "IPY_MODEL_daf9d3c320db46cebb8e0e1e6ac22ab9",
       "IPY_MODEL_447abd6d4c8742848474ed3c3dfffd8d"
      ],
      "layout": "IPY_MODEL_5669d3bc79bc407ea153dcab102e585f"
     }
    },
    "bc0385c1acd745e8b128a5027f1b402c": {
     "model_module": "@jupyter-widgets/controls",
     "model_module_version": "1.5.0",
     "model_name": "DescriptionStyleModel",
     "state": {
      "_model_module": "@jupyter-widgets/controls",
      "_model_module_version": "1.5.0",
      "_model_name": "DescriptionStyleModel",
      "_view_count": null,
      "_view_module": "@jupyter-widgets/base",
      "_view_module_version": "1.2.0",
      "_view_name": "StyleView",
      "description_width": ""
     }
    },
    "be118f57e6bd493881f40104ce700b7c": {
     "model_module": "@jupyter-widgets/base",
     "model_module_version": "1.2.0",
     "model_name": "LayoutModel",
     "state": {
      "_model_module": "@jupyter-widgets/base",
      "_model_module_version": "1.2.0",
      "_model_name": "LayoutModel",
      "_view_count": null,
      "_view_module": "@jupyter-widgets/base",
      "_view_module_version": "1.2.0",
      "_view_name": "LayoutView",
      "align_content": null,
      "align_items": null,
      "align_self": null,
      "border": null,
      "bottom": null,
      "display": null,
      "flex": null,
      "flex_flow": null,
      "grid_area": null,
      "grid_auto_columns": null,
      "grid_auto_flow": null,
      "grid_auto_rows": null,
      "grid_column": null,
      "grid_gap": null,
      "grid_row": null,
      "grid_template_areas": null,
      "grid_template_columns": null,
      "grid_template_rows": null,
      "height": null,
      "justify_content": null,
      "justify_items": null,
      "left": null,
      "margin": null,
      "max_height": null,
      "max_width": null,
      "min_height": null,
      "min_width": null,
      "object_fit": null,
      "object_position": null,
      "order": null,
      "overflow": null,
      "overflow_x": null,
      "overflow_y": null,
      "padding": null,
      "right": null,
      "top": null,
      "visibility": null,
      "width": null
     }
    },
    "bfd4140925ff46fb914b65e2278f3bc1": {
     "model_module": "@jupyter-widgets/controls",
     "model_module_version": "1.5.0",
     "model_name": "DescriptionStyleModel",
     "state": {
      "_model_module": "@jupyter-widgets/controls",
      "_model_module_version": "1.5.0",
      "_model_name": "DescriptionStyleModel",
      "_view_count": null,
      "_view_module": "@jupyter-widgets/base",
      "_view_module_version": "1.2.0",
      "_view_name": "StyleView",
      "description_width": ""
     }
    },
    "c23d0f5e4af645fcbb315c1fb8f4cdef": {
     "model_module": "@jupyter-widgets/controls",
     "model_module_version": "1.5.0",
     "model_name": "HTMLModel",
     "state": {
      "_dom_classes": [],
      "_model_module": "@jupyter-widgets/controls",
      "_model_module_version": "1.5.0",
      "_model_name": "HTMLModel",
      "_view_count": null,
      "_view_module": "@jupyter-widgets/controls",
      "_view_module_version": "1.5.0",
      "_view_name": "HTMLView",
      "description": "",
      "description_tooltip": null,
      "layout": "IPY_MODEL_3000718c1e6c496b87fcaad058d9f435",
      "placeholder": "​",
      "style": "IPY_MODEL_66f2df5bdd484f84ac56adb0a34045a4",
      "value": " 3.28k/3.28k [00:00&lt;00:00, 183kB/s]"
     }
    },
    "c3936f7fe91a46c59b78cfde0a568b52": {
     "model_module": "@jupyter-widgets/controls",
     "model_module_version": "1.5.0",
     "model_name": "HTMLModel",
     "state": {
      "_dom_classes": [],
      "_model_module": "@jupyter-widgets/controls",
      "_model_module_version": "1.5.0",
      "_model_name": "HTMLModel",
      "_view_count": null,
      "_view_module": "@jupyter-widgets/controls",
      "_view_module_version": "1.5.0",
      "_view_name": "HTMLView",
      "description": "",
      "description_tooltip": null,
      "layout": "IPY_MODEL_ce420e36b7d940568848e44580942b64",
      "placeholder": "​",
      "style": "IPY_MODEL_31935600768b466bbc0075d375982cbe",
      "value": " 2000/2000 [00:00&lt;00:00, 19384.15 examples/s]"
     }
    },
    "c728609bb54e461a9cacb4f5f573da61": {
     "model_module": "@jupyter-widgets/base",
     "model_module_version": "1.2.0",
     "model_name": "LayoutModel",
     "state": {
      "_model_module": "@jupyter-widgets/base",
      "_model_module_version": "1.2.0",
      "_model_name": "LayoutModel",
      "_view_count": null,
      "_view_module": "@jupyter-widgets/base",
      "_view_module_version": "1.2.0",
      "_view_name": "LayoutView",
      "align_content": null,
      "align_items": null,
      "align_self": null,
      "border": null,
      "bottom": null,
      "display": null,
      "flex": null,
      "flex_flow": null,
      "grid_area": null,
      "grid_auto_columns": null,
      "grid_auto_flow": null,
      "grid_auto_rows": null,
      "grid_column": null,
      "grid_gap": null,
      "grid_row": null,
      "grid_template_areas": null,
      "grid_template_columns": null,
      "grid_template_rows": null,
      "height": null,
      "justify_content": null,
      "justify_items": null,
      "left": null,
      "margin": null,
      "max_height": null,
      "max_width": null,
      "min_height": null,
      "min_width": null,
      "object_fit": null,
      "object_position": null,
      "order": null,
      "overflow": null,
      "overflow_x": null,
      "overflow_y": null,
      "padding": null,
      "right": null,
      "top": null,
      "visibility": null,
      "width": null
     }
    },
    "cae19bce2a2a478a844dd04f8a9c6543": {
     "model_module": "@jupyter-widgets/controls",
     "model_module_version": "1.5.0",
     "model_name": "HBoxModel",
     "state": {
      "_dom_classes": [],
      "_model_module": "@jupyter-widgets/controls",
      "_model_module_version": "1.5.0",
      "_model_name": "HBoxModel",
      "_view_count": null,
      "_view_module": "@jupyter-widgets/controls",
      "_view_module_version": "1.5.0",
      "_view_name": "HBoxView",
      "box_style": "",
      "children": [
       "IPY_MODEL_352ba20828584319ad07d83e625a8142",
       "IPY_MODEL_144c459785f641e4bce438b8f29fe1a7",
       "IPY_MODEL_ec2bda06175f4055a3b16e12a6f22a62"
      ],
      "layout": "IPY_MODEL_8f2793cd5f6c4a7292718183f0883681"
     }
    },
    "cdcb59a941454152a70cc7bdefca3c4d": {
     "model_module": "@jupyter-widgets/base",
     "model_module_version": "1.2.0",
     "model_name": "LayoutModel",
     "state": {
      "_model_module": "@jupyter-widgets/base",
      "_model_module_version": "1.2.0",
      "_model_name": "LayoutModel",
      "_view_count": null,
      "_view_module": "@jupyter-widgets/base",
      "_view_module_version": "1.2.0",
      "_view_name": "LayoutView",
      "align_content": null,
      "align_items": null,
      "align_self": null,
      "border": null,
      "bottom": null,
      "display": null,
      "flex": null,
      "flex_flow": null,
      "grid_area": null,
      "grid_auto_columns": null,
      "grid_auto_flow": null,
      "grid_auto_rows": null,
      "grid_column": null,
      "grid_gap": null,
      "grid_row": null,
      "grid_template_areas": null,
      "grid_template_columns": null,
      "grid_template_rows": null,
      "height": null,
      "justify_content": null,
      "justify_items": null,
      "left": null,
      "margin": null,
      "max_height": null,
      "max_width": null,
      "min_height": null,
      "min_width": null,
      "object_fit": null,
      "object_position": null,
      "order": null,
      "overflow": null,
      "overflow_x": null,
      "overflow_y": null,
      "padding": null,
      "right": null,
      "top": null,
      "visibility": null,
      "width": null
     }
    },
    "ce420e36b7d940568848e44580942b64": {
     "model_module": "@jupyter-widgets/base",
     "model_module_version": "1.2.0",
     "model_name": "LayoutModel",
     "state": {
      "_model_module": "@jupyter-widgets/base",
      "_model_module_version": "1.2.0",
      "_model_name": "LayoutModel",
      "_view_count": null,
      "_view_module": "@jupyter-widgets/base",
      "_view_module_version": "1.2.0",
      "_view_name": "LayoutView",
      "align_content": null,
      "align_items": null,
      "align_self": null,
      "border": null,
      "bottom": null,
      "display": null,
      "flex": null,
      "flex_flow": null,
      "grid_area": null,
      "grid_auto_columns": null,
      "grid_auto_flow": null,
      "grid_auto_rows": null,
      "grid_column": null,
      "grid_gap": null,
      "grid_row": null,
      "grid_template_areas": null,
      "grid_template_columns": null,
      "grid_template_rows": null,
      "height": null,
      "justify_content": null,
      "justify_items": null,
      "left": null,
      "margin": null,
      "max_height": null,
      "max_width": null,
      "min_height": null,
      "min_width": null,
      "object_fit": null,
      "object_position": null,
      "order": null,
      "overflow": null,
      "overflow_x": null,
      "overflow_y": null,
      "padding": null,
      "right": null,
      "top": null,
      "visibility": null,
      "width": null
     }
    },
    "d3d3ca5032bb42049eaeb93635035a85": {
     "model_module": "@jupyter-widgets/controls",
     "model_module_version": "1.5.0",
     "model_name": "HTMLModel",
     "state": {
      "_dom_classes": [],
      "_model_module": "@jupyter-widgets/controls",
      "_model_module_version": "1.5.0",
      "_model_name": "HTMLModel",
      "_view_count": null,
      "_view_module": "@jupyter-widgets/controls",
      "_view_module_version": "1.5.0",
      "_view_name": "HTMLView",
      "description": "",
      "description_tooltip": null,
      "layout": "IPY_MODEL_f6c5553a45f4473a98c37d1695240246",
      "placeholder": "​",
      "style": "IPY_MODEL_69a40dff6bd24720a051c03ce593d885",
      "value": "Downloading data: 100%"
     }
    },
    "d5de20d055974984a784c68df2fbe54d": {
     "model_module": "@jupyter-widgets/base",
     "model_module_version": "1.2.0",
     "model_name": "LayoutModel",
     "state": {
      "_model_module": "@jupyter-widgets/base",
      "_model_module_version": "1.2.0",
      "_model_name": "LayoutModel",
      "_view_count": null,
      "_view_module": "@jupyter-widgets/base",
      "_view_module_version": "1.2.0",
      "_view_name": "LayoutView",
      "align_content": null,
      "align_items": null,
      "align_self": null,
      "border": null,
      "bottom": null,
      "display": null,
      "flex": null,
      "flex_flow": null,
      "grid_area": null,
      "grid_auto_columns": null,
      "grid_auto_flow": null,
      "grid_auto_rows": null,
      "grid_column": null,
      "grid_gap": null,
      "grid_row": null,
      "grid_template_areas": null,
      "grid_template_columns": null,
      "grid_template_rows": null,
      "height": null,
      "justify_content": null,
      "justify_items": null,
      "left": null,
      "margin": null,
      "max_height": null,
      "max_width": null,
      "min_height": null,
      "min_width": null,
      "object_fit": null,
      "object_position": null,
      "order": null,
      "overflow": null,
      "overflow_x": null,
      "overflow_y": null,
      "padding": null,
      "right": null,
      "top": null,
      "visibility": null,
      "width": null
     }
    },
    "da25b74745b24e8496ada19f8d756c50": {
     "model_module": "@jupyter-widgets/controls",
     "model_module_version": "1.5.0",
     "model_name": "HTMLModel",
     "state": {
      "_dom_classes": [],
      "_model_module": "@jupyter-widgets/controls",
      "_model_module_version": "1.5.0",
      "_model_name": "HTMLModel",
      "_view_count": null,
      "_view_module": "@jupyter-widgets/controls",
      "_view_module_version": "1.5.0",
      "_view_name": "HTMLView",
      "description": "",
      "description_tooltip": null,
      "layout": "IPY_MODEL_d5de20d055974984a784c68df2fbe54d",
      "placeholder": "​",
      "style": "IPY_MODEL_6905f883d1774b62a1c7029329d6c1b2",
      "value": " 2000/2000 [00:00&lt;00:00, 21515.93 examples/s]"
     }
    },
    "daf9d3c320db46cebb8e0e1e6ac22ab9": {
     "model_module": "@jupyter-widgets/controls",
     "model_module_version": "1.5.0",
     "model_name": "FloatProgressModel",
     "state": {
      "_dom_classes": [],
      "_model_module": "@jupyter-widgets/controls",
      "_model_module_version": "1.5.0",
      "_model_name": "FloatProgressModel",
      "_view_count": null,
      "_view_module": "@jupyter-widgets/controls",
      "_view_module_version": "1.5.0",
      "_view_name": "ProgressView",
      "bar_style": "success",
      "description": "",
      "description_tooltip": null,
      "layout": "IPY_MODEL_79d4b7ac447d435f965d416b872f324f",
      "max": 74018,
      "min": 0,
      "orientation": "horizontal",
      "style": "IPY_MODEL_fd706ab014a54621b9f6c44d3be2d281",
      "value": 74018
     }
    },
    "dbfaecb922ff4226b816a13fbcdac968": {
     "model_module": "@jupyter-widgets/controls",
     "model_module_version": "1.5.0",
     "model_name": "FloatProgressModel",
     "state": {
      "_dom_classes": [],
      "_model_module": "@jupyter-widgets/controls",
      "_model_module_version": "1.5.0",
      "_model_name": "FloatProgressModel",
      "_view_count": null,
      "_view_module": "@jupyter-widgets/controls",
      "_view_module_version": "1.5.0",
      "_view_name": "ProgressView",
      "bar_style": "success",
      "description": "",
      "description_tooltip": null,
      "layout": "IPY_MODEL_b7d86dc05f5d431c88c8463fc8f4c84c",
      "max": 591930,
      "min": 0,
      "orientation": "horizontal",
      "style": "IPY_MODEL_901a5341fed3494db9628332e3221ac3",
      "value": 591930
     }
    },
    "dc4036b13a7f4fa398f267d6374a50b2": {
     "model_module": "@jupyter-widgets/controls",
     "model_module_version": "1.5.0",
     "model_name": "HTMLModel",
     "state": {
      "_dom_classes": [],
      "_model_module": "@jupyter-widgets/controls",
      "_model_module_version": "1.5.0",
      "_model_name": "HTMLModel",
      "_view_count": null,
      "_view_module": "@jupyter-widgets/controls",
      "_view_module_version": "1.5.0",
      "_view_name": "HTMLView",
      "description": "",
      "description_tooltip": null,
      "layout": "IPY_MODEL_ea3780a3397340318d39f0e678d67aa8",
      "placeholder": "​",
      "style": "IPY_MODEL_f195394a28b04b86ad7ca701a8a60053",
      "value": " 592k/592k [00:00&lt;00:00, 12.5MB/s]"
     }
    },
    "dec8332589d6410c94619545223b9726": {
     "model_module": "@jupyter-widgets/base",
     "model_module_version": "1.2.0",
     "model_name": "LayoutModel",
     "state": {
      "_model_module": "@jupyter-widgets/base",
      "_model_module_version": "1.2.0",
      "_model_name": "LayoutModel",
      "_view_count": null,
      "_view_module": "@jupyter-widgets/base",
      "_view_module_version": "1.2.0",
      "_view_name": "LayoutView",
      "align_content": null,
      "align_items": null,
      "align_self": null,
      "border": null,
      "bottom": null,
      "display": null,
      "flex": null,
      "flex_flow": null,
      "grid_area": null,
      "grid_auto_columns": null,
      "grid_auto_flow": null,
      "grid_auto_rows": null,
      "grid_column": null,
      "grid_gap": null,
      "grid_row": null,
      "grid_template_areas": null,
      "grid_template_columns": null,
      "grid_template_rows": null,
      "height": null,
      "justify_content": null,
      "justify_items": null,
      "left": null,
      "margin": null,
      "max_height": null,
      "max_width": null,
      "min_height": null,
      "min_width": null,
      "object_fit": null,
      "object_position": null,
      "order": null,
      "overflow": null,
      "overflow_x": null,
      "overflow_y": null,
      "padding": null,
      "right": null,
      "top": null,
      "visibility": null,
      "width": null
     }
    },
    "e05f84dfe5464bd7918ab7f03dc47264": {
     "model_module": "@jupyter-widgets/controls",
     "model_module_version": "1.5.0",
     "model_name": "HTMLModel",
     "state": {
      "_dom_classes": [],
      "_model_module": "@jupyter-widgets/controls",
      "_model_module_version": "1.5.0",
      "_model_name": "HTMLModel",
      "_view_count": null,
      "_view_module": "@jupyter-widgets/controls",
      "_view_module_version": "1.5.0",
      "_view_name": "HTMLView",
      "description": "",
      "description_tooltip": null,
      "layout": "IPY_MODEL_be118f57e6bd493881f40104ce700b7c",
      "placeholder": "​",
      "style": "IPY_MODEL_50fa49ed210f434ab383f5a22660c8c0",
      "value": "Downloading readme: 100%"
     }
    },
    "e0b26929afbd47c28d102001054c938d": {
     "model_module": "@jupyter-widgets/controls",
     "model_module_version": "1.5.0",
     "model_name": "HBoxModel",
     "state": {
      "_dom_classes": [],
      "_model_module": "@jupyter-widgets/controls",
      "_model_module_version": "1.5.0",
      "_model_name": "HBoxModel",
      "_view_count": null,
      "_view_module": "@jupyter-widgets/controls",
      "_view_module_version": "1.5.0",
      "_view_name": "HBoxView",
      "box_style": "",
      "children": [
       "IPY_MODEL_e97b526eb4de4816981d9a9feace8b8a",
       "IPY_MODEL_dbfaecb922ff4226b816a13fbcdac968",
       "IPY_MODEL_dc4036b13a7f4fa398f267d6374a50b2"
      ],
      "layout": "IPY_MODEL_f618136065544b6aaa5bfa4087a64f51"
     }
    },
    "e1233339e1f2435198764838636d10e5": {
     "model_module": "@jupyter-widgets/controls",
     "model_module_version": "1.5.0",
     "model_name": "DescriptionStyleModel",
     "state": {
      "_model_module": "@jupyter-widgets/controls",
      "_model_module_version": "1.5.0",
      "_model_name": "DescriptionStyleModel",
      "_view_count": null,
      "_view_module": "@jupyter-widgets/base",
      "_view_module_version": "1.2.0",
      "_view_name": "StyleView",
      "description_width": ""
     }
    },
    "e57effe7fe7e4f2e880f5259b0ca0d07": {
     "model_module": "@jupyter-widgets/base",
     "model_module_version": "1.2.0",
     "model_name": "LayoutModel",
     "state": {
      "_model_module": "@jupyter-widgets/base",
      "_model_module_version": "1.2.0",
      "_model_name": "LayoutModel",
      "_view_count": null,
      "_view_module": "@jupyter-widgets/base",
      "_view_module_version": "1.2.0",
      "_view_name": "LayoutView",
      "align_content": null,
      "align_items": null,
      "align_self": null,
      "border": null,
      "bottom": null,
      "display": null,
      "flex": null,
      "flex_flow": null,
      "grid_area": null,
      "grid_auto_columns": null,
      "grid_auto_flow": null,
      "grid_auto_rows": null,
      "grid_column": null,
      "grid_gap": null,
      "grid_row": null,
      "grid_template_areas": null,
      "grid_template_columns": null,
      "grid_template_rows": null,
      "height": null,
      "justify_content": null,
      "justify_items": null,
      "left": null,
      "margin": null,
      "max_height": null,
      "max_width": null,
      "min_height": null,
      "min_width": null,
      "object_fit": null,
      "object_position": null,
      "order": null,
      "overflow": null,
      "overflow_x": null,
      "overflow_y": null,
      "padding": null,
      "right": null,
      "top": null,
      "visibility": null,
      "width": null
     }
    },
    "e5e16bed325c489f89fb62c05365be14": {
     "model_module": "@jupyter-widgets/controls",
     "model_module_version": "1.5.0",
     "model_name": "HBoxModel",
     "state": {
      "_dom_classes": [],
      "_model_module": "@jupyter-widgets/controls",
      "_model_module_version": "1.5.0",
      "_model_name": "HBoxModel",
      "_view_count": null,
      "_view_module": "@jupyter-widgets/controls",
      "_view_module_version": "1.5.0",
      "_view_name": "HBoxView",
      "box_style": "",
      "children": [
       "IPY_MODEL_7114c28deedf48e6804f3d3217e1f776",
       "IPY_MODEL_3bc13db8d8f0436e872ecc11a5c47fe5",
       "IPY_MODEL_c3936f7fe91a46c59b78cfde0a568b52"
      ],
      "layout": "IPY_MODEL_391c186edce1430db9b619d9cb783562"
     }
    },
    "e688e1594b454e86a7dedf736ff6c18d": {
     "model_module": "@jupyter-widgets/controls",
     "model_module_version": "1.5.0",
     "model_name": "FloatProgressModel",
     "state": {
      "_dom_classes": [],
      "_model_module": "@jupyter-widgets/controls",
      "_model_module_version": "1.5.0",
      "_model_name": "FloatProgressModel",
      "_view_count": null,
      "_view_module": "@jupyter-widgets/controls",
      "_view_module_version": "1.5.0",
      "_view_name": "ProgressView",
      "bar_style": "success",
      "description": "",
      "description_tooltip": null,
      "layout": "IPY_MODEL_2bfe13e4c4464557b76fd51da52fe07f",
      "max": 2000,
      "min": 0,
      "orientation": "horizontal",
      "style": "IPY_MODEL_b2c7d3d7a8304b8e8f955c8617555064",
      "value": 2000
     }
    },
    "e97b526eb4de4816981d9a9feace8b8a": {
     "model_module": "@jupyter-widgets/controls",
     "model_module_version": "1.5.0",
     "model_name": "HTMLModel",
     "state": {
      "_dom_classes": [],
      "_model_module": "@jupyter-widgets/controls",
      "_model_module_version": "1.5.0",
      "_model_name": "HTMLModel",
      "_view_count": null,
      "_view_module": "@jupyter-widgets/controls",
      "_view_module_version": "1.5.0",
      "_view_name": "HTMLView",
      "description": "",
      "description_tooltip": null,
      "layout": "IPY_MODEL_00e4f1d654684bd38ab22316dccbb2b5",
      "placeholder": "​",
      "style": "IPY_MODEL_bfd4140925ff46fb914b65e2278f3bc1",
      "value": "Downloading data: 100%"
     }
    },
    "e9de0cf250d74115ad8edf9e8d8af9d6": {
     "model_module": "@jupyter-widgets/base",
     "model_module_version": "1.2.0",
     "model_name": "LayoutModel",
     "state": {
      "_model_module": "@jupyter-widgets/base",
      "_model_module_version": "1.2.0",
      "_model_name": "LayoutModel",
      "_view_count": null,
      "_view_module": "@jupyter-widgets/base",
      "_view_module_version": "1.2.0",
      "_view_name": "LayoutView",
      "align_content": null,
      "align_items": null,
      "align_self": null,
      "border": null,
      "bottom": null,
      "display": null,
      "flex": null,
      "flex_flow": null,
      "grid_area": null,
      "grid_auto_columns": null,
      "grid_auto_flow": null,
      "grid_auto_rows": null,
      "grid_column": null,
      "grid_gap": null,
      "grid_row": null,
      "grid_template_areas": null,
      "grid_template_columns": null,
      "grid_template_rows": null,
      "height": null,
      "justify_content": null,
      "justify_items": null,
      "left": null,
      "margin": null,
      "max_height": null,
      "max_width": null,
      "min_height": null,
      "min_width": null,
      "object_fit": null,
      "object_position": null,
      "order": null,
      "overflow": null,
      "overflow_x": null,
      "overflow_y": null,
      "padding": null,
      "right": null,
      "top": null,
      "visibility": null,
      "width": null
     }
    },
    "ea3780a3397340318d39f0e678d67aa8": {
     "model_module": "@jupyter-widgets/base",
     "model_module_version": "1.2.0",
     "model_name": "LayoutModel",
     "state": {
      "_model_module": "@jupyter-widgets/base",
      "_model_module_version": "1.2.0",
      "_model_name": "LayoutModel",
      "_view_count": null,
      "_view_module": "@jupyter-widgets/base",
      "_view_module_version": "1.2.0",
      "_view_name": "LayoutView",
      "align_content": null,
      "align_items": null,
      "align_self": null,
      "border": null,
      "bottom": null,
      "display": null,
      "flex": null,
      "flex_flow": null,
      "grid_area": null,
      "grid_auto_columns": null,
      "grid_auto_flow": null,
      "grid_auto_rows": null,
      "grid_column": null,
      "grid_gap": null,
      "grid_row": null,
      "grid_template_areas": null,
      "grid_template_columns": null,
      "grid_template_rows": null,
      "height": null,
      "justify_content": null,
      "justify_items": null,
      "left": null,
      "margin": null,
      "max_height": null,
      "max_width": null,
      "min_height": null,
      "min_width": null,
      "object_fit": null,
      "object_position": null,
      "order": null,
      "overflow": null,
      "overflow_x": null,
      "overflow_y": null,
      "padding": null,
      "right": null,
      "top": null,
      "visibility": null,
      "width": null
     }
    },
    "ebf0b1e44fce4302821faac6bf00d6b2": {
     "model_module": "@jupyter-widgets/base",
     "model_module_version": "1.2.0",
     "model_name": "LayoutModel",
     "state": {
      "_model_module": "@jupyter-widgets/base",
      "_model_module_version": "1.2.0",
      "_model_name": "LayoutModel",
      "_view_count": null,
      "_view_module": "@jupyter-widgets/base",
      "_view_module_version": "1.2.0",
      "_view_name": "LayoutView",
      "align_content": null,
      "align_items": null,
      "align_self": null,
      "border": null,
      "bottom": null,
      "display": null,
      "flex": null,
      "flex_flow": null,
      "grid_area": null,
      "grid_auto_columns": null,
      "grid_auto_flow": null,
      "grid_auto_rows": null,
      "grid_column": null,
      "grid_gap": null,
      "grid_row": null,
      "grid_template_areas": null,
      "grid_template_columns": null,
      "grid_template_rows": null,
      "height": null,
      "justify_content": null,
      "justify_items": null,
      "left": null,
      "margin": null,
      "max_height": null,
      "max_width": null,
      "min_height": null,
      "min_width": null,
      "object_fit": null,
      "object_position": null,
      "order": null,
      "overflow": null,
      "overflow_x": null,
      "overflow_y": null,
      "padding": null,
      "right": null,
      "top": null,
      "visibility": null,
      "width": null
     }
    },
    "ec2bda06175f4055a3b16e12a6f22a62": {
     "model_module": "@jupyter-widgets/controls",
     "model_module_version": "1.5.0",
     "model_name": "HTMLModel",
     "state": {
      "_dom_classes": [],
      "_model_module": "@jupyter-widgets/controls",
      "_model_module_version": "1.5.0",
      "_model_name": "HTMLModel",
      "_view_count": null,
      "_view_module": "@jupyter-widgets/controls",
      "_view_module_version": "1.5.0",
      "_view_name": "HTMLView",
      "description": "",
      "description_tooltip": null,
      "layout": "IPY_MODEL_b0d06a919a5d4556b29e39a6eb439438",
      "placeholder": "​",
      "style": "IPY_MODEL_a17fbfae8c574c9e934999f2db498c5a",
      "value": " 16000/16000 [00:00&lt;00:00, 31834.68 examples/s]"
     }
    },
    "ed7714091e934647b96e386bc32ab645": {
     "model_module": "@jupyter-widgets/controls",
     "model_module_version": "1.5.0",
     "model_name": "DescriptionStyleModel",
     "state": {
      "_model_module": "@jupyter-widgets/controls",
      "_model_module_version": "1.5.0",
      "_model_name": "DescriptionStyleModel",
      "_view_count": null,
      "_view_module": "@jupyter-widgets/base",
      "_view_module_version": "1.2.0",
      "_view_name": "StyleView",
      "description_width": ""
     }
    },
    "ef8b9ce2c8a94d89b10dccb889a390bb": {
     "model_module": "@jupyter-widgets/controls",
     "model_module_version": "1.5.0",
     "model_name": "DescriptionStyleModel",
     "state": {
      "_model_module": "@jupyter-widgets/controls",
      "_model_module_version": "1.5.0",
      "_model_name": "DescriptionStyleModel",
      "_view_count": null,
      "_view_module": "@jupyter-widgets/base",
      "_view_module_version": "1.2.0",
      "_view_name": "StyleView",
      "description_width": ""
     }
    },
    "f195394a28b04b86ad7ca701a8a60053": {
     "model_module": "@jupyter-widgets/controls",
     "model_module_version": "1.5.0",
     "model_name": "DescriptionStyleModel",
     "state": {
      "_model_module": "@jupyter-widgets/controls",
      "_model_module_version": "1.5.0",
      "_model_name": "DescriptionStyleModel",
      "_view_count": null,
      "_view_module": "@jupyter-widgets/base",
      "_view_module_version": "1.2.0",
      "_view_name": "StyleView",
      "description_width": ""
     }
    },
    "f4b77d3c66c54cdb9ddf728ee5fcf9c2": {
     "model_module": "@jupyter-widgets/controls",
     "model_module_version": "1.5.0",
     "model_name": "DescriptionStyleModel",
     "state": {
      "_model_module": "@jupyter-widgets/controls",
      "_model_module_version": "1.5.0",
      "_model_name": "DescriptionStyleModel",
      "_view_count": null,
      "_view_module": "@jupyter-widgets/base",
      "_view_module_version": "1.2.0",
      "_view_name": "StyleView",
      "description_width": ""
     }
    },
    "f618136065544b6aaa5bfa4087a64f51": {
     "model_module": "@jupyter-widgets/base",
     "model_module_version": "1.2.0",
     "model_name": "LayoutModel",
     "state": {
      "_model_module": "@jupyter-widgets/base",
      "_model_module_version": "1.2.0",
      "_model_name": "LayoutModel",
      "_view_count": null,
      "_view_module": "@jupyter-widgets/base",
      "_view_module_version": "1.2.0",
      "_view_name": "LayoutView",
      "align_content": null,
      "align_items": null,
      "align_self": null,
      "border": null,
      "bottom": null,
      "display": null,
      "flex": null,
      "flex_flow": null,
      "grid_area": null,
      "grid_auto_columns": null,
      "grid_auto_flow": null,
      "grid_auto_rows": null,
      "grid_column": null,
      "grid_gap": null,
      "grid_row": null,
      "grid_template_areas": null,
      "grid_template_columns": null,
      "grid_template_rows": null,
      "height": null,
      "justify_content": null,
      "justify_items": null,
      "left": null,
      "margin": null,
      "max_height": null,
      "max_width": null,
      "min_height": null,
      "min_width": null,
      "object_fit": null,
      "object_position": null,
      "order": null,
      "overflow": null,
      "overflow_x": null,
      "overflow_y": null,
      "padding": null,
      "right": null,
      "top": null,
      "visibility": null,
      "width": null
     }
    },
    "f6c5553a45f4473a98c37d1695240246": {
     "model_module": "@jupyter-widgets/base",
     "model_module_version": "1.2.0",
     "model_name": "LayoutModel",
     "state": {
      "_model_module": "@jupyter-widgets/base",
      "_model_module_version": "1.2.0",
      "_model_name": "LayoutModel",
      "_view_count": null,
      "_view_module": "@jupyter-widgets/base",
      "_view_module_version": "1.2.0",
      "_view_name": "LayoutView",
      "align_content": null,
      "align_items": null,
      "align_self": null,
      "border": null,
      "bottom": null,
      "display": null,
      "flex": null,
      "flex_flow": null,
      "grid_area": null,
      "grid_auto_columns": null,
      "grid_auto_flow": null,
      "grid_auto_rows": null,
      "grid_column": null,
      "grid_gap": null,
      "grid_row": null,
      "grid_template_areas": null,
      "grid_template_columns": null,
      "grid_template_rows": null,
      "height": null,
      "justify_content": null,
      "justify_items": null,
      "left": null,
      "margin": null,
      "max_height": null,
      "max_width": null,
      "min_height": null,
      "min_width": null,
      "object_fit": null,
      "object_position": null,
      "order": null,
      "overflow": null,
      "overflow_x": null,
      "overflow_y": null,
      "padding": null,
      "right": null,
      "top": null,
      "visibility": null,
      "width": null
     }
    },
    "f734dde1f53a48ecb6b345bce1f77008": {
     "model_module": "@jupyter-widgets/base",
     "model_module_version": "1.2.0",
     "model_name": "LayoutModel",
     "state": {
      "_model_module": "@jupyter-widgets/base",
      "_model_module_version": "1.2.0",
      "_model_name": "LayoutModel",
      "_view_count": null,
      "_view_module": "@jupyter-widgets/base",
      "_view_module_version": "1.2.0",
      "_view_name": "LayoutView",
      "align_content": null,
      "align_items": null,
      "align_self": null,
      "border": null,
      "bottom": null,
      "display": null,
      "flex": null,
      "flex_flow": null,
      "grid_area": null,
      "grid_auto_columns": null,
      "grid_auto_flow": null,
      "grid_auto_rows": null,
      "grid_column": null,
      "grid_gap": null,
      "grid_row": null,
      "grid_template_areas": null,
      "grid_template_columns": null,
      "grid_template_rows": null,
      "height": null,
      "justify_content": null,
      "justify_items": null,
      "left": null,
      "margin": null,
      "max_height": null,
      "max_width": null,
      "min_height": null,
      "min_width": null,
      "object_fit": null,
      "object_position": null,
      "order": null,
      "overflow": null,
      "overflow_x": null,
      "overflow_y": null,
      "padding": null,
      "right": null,
      "top": null,
      "visibility": null,
      "width": null
     }
    },
    "f98233055231457a962962b1cd3211ef": {
     "model_module": "@jupyter-widgets/base",
     "model_module_version": "1.2.0",
     "model_name": "LayoutModel",
     "state": {
      "_model_module": "@jupyter-widgets/base",
      "_model_module_version": "1.2.0",
      "_model_name": "LayoutModel",
      "_view_count": null,
      "_view_module": "@jupyter-widgets/base",
      "_view_module_version": "1.2.0",
      "_view_name": "LayoutView",
      "align_content": null,
      "align_items": null,
      "align_self": null,
      "border": null,
      "bottom": null,
      "display": null,
      "flex": null,
      "flex_flow": null,
      "grid_area": null,
      "grid_auto_columns": null,
      "grid_auto_flow": null,
      "grid_auto_rows": null,
      "grid_column": null,
      "grid_gap": null,
      "grid_row": null,
      "grid_template_areas": null,
      "grid_template_columns": null,
      "grid_template_rows": null,
      "height": null,
      "justify_content": null,
      "justify_items": null,
      "left": null,
      "margin": null,
      "max_height": null,
      "max_width": null,
      "min_height": null,
      "min_width": null,
      "object_fit": null,
      "object_position": null,
      "order": null,
      "overflow": null,
      "overflow_x": null,
      "overflow_y": null,
      "padding": null,
      "right": null,
      "top": null,
      "visibility": null,
      "width": null
     }
    },
    "f9eb586b1b2d49edb147eff277b38c30": {
     "model_module": "@jupyter-widgets/controls",
     "model_module_version": "1.5.0",
     "model_name": "DescriptionStyleModel",
     "state": {
      "_model_module": "@jupyter-widgets/controls",
      "_model_module_version": "1.5.0",
      "_model_name": "DescriptionStyleModel",
      "_view_count": null,
      "_view_module": "@jupyter-widgets/base",
      "_view_module_version": "1.2.0",
      "_view_name": "StyleView",
      "description_width": ""
     }
    },
    "fab656d532284d639dd26e15b93a462b": {
     "model_module": "@jupyter-widgets/base",
     "model_module_version": "1.2.0",
     "model_name": "LayoutModel",
     "state": {
      "_model_module": "@jupyter-widgets/base",
      "_model_module_version": "1.2.0",
      "_model_name": "LayoutModel",
      "_view_count": null,
      "_view_module": "@jupyter-widgets/base",
      "_view_module_version": "1.2.0",
      "_view_name": "LayoutView",
      "align_content": null,
      "align_items": null,
      "align_self": null,
      "border": null,
      "bottom": null,
      "display": null,
      "flex": null,
      "flex_flow": null,
      "grid_area": null,
      "grid_auto_columns": null,
      "grid_auto_flow": null,
      "grid_auto_rows": null,
      "grid_column": null,
      "grid_gap": null,
      "grid_row": null,
      "grid_template_areas": null,
      "grid_template_columns": null,
      "grid_template_rows": null,
      "height": null,
      "justify_content": null,
      "justify_items": null,
      "left": null,
      "margin": null,
      "max_height": null,
      "max_width": null,
      "min_height": null,
      "min_width": null,
      "object_fit": null,
      "object_position": null,
      "order": null,
      "overflow": null,
      "overflow_x": null,
      "overflow_y": null,
      "padding": null,
      "right": null,
      "top": null,
      "visibility": null,
      "width": null
     }
    },
    "fb0ff772b9a94eec82bc92e45baeda26": {
     "model_module": "@jupyter-widgets/base",
     "model_module_version": "1.2.0",
     "model_name": "LayoutModel",
     "state": {
      "_model_module": "@jupyter-widgets/base",
      "_model_module_version": "1.2.0",
      "_model_name": "LayoutModel",
      "_view_count": null,
      "_view_module": "@jupyter-widgets/base",
      "_view_module_version": "1.2.0",
      "_view_name": "LayoutView",
      "align_content": null,
      "align_items": null,
      "align_self": null,
      "border": null,
      "bottom": null,
      "display": null,
      "flex": null,
      "flex_flow": null,
      "grid_area": null,
      "grid_auto_columns": null,
      "grid_auto_flow": null,
      "grid_auto_rows": null,
      "grid_column": null,
      "grid_gap": null,
      "grid_row": null,
      "grid_template_areas": null,
      "grid_template_columns": null,
      "grid_template_rows": null,
      "height": null,
      "justify_content": null,
      "justify_items": null,
      "left": null,
      "margin": null,
      "max_height": null,
      "max_width": null,
      "min_height": null,
      "min_width": null,
      "object_fit": null,
      "object_position": null,
      "order": null,
      "overflow": null,
      "overflow_x": null,
      "overflow_y": null,
      "padding": null,
      "right": null,
      "top": null,
      "visibility": null,
      "width": null
     }
    },
    "fd706ab014a54621b9f6c44d3be2d281": {
     "model_module": "@jupyter-widgets/controls",
     "model_module_version": "1.5.0",
     "model_name": "ProgressStyleModel",
     "state": {
      "_model_module": "@jupyter-widgets/controls",
      "_model_module_version": "1.5.0",
      "_model_name": "ProgressStyleModel",
      "_view_count": null,
      "_view_module": "@jupyter-widgets/base",
      "_view_module_version": "1.2.0",
      "_view_name": "StyleView",
      "bar_color": null,
      "description_width": ""
     }
    },
    "fe03b89095cd45259cd4d8622b8e80fd": {
     "model_module": "@jupyter-widgets/base",
     "model_module_version": "1.2.0",
     "model_name": "LayoutModel",
     "state": {
      "_model_module": "@jupyter-widgets/base",
      "_model_module_version": "1.2.0",
      "_model_name": "LayoutModel",
      "_view_count": null,
      "_view_module": "@jupyter-widgets/base",
      "_view_module_version": "1.2.0",
      "_view_name": "LayoutView",
      "align_content": null,
      "align_items": null,
      "align_self": null,
      "border": null,
      "bottom": null,
      "display": null,
      "flex": null,
      "flex_flow": null,
      "grid_area": null,
      "grid_auto_columns": null,
      "grid_auto_flow": null,
      "grid_auto_rows": null,
      "grid_column": null,
      "grid_gap": null,
      "grid_row": null,
      "grid_template_areas": null,
      "grid_template_columns": null,
      "grid_template_rows": null,
      "height": null,
      "justify_content": null,
      "justify_items": null,
      "left": null,
      "margin": null,
      "max_height": null,
      "max_width": null,
      "min_height": null,
      "min_width": null,
      "object_fit": null,
      "object_position": null,
      "order": null,
      "overflow": null,
      "overflow_x": null,
      "overflow_y": null,
      "padding": null,
      "right": null,
      "top": null,
      "visibility": null,
      "width": null
     }
    }
   }
  }
 },
 "nbformat": 4,
 "nbformat_minor": 0
}
